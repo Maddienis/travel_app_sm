{
 "cells": [
  {
   "cell_type": "code",
   "execution_count": null,
   "metadata": {},
   "outputs": [],
   "source": [
    "import requests\n",
    "import pandas as pd\n",
    "import numpy as np\n",
    "from pandas.io.json import json_normalize\n",
    "import json, requests, pprint\n",
    "import ast"
   ]
  },
  {
   "cell_type": "code",
   "execution_count": null,
   "metadata": {},
   "outputs": [],
   "source": [
    "all_attractions = pd.read_csv('/Users/tristannisbet/Documents/SM/Dataframe/all_attractions.csv', index_col=[0])"
   ]
  },
  {
   "cell_type": "code",
   "execution_count": null,
   "metadata": {},
   "outputs": [],
   "source": [
    "all_attractions.head()"
   ]
  },
  {
   "cell_type": "code",
   "execution_count": null,
   "metadata": {},
   "outputs": [],
   "source": [
    "# This creates the column split_types with the values being a list\n",
    "# Starts as a string goes to a list\n",
    "all_attractions['split_types'] = [ast.literal_eval(x) for x in all_attractions.types]\n"
   ]
  },
  {
   "cell_type": "code",
   "execution_count": null,
   "metadata": {},
   "outputs": [],
   "source": [
    "# Convert the column into a dataframe with .apply(pd.Series)\n",
    "# Stack seperates all values into the dataframe\n",
    "# unique returns the unique values\n",
    "tourist_types = all_attractions['split_types'].apply(pd.Series).stack().unique()\n",
    "len(tourist_types)"
   ]
  },
  {
   "cell_type": "code",
   "execution_count": null,
   "metadata": {},
   "outputs": [],
   "source": [
    "# This takes the comnma seperated list and turns it to a \n",
    "# comma seperated string, with no quotes\n",
    "all_attractions['split_types_str'] = [','.join(x) for x in all_attractions.split_types]\n"
   ]
  },
  {
   "cell_type": "code",
   "execution_count": null,
   "metadata": {},
   "outputs": [],
   "source": [
    "# Get dummies \n",
    "dummies = all_attractions.split_types_str.str.get_dummies(sep=',')"
   ]
  },
  {
   "cell_type": "code",
   "execution_count": null,
   "metadata": {},
   "outputs": [],
   "source": [
    "dummies"
   ]
  },
  {
   "cell_type": "code",
   "execution_count": null,
   "metadata": {},
   "outputs": [],
   "source": [
    "dummies.sum()"
   ]
  },
  {
   "cell_type": "code",
   "execution_count": null,
   "metadata": {},
   "outputs": [],
   "source": [
    "dummies['total'] = dummies.sum(axis=1)"
   ]
  },
  {
   "cell_type": "code",
   "execution_count": null,
   "metadata": {},
   "outputs": [],
   "source": [
    "all_attractions = pd.concat([all_attractions, dummies], axis=1)\n",
    "\n",
    "all_attractions.head()"
   ]
  },
  {
   "cell_type": "code",
   "execution_count": null,
   "metadata": {},
   "outputs": [],
   "source": [
    "# Creating the list of types with country/city to use groupby\n",
    "type_col_names = dummies.columns.tolist()\n",
    "type_col_names.extend(['country', 'city'])"
   ]
  },
  {
   "cell_type": "code",
   "execution_count": null,
   "metadata": {},
   "outputs": [],
   "source": [
    "all_attractions[type_col_names]"
   ]
  },
  {
   "cell_type": "code",
   "execution_count": null,
   "metadata": {},
   "outputs": [],
   "source": [
    "# Sum the total number of attractions for each type, by country and city.\n",
    "attraction_count = all_attractions[type_col_names].groupby(['country', 'city']).sum()"
   ]
  },
  {
   "cell_type": "code",
   "execution_count": null,
   "metadata": {},
   "outputs": [],
   "source": [
    "attraction_count"
   ]
  },
  {
   "cell_type": "code",
   "execution_count": null,
   "metadata": {},
   "outputs": [],
   "source": [
    "# Count of attractions with rating over 4.5\n",
    "attraction_count['above_4.5'] = all_attractions[all_attractions['rating'] >= 4.5].groupby(['country', 'city'])['name'].count()\n"
   ]
  },
  {
   "cell_type": "code",
   "execution_count": null,
   "metadata": {},
   "outputs": [],
   "source": [
    "# Categories to split up attraction types\n",
    "history = ['country', 'city', 'art_gallery', 'library', 'museum', 'cemetery']\n",
    "place_of_worship = ['country', 'city', 'church', 'mosque', 'place_of_worship']\n",
    "outdoor = ['country', 'city','natural_feature', 'park']\n",
    "activity = ['country', 'city','aquarium', 'movie_theater', 'store', 'travel_agency', 'amusement_park', 'zoo']\n",
    "food = ['country', 'city', 'bar', 'cafe', 'food', 'restaurant']"
   ]
  },
  {
   "cell_type": "code",
   "execution_count": null,
   "metadata": {},
   "outputs": [],
   "source": [
    "# Creates a column with the total count of the different attraction categories\n",
    "attraction_count['history_count'] =  all_attractions[history].groupby(['country', 'city']).sum().sum(axis=1)\n",
    "attraction_count['place_of_worship_count'] =  all_attractions[place_of_worship].groupby(['country', 'city']).sum().sum(axis=1)\n",
    "attraction_count['outdoor_count'] =  all_attractions[outdoor].groupby(['country', 'city']).sum().sum(axis=1)\n",
    "attraction_count['activity_count'] =  all_attractions[activity].groupby(['country', 'city']).sum().sum(axis=1)\n",
    "attraction_count['food_count'] =  all_attractions[food].groupby(['country', 'city']).sum().sum(axis=1)\n"
   ]
  },
  {
   "cell_type": "code",
   "execution_count": null,
   "metadata": {},
   "outputs": [],
   "source": [
    "attraction_count"
   ]
  }
 ],
 "metadata": {
  "kernelspec": {
   "display_name": "Python 3",
   "language": "python",
   "name": "python3"
  },
  "language_info": {
   "codemirror_mode": {
    "name": "ipython",
    "version": 3
   },
   "file_extension": ".py",
   "mimetype": "text/x-python",
   "name": "python",
   "nbconvert_exporter": "python",
   "pygments_lexer": "ipython3",
   "version": "3.7.6"
  }
 },
 "nbformat": 4,
 "nbformat_minor": 4
}
