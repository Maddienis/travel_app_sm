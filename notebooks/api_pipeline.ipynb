{
 "cells": [
  {
   "cell_type": "code",
   "execution_count": null,
   "metadata": {},
   "outputs": [],
   "source": [
    "import pandas as pd\n",
    "import numpy as np\n",
    "import os\n",
    "import json, requests\n",
    "import time"
   ]
  },
  {
   "cell_type": "code",
   "execution_count": null,
   "metadata": {},
   "outputs": [],
   "source": [
    "city_country = pd.read_csv('/Users/tristannisbet/Documents/SM/Dataframe/city_country_separate.csv')"
   ]
  },
  {
   "cell_type": "code",
   "execution_count": null,
   "metadata": {},
   "outputs": [],
   "source": [
    "key = os.getenv('G_API_KEY')\n",
    "#base_url = 'https://maps.googleapis.com/maps/api/place/textsearch/json?language=en&key={}'\n",
    "#maxprice = 'https://maps.googleapis.com/maps/api/place/textsearch/json?language=en&key={}&query={}&minprice={}&maxprice={}'"
   ]
  },
  {
   "cell_type": "code",
   "execution_count": null,
   "metadata": {},
   "outputs": [],
   "source": [
    "urll = maxprice.format(key, query3.format('portland'), 2, 2)"
   ]
  },
  {
   "cell_type": "code",
   "execution_count": null,
   "metadata": {},
   "outputs": [],
   "source": [
    "query_dict = {'attractions': \"{}+points+of+interest\",\n",
    "              'restaurants': \"best+restaurants+in+{}\",\n",
    "             'restaurants_one': 'best+restaurants+in+{}&minprice=1&maxprice=1',\n",
    "             'restaurants_two': 'best+restaurants+in+{}&minprice=2&maxprice=2',\n",
    "             'restaurants_three': 'best+restaurants+in+{}&minprice=3&maxprice=3',\n",
    "             'restaurants_four': 'best+restaurants+in+{}&minprice=4&maxprice=4'} #build seperate query for min/max price \n",
    "city_list = city_country.iloc[0:2, :].copy()\n"
   ]
  },
  {
   "cell_type": "code",
   "execution_count": null,
   "metadata": {},
   "outputs": [],
   "source": [
    "print(list(query_dict.keys())[list(query_dict.values()).index('best+restaurants+in+{}&minprice=3&maxprice=3')])\n",
    "\n",
    "for table_name, query in query_dict.items():\n",
    "    if table_name == 'attractions':\n",
    "        print('YES')\n",
    "    else:\n",
    "        print('NO/')"
   ]
  },
  {
   "cell_type": "code",
   "execution_count": null,
   "metadata": {},
   "outputs": [],
   "source": [
    "query3 = query_dict['restaurants_three']\n",
    "#url_price = base_url.format(key) + '&query={}'.format(query3.format('portland'))"
   ]
  },
  {
   "cell_type": "code",
   "execution_count": null,
   "metadata": {},
   "outputs": [],
   "source": [
    "query_test = query_dict['attractions'], query_dict['restaurants_three']"
   ]
  },
  {
   "cell_type": "code",
   "execution_count": null,
   "metadata": {},
   "outputs": [],
   "source": [
    "#utils.py\n",
    "def format_city(city_list):\n",
    "    city_list.replace(' ', '+', regex=True, inplace=True)\n",
    "    return city_list"
   ]
  },
  {
   "cell_type": "code",
   "execution_count": null,
   "metadata": {},
   "outputs": [],
   "source": [
    "city_list = format_city(city_list)"
   ]
  },
  {
   "cell_type": "code",
   "execution_count": null,
   "metadata": {},
   "outputs": [],
   "source": [
    "for c in city_list.city:\n",
    "    print(type(c))"
   ]
  },
  {
   "cell_type": "code",
   "execution_count": null,
   "metadata": {},
   "outputs": [],
   "source": [
    "\n",
    "cc = city_list.loc[city_list['city'] == 'Hong+Kong', 'country'].item()\n",
    "print(cc)"
   ]
  },
  {
   "cell_type": "code",
   "execution_count": null,
   "metadata": {},
   "outputs": [],
   "source": [
    "base_url = 'https://maps.googleapis.com/maps/api/place/textsearch/json?language=en&key={}'\n",
    "\n",
    "def city_query_selection(city_df, query_dict):\n",
    "    for query in query_dict:\n",
    "        for city in city_df.city:\n",
    "            country = city_df.loc[city_df['city'] == city, 'country'].item()\n",
    "            id = city_df.loc[city_df['city'] == city, 'id'].item()\n",
    "            pipeline(city, query_dict[query], country, id, query_dict)\n",
    "\n",
    "    return \n",
    "\n",
    "\n",
    "# Pipeline - main.py\n",
    "def pipeline(city, query, country, id, query_dict):\n",
    "    url = build_url(city, query, country)\n",
    "    data = find_places_api(url)\n",
    "    table_name = find_table_name(query_dict, query)\n",
    "    df = create_df(data, city, country, id, table_name)\n",
    "    #write_db(df)\n",
    "    \n",
    "    return df\n",
    "\n",
    "\n",
    "def build_url(city, query, country):\n",
    "    base_url = 'https://maps.googleapis.com/maps/api/place/textsearch/json?language=en&key={}'\n",
    "    cc = [city, country]\n",
    "    cc = '+'.join(cc)\n",
    "    url = base_url.format(key) + '&query={}'.format(query.format(cc))\n",
    "    return url\n",
    "\n",
    "\n",
    "def make_next_page_url(results, base_url):\n",
    "    \n",
    "    return base_url.format(key) + '&pagetoken={}'.format(results['next_page_token'])\n",
    "\n",
    "\n",
    "def find_places_api(url, data=[]):\n",
    "    results = requests.get(url).json()\n",
    "    time.sleep(3)\n",
    "    data = data + results['results']\n",
    "    print(results.keys())\n",
    "    print(results['status'])\n",
    "    if 'next_page_token' not in results.keys() and results['status']=='OK':\n",
    "        print('no next')\n",
    "        return data\n",
    "    elif results['status']=='OK':\n",
    "        print('next')\n",
    "        new_url = make_next_page_url(results, base_url=base_url)\n",
    "        return find_places_api(new_url, data)\n",
    "    else:\n",
    "        return data \n",
    "\n",
    "def create_df(json_data, city, country, id, table_name):\n",
    "    df = pd.json_normalize(json_data)\n",
    "    df['city'] = city.replace('+', ' ')\n",
    "    df['country'] = country.replace('+', ' ')\n",
    "    df['id'] = id\n",
    "    df = column_selection(df, table_name)\n",
    "    return df\n",
    "\n",
    "\n",
    "def column_selection(df, table_name):\n",
    "    if table_name == 'attractions':\n",
    "        cols_to_keep = ['country', 'city', 'name', 'formatted_address',\n",
    "                        'rating', 'user_ratings_total', 'types',\n",
    "                        'geometry.location.lat', 'geometry.location.lng', 'place_id', 'id']\n",
    "    else:\n",
    "        cols_to_keep = ['country', 'city', 'name', 'formatted_address', 'price_level',\n",
    "                        'rating', 'user_ratings_total', 'types',\n",
    "                        'geometry.location.lat', 'geometry.location.lng', 'place_id', 'id']\n",
    "    \n",
    "    df = df[cols_to_keep].copy()\n",
    "    df.rename(columns={'formatted_address': 'address',\n",
    "    'geometry.location.lat': 'latitude', 'geometry.location.lng': 'longitude'}, inplace=True)\n",
    "    return df\n",
    "    \n",
    "    \n",
    "def find_table_name(query_dict, query):\n",
    "    table_name = (list(query_dict.keys())[list(query_dict.values()).index(query)])\n",
    "    \n",
    "    return table_name\n",
    "\n",
    "#db_connect.py\n",
    "def write_db(table_name, df):\n",
    "    df.to_sql(table_name, conn, if_exists=\"append\")\n",
    "    return \n",
    "\n",
    "\n",
    "# append data or delete and recreate when rerunning\n",
    "# error handling if write to db doesn't suceed report error back. "
   ]
  },
  {
   "cell_type": "code",
   "execution_count": null,
   "metadata": {},
   "outputs": [],
   "source": [
    "data = build_url(city_list.city[1], query3, city_list.country[1])"
   ]
  },
  {
   "cell_type": "code",
   "execution_count": null,
   "metadata": {},
   "outputs": [],
   "source": [
    "data"
   ]
  },
  {
   "cell_type": "code",
   "execution_count": null,
   "metadata": {},
   "outputs": [],
   "source": [
    "city_list.city[1]"
   ]
  },
  {
   "cell_type": "code",
   "execution_count": null,
   "metadata": {},
   "outputs": [],
   "source": [
    "huh = city_query_selection(city_list, query_dict, )"
   ]
  },
  {
   "cell_type": "code",
   "execution_count": null,
   "metadata": {},
   "outputs": [],
   "source": [
    "type(huh)"
   ]
  },
  {
   "cell_type": "code",
   "execution_count": null,
   "metadata": {},
   "outputs": [],
   "source": [
    "c = city_list.city[0]\n",
    "q = 'best+restaurants+in+{}'\n",
    "country = city_list.country[0]"
   ]
  },
  {
   "cell_type": "code",
   "execution_count": null,
   "metadata": {},
   "outputs": [],
   "source": [
    "url = build_url(c, q, country)"
   ]
  },
  {
   "cell_type": "code",
   "execution_count": null,
   "metadata": {},
   "outputs": [],
   "source": [
    "url"
   ]
  },
  {
   "cell_type": "code",
   "execution_count": null,
   "metadata": {},
   "outputs": [],
   "source": [
    "data = find_places_api(url)\n",
    "data"
   ]
  },
  {
   "cell_type": "code",
   "execution_count": null,
   "metadata": {},
   "outputs": [],
   "source": [
    "id = 5\n",
    "df5 = create_df(data, c, country, id, 'table')\n"
   ]
  },
  {
   "cell_type": "code",
   "execution_count": null,
   "metadata": {},
   "outputs": [],
   "source": [
    "print(q)"
   ]
  },
  {
   "cell_type": "code",
   "execution_count": null,
   "metadata": {},
   "outputs": [],
   "source": [
    "df5"
   ]
  },
  {
   "cell_type": "code",
   "execution_count": null,
   "metadata": {},
   "outputs": [],
   "source": [
    "tog = city_list.city[0]+city_list.country[0]"
   ]
  },
  {
   "cell_type": "code",
   "execution_count": null,
   "metadata": {},
   "outputs": [],
   "source": [
    "lst = [city_list.city[0], city_list.country[0]]"
   ]
  },
  {
   "cell_type": "code",
   "execution_count": null,
   "metadata": {},
   "outputs": [],
   "source": [
    "lst"
   ]
  },
  {
   "cell_type": "code",
   "execution_count": null,
   "metadata": {},
   "outputs": [],
   "source": [
    "lst = '+'.join(lst)"
   ]
  },
  {
   "cell_type": "code",
   "execution_count": null,
   "metadata": {},
   "outputs": [],
   "source": [
    "lst"
   ]
  },
  {
   "cell_type": "code",
   "execution_count": null,
   "metadata": {},
   "outputs": [],
   "source": []
  }
 ],
 "metadata": {
  "kernelspec": {
   "display_name": "Python 3",
   "language": "python",
   "name": "python3"
  },
  "language_info": {
   "codemirror_mode": {
    "name": "ipython",
    "version": 3
   },
   "file_extension": ".py",
   "mimetype": "text/x-python",
   "name": "python",
   "nbconvert_exporter": "python",
   "pygments_lexer": "ipython3",
   "version": "3.7.6"
  }
 },
 "nbformat": 4,
 "nbformat_minor": 4
}
