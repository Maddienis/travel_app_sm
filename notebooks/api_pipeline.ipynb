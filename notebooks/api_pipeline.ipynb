{
 "cells": [
  {
   "cell_type": "code",
   "execution_count": null,
   "metadata": {},
   "outputs": [],
   "source": [
    "import pandas as pd\n",
    "import numpy as np\n",
    "import os\n",
    "import json, requests\n",
    "import time"
   ]
  },
  {
   "cell_type": "code",
   "execution_count": null,
   "metadata": {},
   "outputs": [],
   "source": [
    "city_country = pd.read_csv('/Users/tristannisbet/Documents/SM/Dataframe/city_country_separate.csv')"
   ]
  },
  {
   "cell_type": "code",
   "execution_count": null,
   "metadata": {},
   "outputs": [],
   "source": [
    "key = os.getenv('G_API_KEY')\n",
    "base_url = 'https://maps.googleapis.com/maps/api/place/textsearch/json?language=en&key={}'\n",
    "maxprice = 'https://maps.googleapis.com/maps/api/place/textsearch/json?language=en&key={}&query={}&minprice={}&maxprice={}'"
   ]
  },
  {
   "cell_type": "code",
   "execution_count": null,
   "metadata": {},
   "outputs": [],
   "source": [
    "urll = maxprice.format(key, query.format('portland'), 2, 2)"
   ]
  },
  {
   "cell_type": "code",
   "execution_count": null,
   "metadata": {},
   "outputs": [],
   "source": [
    "urll"
   ]
  },
  {
   "cell_type": "code",
   "execution_count": null,
   "metadata": {},
   "outputs": [],
   "source": [
    "query_dict = {'attractions': \"{}+points+of+interest\",\n",
    "              'restaurants': \"best+restaurants+in+{}\",\n",
    "             'restaurants_price': 'best+restaurants+in+{}&minprice={}&maxprice={}'} #build seperate query for min/max price \n",
    "city_list = city_country.iloc[0:2, :].copy()\n"
   ]
  },
  {
   "cell_type": "code",
   "execution_count": null,
   "metadata": {},
   "outputs": [],
   "source": [
    "url_price = base_url.format(key) + '&query={}'.format(query3.format('portland', 2, 2))"
   ]
  },
  {
   "cell_type": "code",
   "execution_count": null,
   "metadata": {},
   "outputs": [],
   "source": [
    "url_price"
   ]
  },
  {
   "cell_type": "code",
   "execution_count": null,
   "metadata": {},
   "outputs": [],
   "source": [
    "city_list.replace(' ', '+', regex=True, inplace=True)"
   ]
  },
  {
   "cell_type": "code",
   "execution_count": null,
   "metadata": {},
   "outputs": [],
   "source": [
    "city_list"
   ]
  },
  {
   "cell_type": "code",
   "execution_count": null,
   "metadata": {},
   "outputs": [],
   "source": [
    "q = build_query('Portland', query_dict['restaurants_price'])"
   ]
  },
  {
   "cell_type": "code",
   "execution_count": null,
   "metadata": {},
   "outputs": [],
   "source": [
    "def city_query_selection(city_list, query_dict):\n",
    "    for city in city_list.city:\n",
    "        for query in query_dict:\n",
    "            pipeline(city, query_dict[query])\n",
    "            \n",
    "    return\n",
    "\n",
    "def pipeline(city, query):\n",
    "    url = build_query(city, query)\n",
    "    data = find_places_api(url)\n",
    "    df = create_df(data)\n",
    "    \n",
    "    return df\n",
    "\n",
    "\n",
    "def build_query(city, query):\n",
    "    if 'maxprice' in query:\n",
    "        k = 1\n",
    "        while k <= 4:\n",
    "            url = base_url.format(key) + '&query={}'.format(query.format(city, k, k))\n",
    "            k += 1 \n",
    "            # DO I need a return for each k? \n",
    "    else:\n",
    "        url = base_url.format(key) + '&query={}'.format(query.format(city))\n",
    "    return query\n",
    "\n",
    "\n",
    "def make_next_url(results, base_url):\n",
    "  return base_url.format(key) + '&pagetoken={}'.format(results['next_page_token'])\n",
    "\n",
    "def find_places_api(url, data=[]):\n",
    "  print(url)\n",
    "  results = requests.get(url).json()\n",
    "  time.sleep(3)\n",
    "  data = data + results['results']\n",
    "  print(results.keys())\n",
    "  print(results['status'])\n",
    "  if 'next_page_token' not in results.keys() and results['status']=='OK':\n",
    "    print('no next')\n",
    "    return data\n",
    "  elif results['status']=='OK':\n",
    "    print('next')\n",
    "    new_url = make_next_url(results, base_url=base_url)\n",
    "    return find_places_api(new_url, data)\n",
    "  else:\n",
    "    return data \n",
    "\n",
    "def create_df(json_data, city):\n",
    "    #find_places_api()\n",
    "    df = pd.json_normalize(json_data)\n",
    "    print('Inside create df', city)\n",
    "    city.replace('+', ' ')\n",
    "    df['city'] = city\n",
    "    #df = column_selection(df)\n",
    "    # SEND TO COLUMN SELECTION raw_to_df.py\n",
    "    return df\n",
    "\n",
    "def column_selection(df):\n",
    "    cols_to_keep = ['country', 'city', 'name', 'formatted_address',\n",
    "    'price_level', 'rating', 'user_ratings_total', 'types',\n",
    "    'geometry.location.lat', 'geometry.location.lng', 'place_id']\n",
    "    \n",
    "    df = df[cols_to_keep]\n",
    "    df.rename(columns={'formatted_address': 'address',\n",
    "    'geometry.location.lat': 'latitude', 'geometry.location.lng': 'longitude'}, inplace=True)\n",
    "    return df\n",
    "    \n",
    "\n",
    "    \n",
    "def table_name():\n",
    "    \n",
    "    return\n",
    "\n",
    "def write_db(table_name, df):\n",
    "    df.to_sql(table_name, conn, if_exists=\"append\")\n",
    "    return \n",
    "# append data or delete and recreate when rerunning"
   ]
  },
  {
   "cell_type": "code",
   "execution_count": null,
   "metadata": {},
   "outputs": [],
   "source": []
  }
 ],
 "metadata": {
  "kernelspec": {
   "display_name": "Python 3",
   "language": "python",
   "name": "python3"
  },
  "language_info": {
   "codemirror_mode": {
    "name": "ipython",
    "version": 3
   },
   "file_extension": ".py",
   "mimetype": "text/x-python",
   "name": "python",
   "nbconvert_exporter": "python",
   "pygments_lexer": "ipython3",
   "version": "3.7.6"
  }
 },
 "nbformat": 4,
 "nbformat_minor": 4
}
