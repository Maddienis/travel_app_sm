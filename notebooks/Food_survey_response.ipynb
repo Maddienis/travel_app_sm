{
 "cells": [
  {
   "cell_type": "code",
   "execution_count": null,
   "metadata": {},
   "outputs": [],
   "source": [
    "import pandas as pd\n",
    "import numpy as np\n",
    "import seaborn as sns\n",
    "from matplotlib import pyplot as plt"
   ]
  },
  {
   "cell_type": "code",
   "execution_count": null,
   "metadata": {},
   "outputs": [],
   "source": [
    "df = pd.read_csv('/Users/tristannisbet/Documents/SM/survey_responses.csv')"
   ]
  },
  {
   "cell_type": "code",
   "execution_count": null,
   "metadata": {},
   "outputs": [],
   "source": [
    "df.rename(columns = {'What country are you from? ': 'nationality', 'Age Range': 'age', 'Gender': 'gender',\n",
    "                    '1. Choose your top favorite 3-5 cities you have traveled to that are on this list.  - Favorite City #1': 'favorite_city_one',\n",
    "                    '2. Favorite city #2': 'favorite_city_two', '3. Favorite city #3': 'favorite_city_three',\n",
    "                    '4. Favorite city #4': 'favorite_city_four', '5. Favorite city #5': 'favorite_city_five',\n",
    "                    \"6. If there's a city you have been and loved that is not on this list, add it below. \": 'extra_favorite',\n",
    "                    \"7. What cities on this list have you been to and not enjoyed?   - Least favorite city #1\": 'least_favorite_one',\n",
    "                    '8. Least favorite city #2': 'least_favorite_two', \n",
    "                    \"9. If there's a city you have been to and haven't liked that is not on this list, add it below\": 'extra_least_favorite',\n",
    "                    \"What price range of restaurant do you eat at when you travel? [Price level: 1 (Fast/Cheap Eats)]\": 'food_one',\n",
    "                    \"What price range of restaurant do you eat at when you travel? [Price level: 2 (Casual Dining)]\": 'food_two',\n",
    "                    \"What price range of restaurant do you eat at when you travel? [Price level: 3 (Upscale Dining)]\": 'food_three',\n",
    "                    \"What price range of restaurant do you eat at when you travel? [Price level: 4 (Fine Dining/High End)]\": 'food_four',\n",
    "                    \"From the following types of tourist attractions, which ones are you likely to go do while traveling? [Art Gallery]\": 'art_gallery',\n",
    "                    \"From the following types of tourist attractions, which ones are you likely to go do while traveling? [Library]\": 'library',\n",
    "                    \"From the following types of tourist attractions, which ones are you likely to go do while traveling? [Museum ]\": 'museum',\n",
    "                    \"From the following types of tourist attractions, which ones are you likely to go do while traveling? [Aquarium]\": 'aquarium',\n",
    "                    \"From the following types of tourist attractions, which ones are you likely to go do while traveling? [Amusement Park ]\": 'amusement_park',\n",
    "                    \"From the following types of tourist attractions, which ones are you likely to go do while traveling? [Zoo]\": 'zoo',\n",
    "                    \"From the following types of tourist attractions, which ones are you likely to go do while traveling? [Movie Theater]\": 'movie_theater',\n",
    "                    \"From the following types of tourist attractions, which ones are you likely to go do while traveling? [Mall / Souvenir shop ]\": 'store',\n",
    "                    \"From the following types of tourist attractions, which ones are you likely to go do while traveling? [Park ]\": 'park',\n",
    "                    \"From the following types of tourist attractions, which ones are you likely to go do while traveling? [Natural Feature / Beach]\": 'natural_feature',\n",
    "                    \"From the following types of tourist attractions, which ones are you likely to go do while traveling? [Place of Worship (Church/Temple)]\": 'place_of_worship'}, inplace=True )"
   ]
  },
  {
   "cell_type": "code",
   "execution_count": null,
   "metadata": {},
   "outputs": [],
   "source": [
    "df"
   ]
  },
  {
   "cell_type": "code",
   "execution_count": null,
   "metadata": {},
   "outputs": [],
   "source": [
    "df.fillna('None', inplace=True)\n",
    "df.drop(columns=['Timestamp', 'extra_favorite', 'extra_least_favorite'], inplace=True)"
   ]
  },
  {
   "cell_type": "code",
   "execution_count": null,
   "metadata": {},
   "outputs": [],
   "source": [
    "df.columns"
   ]
  },
  {
   "cell_type": "code",
   "execution_count": null,
   "metadata": {},
   "outputs": [],
   "source": [
    "df_food = df[['nationality', 'age', 'gender', 'food_one', 'food_two', 'food_three', 'food_four' ]]\n",
    "df_food"
   ]
  },
  {
   "cell_type": "code",
   "execution_count": null,
   "metadata": {},
   "outputs": [],
   "source": []
  },
  {
   "cell_type": "code",
   "execution_count": null,
   "metadata": {},
   "outputs": [],
   "source": [
    "df_food.food_one.astype('category').cat.codes"
   ]
  },
  {
   "cell_type": "code",
   "execution_count": null,
   "metadata": {},
   "outputs": [],
   "source": [
    "replace_map = {'Never': 0, 'Rarely': 1, 'Sometimes': 2, 'Often': 3, 'Always': 4}\n",
    "\n",
    "df_food_replace = df_food.replace(replace_map)\n"
   ]
  },
  {
   "cell_type": "code",
   "execution_count": null,
   "metadata": {},
   "outputs": [],
   "source": [
    "sample = df_food_replace.head().copy()"
   ]
  },
  {
   "cell_type": "code",
   "execution_count": null,
   "metadata": {},
   "outputs": [],
   "source": [
    "sample.drop(columns=['nationality', 'age', 'gender'], inplace=True)"
   ]
  },
  {
   "cell_type": "code",
   "execution_count": null,
   "metadata": {},
   "outputs": [],
   "source": [
    "import matplotlib.pyplot as plt\n",
    "import pandas as pd\n",
    "plt.style.use('ggplot')\n",
    "ax = sample.head(1).transpose().plot(kind='bar', figsize=(10, 8), legend=True, fontsize=12)\n",
    "ax.set_xlabel(\"price level\", fontsize=12)\n",
    "ax.set_ylabel(\"frequency\", fontsize=12)\n",
    "plt.show()"
   ]
  },
  {
   "cell_type": "code",
   "execution_count": null,
   "metadata": {},
   "outputs": [],
   "source": [
    "tt = sample.transpose()"
   ]
  },
  {
   "cell_type": "code",
   "execution_count": null,
   "metadata": {},
   "outputs": [],
   "source": [
    "sns.plot(kind=bar)"
   ]
  },
  {
   "cell_type": "code",
   "execution_count": null,
   "metadata": {},
   "outputs": [],
   "source": [
    "tt"
   ]
  },
  {
   "cell_type": "code",
   "execution_count": null,
   "metadata": {},
   "outputs": [],
   "source": [
    "sample.reset_index(inplace=True)"
   ]
  },
  {
   "cell_type": "code",
   "execution_count": null,
   "metadata": {},
   "outputs": [],
   "source": [
    "sample"
   ]
  },
  {
   "cell_type": "code",
   "execution_count": null,
   "metadata": {},
   "outputs": [],
   "source": []
  }
 ],
 "metadata": {
  "kernelspec": {
   "display_name": "Python 3",
   "language": "python",
   "name": "python3"
  },
  "language_info": {
   "codemirror_mode": {
    "name": "ipython",
    "version": 3
   },
   "file_extension": ".py",
   "mimetype": "text/x-python",
   "name": "python",
   "nbconvert_exporter": "python",
   "pygments_lexer": "ipython3",
   "version": "3.7.6"
  }
 },
 "nbformat": 4,
 "nbformat_minor": 4
}
