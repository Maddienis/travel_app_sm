{
 "cells": [
  {
   "cell_type": "code",
   "execution_count": null,
   "metadata": {},
   "outputs": [],
   "source": [
    "import pandas as pd\n",
    "import numpy as np\n",
    "import seaborn as sns\n",
    "from matplotlib import pyplot as plt\n",
    "from sklearn import preprocessing as pp\n",
    "import sqlite3\n",
    "from sklearn.metrics.pairwise import cosine_similarity"
   ]
  },
  {
   "cell_type": "code",
   "execution_count": null,
   "metadata": {},
   "outputs": [],
   "source": [
    "df = pd.read_csv('/Users/tristannisbet/Documents/SM/survey_responses.csv')"
   ]
  },
  {
   "cell_type": "code",
   "execution_count": null,
   "metadata": {},
   "outputs": [],
   "source": [
    "df.rename(columns = {'What country are you from? ': 'nationality', 'Age Range': 'age', 'Gender': 'gender',\n",
    "                    '1. Choose your top favorite 3-5 cities you have traveled to that are on this list.  - Favorite City #1': 'favorite_city_one',\n",
    "                    '2. Favorite city #2': 'favorite_city_two', '3. Favorite city #3': 'favorite_city_three',\n",
    "                    '4. Favorite city #4': 'favorite_city_four', '5. Favorite city #5': 'favorite_city_five',\n",
    "                    \"6. If there's a city you have been and loved that is not on this list, add it below. \": 'extra_favorite',\n",
    "                    \"7. What cities on this list have you been to and not enjoyed?   - Least favorite city #1\": 'least_favorite_one',\n",
    "                    '8. Least favorite city #2': 'least_favorite_two', \n",
    "                    \"9. If there's a city you have been to and haven't liked that is not on this list, add it below\": 'extra_least_favorite',\n",
    "                    \"What price range of restaurant do you eat at when you travel? [Price level: 1 (Fast/Cheap Eats)]\": 'food_one',\n",
    "                    \"What price range of restaurant do you eat at when you travel? [Price level: 2 (Casual Dining)]\": 'food_two',\n",
    "                    \"What price range of restaurant do you eat at when you travel? [Price level: 3 (Upscale Dining)]\": 'food_three',\n",
    "                    \"What price range of restaurant do you eat at when you travel? [Price level: 4 (Fine Dining/High End)]\": 'food_four',\n",
    "                    \"From the following types of tourist attractions, which ones are you likely to go do while traveling? [Art Gallery]\": 'art_gallery',\n",
    "                    \"From the following types of tourist attractions, which ones are you likely to go do while traveling? [Library]\": 'library',\n",
    "                    \"From the following types of tourist attractions, which ones are you likely to go do while traveling? [Museum ]\": 'museum',\n",
    "                    \"From the following types of tourist attractions, which ones are you likely to go do while traveling? [Aquarium]\": 'aquarium',\n",
    "                    \"From the following types of tourist attractions, which ones are you likely to go do while traveling? [Amusement Park ]\": 'amusement_park',\n",
    "                    \"From the following types of tourist attractions, which ones are you likely to go do while traveling? [Zoo]\": 'zoo',\n",
    "                    \"From the following types of tourist attractions, which ones are you likely to go do while traveling? [Movie Theater]\": 'movie_theater',\n",
    "                    \"From the following types of tourist attractions, which ones are you likely to go do while traveling? [Mall / Souvenir shop ]\": 'store',\n",
    "                    \"From the following types of tourist attractions, which ones are you likely to go do while traveling? [Park ]\": 'park',\n",
    "                    \"From the following types of tourist attractions, which ones are you likely to go do while traveling? [Natural Feature / Beach]\": 'natural_feature',\n",
    "                    \"From the following types of tourist attractions, which ones are you likely to go do while traveling? [Place of Worship (Church/Temple)]\": 'place_of_worship'}, inplace=True )"
   ]
  },
  {
   "cell_type": "code",
   "execution_count": null,
   "metadata": {},
   "outputs": [],
   "source": [
    "def get_df(table_name):\n",
    "    try:\n",
    "        conn = sqlite3.connect('/Users/tristannisbet/Documents/travel_app/places.db')\n",
    "\n",
    "    except Exception as e:\n",
    "        print('Error durring connection: ', str(e))\n",
    "    \n",
    "    sql = \"\"\"select * from {}\"\"\".format(table_name)\n",
    "    df = pd.read_sql_query(sql, conn)\n",
    "\n",
    "    return df"
   ]
  },
  {
   "cell_type": "code",
   "execution_count": null,
   "metadata": {},
   "outputs": [],
   "source": [
    "one = get_df('restaurants_one')\n",
    "two = get_df('restaurants_two')\n",
    "three = get_df('restaurants_three')\n",
    "four = get_df('restaurants_four')\n",
    "top_rest = get_df('restaurants')\n",
    "all_price = pd.concat([one, two, three, four, top_rest], axis =0)"
   ]
  },
  {
   "cell_type": "code",
   "execution_count": null,
   "metadata": {},
   "outputs": [],
   "source": [
    "cities = get_df('city_country')"
   ]
  },
  {
   "cell_type": "code",
   "execution_count": null,
   "metadata": {},
   "outputs": [],
   "source": [
    "lst = cities.city\n",
    "trying_df = pd.DataFrame(lst)"
   ]
  },
  {
   "cell_type": "code",
   "execution_count": null,
   "metadata": {},
   "outputs": [],
   "source": [
    "trying_df"
   ]
  },
  {
   "cell_type": "code",
   "execution_count": null,
   "metadata": {},
   "outputs": [],
   "source": [
    "lst[0]+'0'"
   ]
  },
  {
   "cell_type": "code",
   "execution_count": null,
   "metadata": {},
   "outputs": [],
   "source": [
    "lst5 = []\n",
    "for i in range(153):\n",
    "    for c in lst:\n",
    "\n",
    "        a = c + \"_\" + str(i)\n",
    "        lst5.append(a)\n",
    "    "
   ]
  },
  {
   "cell_type": "code",
   "execution_count": null,
   "metadata": {},
   "outputs": [],
   "source": [
    "lst5"
   ]
  },
  {
   "cell_type": "code",
   "execution_count": null,
   "metadata": {},
   "outputs": [],
   "source": []
  },
  {
   "cell_type": "code",
   "execution_count": null,
   "metadata": {},
   "outputs": [],
   "source": [
    "new5 = pd.DataFrame(lst5)\n",
    "new5"
   ]
  },
  {
   "cell_type": "code",
   "execution_count": null,
   "metadata": {},
   "outputs": [],
   "source": [
    "a=test[0].split(\"_\")\n",
    "a"
   ]
  },
  {
   "cell_type": "code",
   "execution_count": null,
   "metadata": {},
   "outputs": [],
   "source": [
    "split = new5[0].str.split(\"_\", n = 1, expand = True)\n",
    "split"
   ]
  },
  {
   "cell_type": "code",
   "execution_count": null,
   "metadata": {},
   "outputs": [],
   "source": [
    "test[0]"
   ]
  },
  {
   "cell_type": "code",
   "execution_count": null,
   "metadata": {},
   "outputs": [],
   "source": [
    "test = new5.iloc[16176].copy()\n",
    "test2 = test[0][:-1]\n",
    "test2"
   ]
  },
  {
   "cell_type": "code",
   "execution_count": null,
   "metadata": {},
   "outputs": [],
   "source": [
    "print(str(test[0]))"
   ]
  },
  {
   "cell_type": "code",
   "execution_count": null,
   "metadata": {},
   "outputs": [],
   "source": [
    "type(test)"
   ]
  },
  {
   "cell_type": "code",
   "execution_count": null,
   "metadata": {},
   "outputs": [],
   "source": [
    "df = df.add_suffix('_some_suffix')\n"
   ]
  },
  {
   "cell_type": "code",
   "execution_count": null,
   "metadata": {},
   "outputs": [],
   "source": [
    "df"
   ]
  },
  {
   "cell_type": "code",
   "execution_count": null,
   "metadata": {},
   "outputs": [],
   "source": [
    "df.fillna('None', inplace=True)\n",
    "df.drop(columns=['Timestamp', 'extra_favorite', 'extra_least_favorite'], inplace=True)"
   ]
  },
  {
   "cell_type": "code",
   "execution_count": null,
   "metadata": {},
   "outputs": [],
   "source": [
    "df.columns"
   ]
  },
  {
   "cell_type": "code",
   "execution_count": null,
   "metadata": {},
   "outputs": [],
   "source": [
    "df"
   ]
  },
  {
   "cell_type": "markdown",
   "metadata": {},
   "source": [
    "## Attraction similarity\n",
    "User and city "
   ]
  },
  {
   "cell_type": "code",
   "execution_count": null,
   "metadata": {},
   "outputs": [],
   "source": [
    "city_attraction = pd.read_csv('/Users/tristannisbet/Documents/SM/city_attraction_only.csv', index_col=0)\n",
    "city_attraction"
   ]
  },
  {
   "cell_type": "code",
   "execution_count": null,
   "metadata": {},
   "outputs": [],
   "source": [
    "city_attraction.columns"
   ]
  },
  {
   "cell_type": "code",
   "execution_count": null,
   "metadata": {},
   "outputs": [],
   "source": [
    "le = pp.LabelEncoder()\n",
    "city_attraction['label_id'] = le.fit_transform(city_attraction.city)\n",
    "city_attraction"
   ]
  },
  {
   "cell_type": "code",
   "execution_count": null,
   "metadata": {},
   "outputs": [],
   "source": [
    "city_attraction.sort_values('label_id', inplace=True)\n",
    "city_attraction_clean = city_attraction.copy()\n",
    "city_attraction_clean.set_index('label_id', inplace=True)\n",
    "city_attraction_clean.drop(columns=['city', 'id'], inplace=True)\n",
    "city_attraction_clean"
   ]
  },
  {
   "cell_type": "code",
   "execution_count": null,
   "metadata": {},
   "outputs": [],
   "source": [
    "user_attraction = df[['nationality', 'age', 'gender', 'amusement_park', 'museum', 'park', 'art_gallery', 'aquarium', 'zoo', \n",
    "                     'library', 'movie_theater', 'natural_feature', 'place_of_worship', 'store']].copy()\n",
    "user_attraction"
   ]
  },
  {
   "cell_type": "code",
   "execution_count": null,
   "metadata": {},
   "outputs": [],
   "source": [
    "user_attraction.drop(columns=['nationality', 'age', 'gender'], inplace=True)"
   ]
  },
  {
   "cell_type": "code",
   "execution_count": null,
   "metadata": {},
   "outputs": [],
   "source": [
    "df_attractions.art_gallery.value_counts()"
   ]
  },
  {
   "cell_type": "code",
   "execution_count": null,
   "metadata": {},
   "outputs": [],
   "source": [
    "replace_map = {'1 ( Would NOT go)': 1, '2': 2, '3': 3, '4 (Definitely would go)': 4}\n",
    "\n",
    "user_attraction = user_attraction.replace(replace_map)"
   ]
  },
  {
   "cell_type": "code",
   "execution_count": null,
   "metadata": {},
   "outputs": [],
   "source": [
    "user_attraction"
   ]
  },
  {
   "cell_type": "code",
   "execution_count": null,
   "metadata": {},
   "outputs": [],
   "source": [
    "normalized_user_a = pd.DataFrame(pp.normalize(user_attraction))\n",
    "normalized_user_a"
   ]
  },
  {
   "cell_type": "code",
   "execution_count": null,
   "metadata": {},
   "outputs": [],
   "source": [
    "normalized_city_a = pd.DataFrame(pp.normalize(city_attraction_clean))\n",
    "normalized_city_a"
   ]
  },
  {
   "cell_type": "code",
   "execution_count": null,
   "metadata": {},
   "outputs": [],
   "source": [
    "cosine_sim_a = pd.DataFrame(cosine_similarity(normalized_user_a, normalized_city_a))\n",
    "cosine_sim_a\n"
   ]
  },
  {
   "cell_type": "code",
   "execution_count": null,
   "metadata": {},
   "outputs": [],
   "source": [
    "df_food = df[['nationality', 'age', 'gender', 'food_one', 'food_two', 'food_three', 'food_four' ]]\n",
    "df_food"
   ]
  },
  {
   "cell_type": "code",
   "execution_count": null,
   "metadata": {},
   "outputs": [],
   "source": []
  },
  {
   "cell_type": "code",
   "execution_count": null,
   "metadata": {},
   "outputs": [],
   "source": [
    "replace_map = {'Never': 0, 'Rarely': 1, 'Sometimes': 2, 'Often': 3, 'Always': 4}\n",
    "\n",
    "df_food_replace = df_food.replace(replace_map)\n"
   ]
  },
  {
   "cell_type": "code",
   "execution_count": null,
   "metadata": {},
   "outputs": [],
   "source": [
    "df_food_replace"
   ]
  },
  {
   "cell_type": "code",
   "execution_count": null,
   "metadata": {},
   "outputs": [],
   "source": [
    "df_food_replace.drop(columns=['nationality', 'age', 'gender'], inplace=True)\n"
   ]
  },
  {
   "cell_type": "code",
   "execution_count": null,
   "metadata": {},
   "outputs": [],
   "source": [
    "normalized = preprocessing.normalize(df_food_replace)\n"
   ]
  },
  {
   "cell_type": "code",
   "execution_count": null,
   "metadata": {},
   "outputs": [],
   "source": [
    "normalized_food_user = pd.DataFrame(normalized)\n",
    "normalized_food_user"
   ]
  },
  {
   "cell_type": "code",
   "execution_count": null,
   "metadata": {},
   "outputs": [],
   "source": [
    "sample = df_food_replace.head().copy()\n",
    "sample2 = normalized_food_user.head().copy()"
   ]
  },
  {
   "cell_type": "code",
   "execution_count": null,
   "metadata": {},
   "outputs": [],
   "source": [
    "sample2.reset_index(drop=False, inplace=True)"
   ]
  },
  {
   "cell_type": "code",
   "execution_count": null,
   "metadata": {},
   "outputs": [],
   "source": [
    "sample2"
   ]
  },
  {
   "cell_type": "code",
   "execution_count": null,
   "metadata": {},
   "outputs": [],
   "source": [
    "sample2.rename(columns={'index':'user',0:'food_1', 1:\"food_2\", 2:\"food_3\", 3:'food_4'}, inplace=True)"
   ]
  },
  {
   "cell_type": "code",
   "execution_count": null,
   "metadata": {},
   "outputs": [],
   "source": [
    "sample2"
   ]
  },
  {
   "cell_type": "code",
   "execution_count": null,
   "metadata": {},
   "outputs": [],
   "source": [
    "\n",
    "melted = pd.melt(sample2, id_vars =['user'], value_vars =['food_1', 'food_2', 'food_3', 'food_4']) \n",
    "melted.sort_values(['user', 'variable'], inplace=True)"
   ]
  },
  {
   "cell_type": "code",
   "execution_count": null,
   "metadata": {},
   "outputs": [],
   "source": [
    "melted"
   ]
  },
  {
   "cell_type": "code",
   "execution_count": null,
   "metadata": {},
   "outputs": [],
   "source": [
    "g = sns.FacetGrid(melted, col=\"user\", height=5, aspect=.7)\n",
    "g.map(sns.barplot, 'variable', 'value' );"
   ]
  },
  {
   "cell_type": "code",
   "execution_count": null,
   "metadata": {},
   "outputs": [],
   "source": [
    "user2 = all_price[all_price['city'].isin(['Sydney', 'London', 'Dublin', 'Prague', 'Rome'])]\n",
    "g = sns.FacetGrid(user2, col = \"city\")\n",
    "g.map(plt.hist, \"price_level\")\n",
    "plt.show()"
   ]
  },
  {
   "cell_type": "code",
   "execution_count": null,
   "metadata": {},
   "outputs": [],
   "source": [
    "user4 = all_price[all_price['city'].isin(['Denpasar', 'Shanghai', 'Kyoto', 'New York City', 'Vancouver'])]\n",
    "g = sns.FacetGrid(user4, col = \"city\")\n",
    "g.map(plt.hist, \"price_level\")\n",
    "plt.show()"
   ]
  },
  {
   "cell_type": "code",
   "execution_count": null,
   "metadata": {},
   "outputs": [],
   "source": [
    "# User 2 top fav: Sydney, London, Dublin\n",
    "# User 4 Denpasar, Shanghai, Kyoto, New York City, Vancouver\n",
    "df"
   ]
  },
  {
   "cell_type": "code",
   "execution_count": null,
   "metadata": {},
   "outputs": [],
   "source": [
    "import matplotlib.pyplot as plt\n",
    "import pandas as pd\n",
    "plt.style.use('ggplot')\n",
    "ax = sample.head(1).transpose().plot(kind='bar', figsize=(10, 8), legend=True, fontsize=12)\n",
    "ax.set_xlabel(\"price level\", fontsize=12)\n",
    "ax.set_ylabel(\"frequency\", fontsize=12)\n",
    "plt.show()"
   ]
  },
  {
   "cell_type": "code",
   "execution_count": null,
   "metadata": {},
   "outputs": [],
   "source": [
    "tt = sample2.transpose()"
   ]
  },
  {
   "cell_type": "code",
   "execution_count": null,
   "metadata": {},
   "outputs": [],
   "source": [
    "sns.plot(tt,kind=bar)"
   ]
  },
  {
   "cell_type": "code",
   "execution_count": null,
   "metadata": {},
   "outputs": [],
   "source": [
    "tt"
   ]
  },
  {
   "cell_type": "code",
   "execution_count": null,
   "metadata": {},
   "outputs": [],
   "source": [
    "sample.reset_index(inplace=True)"
   ]
  },
  {
   "cell_type": "code",
   "execution_count": null,
   "metadata": {},
   "outputs": [],
   "source": [
    "sample"
   ]
  },
  {
   "cell_type": "code",
   "execution_count": null,
   "metadata": {},
   "outputs": [],
   "source": []
  }
 ],
 "metadata": {
  "kernelspec": {
   "display_name": "Python 3",
   "language": "python",
   "name": "python3"
  },
  "language_info": {
   "codemirror_mode": {
    "name": "ipython",
    "version": 3
   },
   "file_extension": ".py",
   "mimetype": "text/x-python",
   "name": "python",
   "nbconvert_exporter": "python",
   "pygments_lexer": "ipython3",
   "version": "3.7.6"
  }
 },
 "nbformat": 4,
 "nbformat_minor": 4
}
