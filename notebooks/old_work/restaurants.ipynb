{
 "cells": [
  {
   "cell_type": "code",
   "execution_count": null,
   "metadata": {},
   "outputs": [],
   "source": [
    "import pandas as pd\n",
    "import numpy as np\n",
    "from pandas.io.json import json_normalize\n",
    "import json, requests, pprint"
   ]
  },
  {
   "cell_type": "code",
   "execution_count": null,
   "metadata": {},
   "outputs": [],
   "source": [
    "food = pd.read_csv('/Users/tristannisbet/Documents/SM/Dataframe/all_restaurants2.csv',  index_col=[0])\n"
   ]
  },
  {
   "cell_type": "code",
   "execution_count": null,
   "metadata": {},
   "outputs": [],
   "source": [
    "food.head()"
   ]
  },
  {
   "cell_type": "code",
   "execution_count": null,
   "metadata": {},
   "outputs": [],
   "source": [
    "#Create a new column with the average\n",
    "food['avg_rating'] = food.groupby(['country','city', 'price_level'])['rating'].transform('mean')\n"
   ]
  },
  {
   "cell_type": "code",
   "execution_count": null,
   "metadata": {},
   "outputs": [],
   "source": [
    "# Create a new city dataframe to add different aggregates to\n",
    "city_df = food.groupby(['country','city', 'price_level'])['rating'].mean().to_frame()\n"
   ]
  },
  {
   "cell_type": "code",
   "execution_count": null,
   "metadata": {},
   "outputs": [],
   "source": [
    "# Create new columns in city_df\n",
    "city_df['above_4.5_price'] = food[food['rating'] >= 4.5].groupby(['country', 'city', 'price_level'])['name'].count()\n",
    "city_df['restaurant_count'] = food.groupby(['country', 'city', 'price_level'])['name'].count()\n",
    "city_df['above_4.5_all'] = food[food['rating'] >= 4.5].groupby(['country', 'city'])['name'].count()\n",
    "city_df['price_average_all'] = food.groupby(['country', 'city'])['price_level'].mean()\n"
   ]
  },
  {
   "cell_type": "code",
   "execution_count": null,
   "metadata": {},
   "outputs": [],
   "source": [
    "city_df"
   ]
  },
  {
   "cell_type": "code",
   "execution_count": null,
   "metadata": {},
   "outputs": [],
   "source": [
    "describe_df = food.groupby(['country', 'city', 'price_level'])['rating'].describe()"
   ]
  },
  {
   "cell_type": "code",
   "execution_count": null,
   "metadata": {},
   "outputs": [],
   "source": [
    "city_df = pd.merge(city_df[['above_4.5_price', 'above_4.5_all']], describe_df, on= ['country', 'city', 'price_level'])"
   ]
  },
  {
   "cell_type": "code",
   "execution_count": null,
   "metadata": {},
   "outputs": [],
   "source": [
    "city_df"
   ]
  },
  {
   "cell_type": "code",
   "execution_count": null,
   "metadata": {},
   "outputs": [],
   "source": [
    "food.groupby(['country', 'city', 'price_level'])['rating'].describe()"
   ]
  },
  {
   "cell_type": "code",
   "execution_count": null,
   "metadata": {},
   "outputs": [],
   "source": [
    "# Bin counts city-wide\n",
    "bin_counts = food.groupby(['country', 'city'])['rating'].value_counts(bins=4).to_frame()\n",
    "\n",
    "# bin counts city wide, per price\n",
    "bin_counts_by_price = food.groupby(['country', 'city', 'price_level'])['rating'].value_counts(bins=4).to_frame()"
   ]
  },
  {
   "cell_type": "code",
   "execution_count": null,
   "metadata": {},
   "outputs": [],
   "source": [
    "bin_counts"
   ]
  },
  {
   "cell_type": "code",
   "execution_count": null,
   "metadata": {},
   "outputs": [],
   "source": [
    "bin_counts_by_price"
   ]
  },
  {
   "cell_type": "code",
   "execution_count": null,
   "metadata": {},
   "outputs": [],
   "source": []
  }
 ],
 "metadata": {
  "kernelspec": {
   "display_name": "Python 3",
   "language": "python",
   "name": "python3"
  },
  "language_info": {
   "codemirror_mode": {
    "name": "ipython",
    "version": 3
   },
   "file_extension": ".py",
   "mimetype": "text/x-python",
   "name": "python",
   "nbconvert_exporter": "python",
   "pygments_lexer": "ipython3",
   "version": "3.7.6"
  }
 },
 "nbformat": 4,
 "nbformat_minor": 4
}
