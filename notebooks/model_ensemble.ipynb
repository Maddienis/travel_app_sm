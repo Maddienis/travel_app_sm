{
 "cells": [
  {
   "cell_type": "code",
   "execution_count": null,
   "metadata": {},
   "outputs": [],
   "source": [
    "import pandas as pd\n",
    "import numpy as np\n",
    "import sklearn as sk\n",
    "from sklearn.model_selection import train_test_split\n",
    "from sklearn.metrics import classification_report, confusion_matrix\n",
    "from sklearn import preprocessing as pp\n",
    "from imblearn.over_sampling import SMOTE\n",
    "from imblearn.under_sampling import NearMiss\n",
    "from sklearn.model_selection import GridSearchCV\n",
    "import pickle\n",
    "import sqlite3"
   ]
  },
  {
   "cell_type": "code",
   "execution_count": null,
   "metadata": {},
   "outputs": [],
   "source": [
    "df = pd.read_csv('/Users/tristannisbet/Documents/SM/Dataframe/new/users_design_matrix_cont.csv')"
   ]
  },
  {
   "cell_type": "code",
   "execution_count": null,
   "metadata": {},
   "outputs": [],
   "source": []
  },
  {
   "cell_type": "code",
   "execution_count": null,
   "metadata": {},
   "outputs": [],
   "source": [
    "def get_df(table_name):\n",
    "    try:\n",
    "        conn = sqlite3.connect('/Users/tristannisbet/Documents/travel_app/places.db')\n",
    "\n",
    "    except Exception as e:\n",
    "        print('Error durring connection: ', str(e))\n",
    "    \n",
    "    sql = \"\"\"select * from {}\"\"\".format(table_name)\n",
    "    df = pd.read_sql_query(sql, conn)\n",
    "\n",
    "    return df"
   ]
  },
  {
   "cell_type": "code",
   "execution_count": null,
   "metadata": {},
   "outputs": [],
   "source": [
    "# Sim scores\n",
    "train_set2 = pd.read_csv('/Users/tristannisbet/Documents/SM/Dataframe/new/x_train_sim.csv')\n",
    "test_set2 = pd.read_csv('/Users/tristannisbet/Documents/SM/Dataframe/new/x_test_sim.csv')\n",
    "\n",
    "y_train_set = pd.read_csv('/Users/tristannisbet/Documents/SM/Dataframe/new/y_train_sim.csv')\n",
    "y_test_set = pd.read_csv('/Users/tristannisbet/Documents/SM/Dataframe/new/y_test_sim.csv')\n",
    "\n",
    "\n",
    "train_set2\n"
   ]
  },
  {
   "cell_type": "code",
   "execution_count": null,
   "metadata": {},
   "outputs": [],
   "source": [
    "all_data_raw = pd.read_csv('/Users/tristannisbet/Documents/SM/Dataframe/new/user_city_raw.csv')\n",
    "all_data_sim = pd.read_csv('/Users/tristannisbet/Documents/SM/Dataframe/new/user_city_sim.csv')"
   ]
  },
  {
   "cell_type": "code",
   "execution_count": null,
   "metadata": {},
   "outputs": [],
   "source": [
    "x_trainfull = pd.read_csv('/Users/tristannisbet/Documents/SM/Dataframe/new/x_train_full.csv')\n",
    "x_testfull = pd.read_csv('/Users/tristannisbet/Documents/SM/Dataframe/new/x_test_full.csv')\n",
    "\n",
    "y_trainfull = pd.read_csv('/Users/tristannisbet/Documents/SM/Dataframe/new/y_train_full.csv')\n",
    "y_testfull = pd.read_csv('/Users/tristannisbet/Documents/SM/Dataframe/new/y_test_full.csv')"
   ]
  },
  {
   "cell_type": "code",
   "execution_count": null,
   "metadata": {},
   "outputs": [],
   "source": [
    "x_trainfull.set_index(['user', 'label_id'], inplace=True)\n",
    "y_trainfull.set_index(['user', 'label_id'], inplace=True)\n",
    "y_testfull.set_index(['user', 'label_id'], inplace=True)\n",
    "x_testfull.set_index(['user', 'label_id'], inplace=True)"
   ]
  },
  {
   "cell_type": "code",
   "execution_count": null,
   "metadata": {},
   "outputs": [],
   "source": [
    "x_trainfull"
   ]
  },
  {
   "cell_type": "code",
   "execution_count": null,
   "metadata": {},
   "outputs": [],
   "source": [
    "all_data_sim"
   ]
  },
  {
   "cell_type": "code",
   "execution_count": null,
   "metadata": {},
   "outputs": [],
   "source": [
    "y_trainfull = pd.Series(y_trainfull['rank_y'].values, index=y_trainfull.index)\n"
   ]
  },
  {
   "cell_type": "code",
   "execution_count": null,
   "metadata": {},
   "outputs": [],
   "source": [
    "all_data"
   ]
  },
  {
   "cell_type": "code",
   "execution_count": null,
   "metadata": {},
   "outputs": [],
   "source": [
    "y_train_set.set_index(['user', 'city_id'], inplace=True)\n",
    "train_set2.set_index(['user', 'city_id'], inplace=True)\n",
    "y_test_set.set_index(['user', 'city_id'], inplace=True)\n",
    "test_set2.set_index(['user', 'city_id'], inplace=True)"
   ]
  },
  {
   "cell_type": "code",
   "execution_count": null,
   "metadata": {},
   "outputs": [],
   "source": [
    "train_set2.drop(columns=['top'], inplace=True)\n",
    "test_set2.drop(columns=['top'], inplace=True)"
   ]
  },
  {
   "cell_type": "code",
   "execution_count": null,
   "metadata": {},
   "outputs": [],
   "source": [
    "# Raw attraction and food scores\n",
    "x_test = pd.read_csv('/Users/tristannisbet/Documents/SM/Dataframe/new/x_test.csv')\n",
    "y_test = pd.read_csv('/Users/tristannisbet/Documents/SM/Dataframe/new/y_test.csv')\n",
    "\n",
    "x_train = pd.read_csv('/Users/tristannisbet/Documents/SM/Dataframe/new/x_train.csv')\n",
    "y_train = pd.read_csv('/Users/tristannisbet/Documents/SM/Dataframe/new/y_train.csv')\n",
    "\n",
    "x_train"
   ]
  },
  {
   "cell_type": "code",
   "execution_count": null,
   "metadata": {},
   "outputs": [],
   "source": [
    "y_train.set_index(['user', 'label_id'], inplace=True)\n",
    "x_train.set_index(['user', 'label_id'], inplace=True)\n",
    "y_test.set_index(['user', 'label_id'], inplace=True)\n",
    "x_test.set_index(['user', 'label_id'], inplace=True)"
   ]
  },
  {
   "cell_type": "markdown",
   "metadata": {},
   "source": [
    "## Fake user data"
   ]
  },
  {
   "cell_type": "code",
   "execution_count": null,
   "metadata": {},
   "outputs": [],
   "source": [
    "x_test_fake = pd.read_csv(\"/Users/tristannisbet/Documents/SM/Dataframe/new/x_testfake.csv\")\n",
    "y_test_fake = pd.read_csv(\"/Users/tristannisbet/Documents/SM/Dataframe/new/y_testfake.csv\")\n",
    "\n",
    "x_train_fake = pd.read_csv(\"/Users/tristannisbet/Documents/SM/Dataframe/new/x_trainfake.csv\")\n",
    "y_train_fake = pd.read_csv(\"/Users/tristannisbet/Documents/SM/Dataframe/new/y_trainfake.csv\")"
   ]
  },
  {
   "cell_type": "code",
   "execution_count": null,
   "metadata": {},
   "outputs": [],
   "source": [
    "x_test_fake.set_index(['user', 'city_id'], inplace=True)\n",
    "y_test_fake.set_index(['user', 'city_id'], inplace=True)\n",
    "x_train_fake.set_index(['user', 'city_id'], inplace=True)\n",
    "y_train_fake.set_index(['user', 'city_id'], inplace=True)"
   ]
  },
  {
   "cell_type": "code",
   "execution_count": null,
   "metadata": {},
   "outputs": [],
   "source": [
    "y_test_fake[y_test_fake['rank'] == 3]"
   ]
  },
  {
   "cell_type": "code",
   "execution_count": null,
   "metadata": {},
   "outputs": [],
   "source": [
    "def rank_from_col(x):\n",
    "    if x['rank'] == 5:\n",
    "        return 1\n",
    "    elif x['rank'] == 4:\n",
    "        return 1\n",
    "    elif x['rank'] == 3:\n",
    "        return 1\n",
    "    elif x['rank'] == 2:\n",
    "        return 1\n",
    "    elif x['rank'] == 1:\n",
    "        return 1\n",
    "    else:\n",
    "        return 0 "
   ]
  },
  {
   "cell_type": "code",
   "execution_count": null,
   "metadata": {},
   "outputs": [],
   "source": [
    "#y_test_fake['top'] = y_test_fake.apply(rank_from_col, axis=1)\n",
    "\n",
    "y_train_fake['top'] = y_train_fake.apply(rank_from_col, axis=1)\n"
   ]
  },
  {
   "cell_type": "code",
   "execution_count": null,
   "metadata": {},
   "outputs": [],
   "source": [
    "y_train_fake[y_train_fake['rank'] == 5]"
   ]
  },
  {
   "cell_type": "code",
   "execution_count": null,
   "metadata": {},
   "outputs": [],
   "source": [
    "y_train_fake.drop(columns=['rank'], inplace=True)\n",
    "y_test_fake.drop(columns=['rank'], inplace=True)"
   ]
  },
  {
   "cell_type": "markdown",
   "metadata": {},
   "source": [
    "### Model Building"
   ]
  },
  {
   "cell_type": "code",
   "execution_count": null,
   "metadata": {},
   "outputs": [],
   "source": [
    "\n",
    "from sklearn.ensemble import RandomForestClassifier\n",
    "clf = RandomForestClassifier(random_state=12, max_depth=25)\n",
    "clf.fit(x_trainfull, y_trainfull)\n",
    "predictions_rf = clf.predict(x_testfull)\n",
    "probs_rf = clf.predict_proba(x_testfull)"
   ]
  },
  {
   "cell_type": "code",
   "execution_count": null,
   "metadata": {},
   "outputs": [],
   "source": [
    "pickle.dump(clf, open('model_test.pkl','wb'))\n",
    "\n",
    "model = pickle.load(open('model_test.pkl','rb'))\n",
    "predicts = model.predict(x_user)\n",
    "probs = model.predict_proba(x_user)\n"
   ]
  },
  {
   "cell_type": "code",
   "execution_count": null,
   "metadata": {},
   "outputs": [],
   "source": [
    "probs"
   ]
  },
  {
   "cell_type": "code",
   "execution_count": null,
   "metadata": {},
   "outputs": [],
   "source": [
    "x_user"
   ]
  },
  {
   "cell_type": "code",
   "execution_count": null,
   "metadata": {},
   "outputs": [],
   "source": [
    "y_trainfull = pd.Series(y_trainfull['rank_y'].values, index=y_trainfull.index)\n"
   ]
  },
  {
   "cell_type": "code",
   "execution_count": null,
   "metadata": {},
   "outputs": [],
   "source": [
    "print(classification_report(y_testfull, predictions_rf))\n",
    "print(confusion_matrix(y_testfull,predictions_rf))"
   ]
  },
  {
   "cell_type": "code",
   "execution_count": null,
   "metadata": {},
   "outputs": [],
   "source": [
    "from sklearn.metrics import mean_squared_error \n",
    "#print('RMSE on train data: ', mean_squared_error(y_trainfull, )**(0.5))\n",
    "print('RMSE on test data: ',  mean_squared_error(y_testfull, predictions_rf)**(0.5))"
   ]
  },
  {
   "cell_type": "code",
   "execution_count": null,
   "metadata": {},
   "outputs": [],
   "source": [
    "import matplotlib.pyplot as plt\n",
    "plt.figure(figsize=(10,7))\n",
    "feat_importances = pd.Series(clf.feature_importances_, index = x_trainfull.columns)\n",
    "feat_importances.nlargest(7).plot(kind='barh');"
   ]
  },
  {
   "cell_type": "code",
   "execution_count": null,
   "metadata": {},
   "outputs": [],
   "source": [
    "x_testfull.index.get_level_values('user').unique()"
   ]
  },
  {
   "cell_type": "code",
   "execution_count": null,
   "metadata": {},
   "outputs": [],
   "source": [
    "x_user = x_testfull.xs(55, level='user', drop_level=False).copy()\n",
    "y_user = y_testfull.xs(55, level='user', drop_level=False).copy()"
   ]
  },
  {
   "cell_type": "markdown",
   "metadata": {},
   "source": [
    "### Accuracy Score Metric"
   ]
  },
  {
   "cell_type": "code",
   "execution_count": null,
   "metadata": {},
   "outputs": [],
   "source": [
    "results5 = x_testfull.copy()"
   ]
  },
  {
   "cell_type": "code",
   "execution_count": null,
   "metadata": {},
   "outputs": [],
   "source": [
    "results = x_user.copy()"
   ]
  },
  {
   "cell_type": "code",
   "execution_count": null,
   "metadata": {},
   "outputs": [],
   "source": [
    "# This will add the probability and the predicted values from the model \n",
    "def split_array(prob, x_df, predict):\n",
    "    df = x_df.copy()\n",
    "    lst1 = list(prob[:, 0])\n",
    "    lst2 = list(prob[:, 1])\n",
    "    predict_lst = list(predict)\n",
    "    df['prob_0'] = pd.Series(lst1, index=df.index)\n",
    "    df['prob_1'] = pd.Series(lst2, index=df.index)\n",
    "    df['predicted'] = pd.Series(predict_lst, index=df.index)\n",
    "    \n",
    "    \n",
    "    \n",
    "    return df"
   ]
  },
  {
   "cell_type": "code",
   "execution_count": null,
   "metadata": {},
   "outputs": [],
   "source": [
    "results"
   ]
  },
  {
   "cell_type": "code",
   "execution_count": null,
   "metadata": {},
   "outputs": [],
   "source": [
    "okk = split_array(probs, results, predicts)\n",
    "okk"
   ]
  },
  {
   "cell_type": "code",
   "execution_count": null,
   "metadata": {},
   "outputs": [],
   "source": [
    "ok.sort_values('prob_1', ascending=False)"
   ]
  },
  {
   "cell_type": "code",
   "execution_count": null,
   "metadata": {},
   "outputs": [],
   "source": [
    "cities = get_df('cities')\n",
    "cities"
   ]
  },
  {
   "cell_type": "code",
   "execution_count": null,
   "metadata": {},
   "outputs": [],
   "source": [
    "def add_top_city(results_df, y_test_set):\n",
    "    \n",
    "    # adds actual top ranked cities\n",
    "    results_df_top = pd.merge(right=y_test_set, left=results_df, right_index=True, left_index=True)\n",
    "    \n",
    "    return results_df_top\n",
    "\n",
    "def add_city_name(results_df, city_df):\n",
    "    results_df.reset_index(level=1, inplace=True)\n",
    "    \n",
    "    city_dict = dict(zip(city_df['city_id'], city_df['city']))\n",
    "    results_df['city'] = results_df['label_id'].map(city_dict)\n",
    "    results_df.set_index('label_id', append=True, inplace=True)\n",
    "    \n",
    "    return results_df"
   ]
  },
  {
   "cell_type": "code",
   "execution_count": null,
   "metadata": {},
   "outputs": [],
   "source": [
    "df.columns"
   ]
  },
  {
   "cell_type": "code",
   "execution_count": null,
   "metadata": {},
   "outputs": [],
   "source": [
    "ok2 = add_city_name(okk, df)\n",
    "ok2"
   ]
  },
  {
   "cell_type": "code",
   "execution_count": null,
   "metadata": {},
   "outputs": [],
   "source": [
    "ok3 = add_top_city(ok2, y_user)"
   ]
  },
  {
   "cell_type": "code",
   "execution_count": null,
   "metadata": {},
   "outputs": [],
   "source": [
    "ok3"
   ]
  },
  {
   "cell_type": "code",
   "execution_count": null,
   "metadata": {},
   "outputs": [],
   "source": [
    "ok3.sort_values('prob_1', ascending=False)"
   ]
  },
  {
   "cell_type": "code",
   "execution_count": null,
   "metadata": {},
   "outputs": [],
   "source": [
    "# filter only continent = 4 and rank_y != 0 \n",
    "# Choose and print the top 3 cities"
   ]
  },
  {
   "cell_type": "code",
   "execution_count": null,
   "metadata": {},
   "outputs": [],
   "source": [
    "y_user"
   ]
  },
  {
   "cell_type": "code",
   "execution_count": null,
   "metadata": {},
   "outputs": [],
   "source": []
  }
 ],
 "metadata": {
  "kernelspec": {
   "display_name": "Python 3",
   "language": "python",
   "name": "python3"
  },
  "language_info": {
   "codemirror_mode": {
    "name": "ipython",
    "version": 3
   },
   "file_extension": ".py",
   "mimetype": "text/x-python",
   "name": "python",
   "nbconvert_exporter": "python",
   "pygments_lexer": "ipython3",
   "version": "3.7.6"
  }
 },
 "nbformat": 4,
 "nbformat_minor": 4
}
