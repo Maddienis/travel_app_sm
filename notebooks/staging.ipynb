{
 "cells": [
  {
   "cell_type": "code",
   "execution_count": 1,
   "metadata": {},
   "outputs": [],
   "source": [
    "import pandas as pd\n",
    "import numpy as np\n",
    "import sqlite3\n",
    "import seaborn as sns\n",
    "from matplotlib import pyplot as plt\n",
    "from sklearn import preprocessing as pp\n",
    "from sklearn.metrics.pairwise import cosine_similarity\n",
    "import ast\n",
    "from pycountry_convert import country_alpha2_to_continent_code, country_name_to_country_alpha2\n"
   ]
  },
  {
   "cell_type": "code",
   "execution_count": 2,
   "metadata": {},
   "outputs": [],
   "source": [
    "def get_df(table_name):\n",
    "    try:\n",
    "        conn = sqlite3.connect('/Users/tristannisbet/Documents/travel_app/places.db')\n",
    "\n",
    "    except Exception as e:\n",
    "        print('Error durring connection: ', str(e))\n",
    "    \n",
    "    sql = \"\"\"select * from {}\"\"\".format(table_name)\n",
    "    df = pd.read_sql_query(sql, conn)\n",
    "\n",
    "    return df"
   ]
  },
  {
   "cell_type": "markdown",
   "metadata": {},
   "source": [
    "## Food City"
   ]
  },
  {
   "cell_type": "code",
   "execution_count": 3,
   "metadata": {},
   "outputs": [],
   "source": [
    "#main call to create df for all food entries and city\n",
    "def cityFoodMain():\n",
    "    all_price = createFoodDf()\n",
    "    all_price_ = cleaningNullsCity(all_price)\n",
    "    food_city = addNanRowCity(all_price_)\n",
    "    final_food_city = selectColumns(food_city)\n",
    "    \n",
    "    \n",
    "    return final_food_city, food_city\n",
    "\n",
    "\n"
   ]
  },
  {
   "cell_type": "code",
   "execution_count": 4,
   "metadata": {},
   "outputs": [],
   "source": [
    "#1 called\n",
    "def createFoodDf():\n",
    "    one = get_df('restaurants_one')\n",
    "    two = get_df('restaurants_two')\n",
    "    three = get_df('restaurants_three')\n",
    "    four = get_df('restaurants_four')\n",
    "    top_rest = get_df('restaurants')\n",
    "    \n",
    "    all_price = pd.concat([one, two, three, four, top_rest], axis =0)\n",
    "    return(all_price)\n",
    "\n",
    "\n",
    "#2 called\n",
    "def cleaningNullsCity(restaurants_all):\n",
    "    \n",
    "    restaurants_all['id'] = pd.to_numeric(restaurants_all.id)\n",
    "    restaurants_all['price_level'] = restaurants_all['price_level'].fillna(restaurants_all.groupby('city')['price_level'].transform('mean'))\n",
    "    restaurants_all.fillna(2.0, inplace=True)\n",
    "    #do I need this?\n",
    "    restaurants_all['price_level'] = restaurants_all['price_level'].astype(int)\n",
    "    \n",
    "    city_food = toCityLevel(restaurants_all)\n",
    "    city_food.drop(columns = ['avg_price'], inplace=True)\n",
    "    city_food.fillna(0, inplace=True)\n",
    "    \n",
    "    return city_food\n",
    "\n",
    "\n",
    "#3\n",
    "def toCityLevel(df):\n",
    "    city_df = df.groupby(['country', 'city', 'id', 'price_level'])['name'].count().to_frame()\n",
    "    price_level = city_df.pivot_table(index=['country', 'city', 'id'], columns='price_level', values='name', aggfunc='first')\n",
    "    price_level['avg_price'] = df.groupby(['country', 'city', 'id'])['price_level'].mean()\n",
    "    \n",
    "\n",
    "\n",
    "    \n",
    "    return price_level\n"
   ]
  },
  {
   "cell_type": "code",
   "execution_count": 5,
   "metadata": {},
   "outputs": [],
   "source": [
    "\n",
    "#4 called\n",
    "def addNanRowCity(food_df):\n",
    "    food_df.reset_index(inplace=True)\n",
    "    nan_row = {'country' : None, 'city': 'Zx', 'id': 200, 1.0: 0, 2.0: 0, 3.0: 0, 4.0: 0}\n",
    "    food_df = food_df.append(nan_row, ignore_index=True)\n",
    "    \n",
    "    global food_new \n",
    "    food_new = labelEncodeCity(food_df)\n",
    "    food_new = food_new.drop(food_new[food_new.id == 200].index)\n",
    "    \n",
    "    return food_new\n",
    "\n",
    "\n",
    "\n",
    "# You might need to return both food and food_new. Food has city/country names\n",
    "\n",
    "#6\n",
    "def buildLabelEncoder():\n",
    "    \n",
    "    cities = get_df('cities')\n",
    "    new_row = {'id': 200, 'city': 'Zx', 'country': 'None'}\n",
    "    cities = cities.append(new_row, ignore_index=True)\n",
    "    \n",
    "    le = pp.LabelEncoder()\n",
    "    le.fit(cities.city)\n",
    "    \n",
    "    return le\n",
    "  \n",
    " # 5    \n",
    "def labelEncodeCity(food_df):\n",
    "    \n",
    "    le = buildLabelEncoder()\n",
    "    food_df['label_id'] = le.transform(food_df.city)\n",
    "    \n",
    "    return food_df\n",
    "\n",
    "# 7\n",
    "def selectColumns(food_df):\n",
    "    \n",
    "    food_df = food_df.drop(food_df[food_df.id == 200].index)\n",
    "    food_city = food_df[['label_id', 1.0, 2.0, 3.0, 4.0]].copy()\n",
    "    food_city.sort_values('label_id', inplace=True)\n",
    "    food_city.set_index('label_id', inplace=True)\n",
    "    \n",
    "    return food_city\n",
    "    \n",
    "\n",
    "\n",
    "\n"
   ]
  },
  {
   "cell_type": "markdown",
   "metadata": {},
   "source": [
    "### Food User"
   ]
  },
  {
   "cell_type": "code",
   "execution_count": 6,
   "metadata": {},
   "outputs": [],
   "source": [
    "# This will pull survey data from database and select only food columns\n",
    "def createFoodUserDf():\n",
    "    survey = get_df('survey_response')\n",
    "    #survey = total.copy()\n",
    "    food_user = survey[['food_one', 'food_two', 'food_three', 'food_four']]\n",
    "    \n",
    "    return food_user"
   ]
  },
  {
   "cell_type": "code",
   "execution_count": 7,
   "metadata": {},
   "outputs": [],
   "source": [
    "# Parameters: city/user data all numeric. \n",
    "\n",
    "# sim_city_food is similarity matrix for all cities and food data\n",
    "# sim_user_food is similarity matrix for all user and food data\n",
    "\n",
    "# cosine_sim_food is similarit matrix for all usersXcities (153x138)\n",
    "def simScore(city, user):\n",
    "\n",
    "    normalized_city = pd.DataFrame(pp.normalize(city))    \n",
    "    normalized_user = pd.DataFrame(pp.normalize(user))\n",
    "\n",
    "\n",
    "    sim_city = pd.DataFrame(cosine_similarity(normalized_city))\n",
    "    sim_user = pd.DataFrame(cosine_similarity(normalized_user))\n",
    "    \n",
    "    cosine_sim_food = pd.DataFrame(cosine_similarity(normalized_user, normalized_city))\n",
    "\n",
    "    \n",
    "    return cosine_sim_food"
   ]
  },
  {
   "cell_type": "code",
   "execution_count": 8,
   "metadata": {},
   "outputs": [],
   "source": [
    "food_city2 = cityFoodMain()"
   ]
  },
  {
   "cell_type": "code",
   "execution_count": 9,
   "metadata": {},
   "outputs": [
    {
     "data": {
      "text/plain": [
       "(price_level     1      2     3     4\n",
       " label_id                            \n",
       " 0            61.0  103.0  46.0  15.0\n",
       " 1             9.0  109.0  18.0   4.0\n",
       " 2            10.0  114.0   6.0   2.0\n",
       " 3             8.0   99.0  77.0   5.0\n",
       " 4            62.0   96.0  77.0  14.0\n",
       " ...           ...    ...   ...   ...\n",
       " 133          62.0   70.0  82.0  43.0\n",
       " 134           0.0   66.0   0.0   0.0\n",
       " 135           0.0   41.0   0.0   0.0\n",
       " 136           2.0   43.0   6.0   3.0\n",
       " 137          42.0   96.0  79.0  17.0\n",
       " \n",
       " [138 rows x 4 columns],\n",
       " price_level    country              city   id     1      2     3     4  \\\n",
       " 0            Argentina      Buenos Aires   85   6.0   95.0  68.0  31.0   \n",
       " 1            Australia         Melbourne   73  18.0   91.0  79.0  19.0   \n",
       " 2            Australia            Sydney   55  26.0   17.0  67.0  29.0   \n",
       " 3              Austria            Vienna   37  65.0   91.0  78.0  19.0   \n",
       " 4              Belgium          Brussels   60  10.0  103.0  44.0  18.0   \n",
       " ..                 ...               ...  ...   ...    ...   ...   ...   \n",
       " 133            Uruguay        Montevideo  129   7.0  109.0  27.0   5.0   \n",
       " 134            Vietnam           Da Nang   90  54.0   78.0   8.0   0.0   \n",
       " 135            Vietnam           Ha Long   48  67.0   23.0   1.0   0.0   \n",
       " 136            Vietnam             Hanoi   52  53.0   81.0  15.0   1.0   \n",
       " 137            Vietnam  Ho Chi Minh City   31  18.0  109.0  68.0   4.0   \n",
       " \n",
       " price_level  label_id  \n",
       " 0                  21  \n",
       " 1                  83  \n",
       " 2                 122  \n",
       " 3                 131  \n",
       " 4                  18  \n",
       " ..                ...  \n",
       " 133                87  \n",
       " 134                34  \n",
       " 135                50  \n",
       " 136                53  \n",
       " 137                55  \n",
       " \n",
       " [138 rows x 8 columns])"
      ]
     },
     "execution_count": 9,
     "metadata": {},
     "output_type": "execute_result"
    }
   ],
   "source": [
    "food_city2"
   ]
  },
  {
   "cell_type": "code",
   "execution_count": 10,
   "metadata": {},
   "outputs": [],
   "source": [
    "cities = get_df('cities')"
   ]
  },
  {
   "cell_type": "code",
   "execution_count": 11,
   "metadata": {},
   "outputs": [
    {
     "data": {
      "text/html": [
       "<div>\n",
       "<style scoped>\n",
       "    .dataframe tbody tr th:only-of-type {\n",
       "        vertical-align: middle;\n",
       "    }\n",
       "\n",
       "    .dataframe tbody tr th {\n",
       "        vertical-align: top;\n",
       "    }\n",
       "\n",
       "    .dataframe thead th {\n",
       "        text-align: right;\n",
       "    }\n",
       "</style>\n",
       "<table border=\"1\" class=\"dataframe\">\n",
       "  <thead>\n",
       "    <tr style=\"text-align: right;\">\n",
       "      <th></th>\n",
       "      <th>id</th>\n",
       "      <th>city</th>\n",
       "      <th>country</th>\n",
       "      <th>continent</th>\n",
       "      <th>label_id</th>\n",
       "    </tr>\n",
       "  </thead>\n",
       "  <tbody>\n",
       "    <tr>\n",
       "      <th>0</th>\n",
       "      <td>1</td>\n",
       "      <td>Hong Kong</td>\n",
       "      <td>Hong Kong</td>\n",
       "      <td>Asia</td>\n",
       "      <td>56</td>\n",
       "    </tr>\n",
       "    <tr>\n",
       "      <th>1</th>\n",
       "      <td>2</td>\n",
       "      <td>Bangkok</td>\n",
       "      <td>Thailand</td>\n",
       "      <td>Asia</td>\n",
       "      <td>10</td>\n",
       "    </tr>\n",
       "    <tr>\n",
       "      <th>2</th>\n",
       "      <td>3</td>\n",
       "      <td>London</td>\n",
       "      <td>United Kingdom</td>\n",
       "      <td>Europe</td>\n",
       "      <td>75</td>\n",
       "    </tr>\n",
       "    <tr>\n",
       "      <th>3</th>\n",
       "      <td>4</td>\n",
       "      <td>Macau</td>\n",
       "      <td>Macau</td>\n",
       "      <td>Asia</td>\n",
       "      <td>77</td>\n",
       "    </tr>\n",
       "    <tr>\n",
       "      <th>4</th>\n",
       "      <td>5</td>\n",
       "      <td>Singapore</td>\n",
       "      <td>Singapore</td>\n",
       "      <td>Asia</td>\n",
       "      <td>119</td>\n",
       "    </tr>\n",
       "    <tr>\n",
       "      <th>...</th>\n",
       "      <td>...</td>\n",
       "      <td>...</td>\n",
       "      <td>...</td>\n",
       "      <td>...</td>\n",
       "      <td>...</td>\n",
       "    </tr>\n",
       "    <tr>\n",
       "      <th>133</th>\n",
       "      <td>135</td>\n",
       "      <td>Accra</td>\n",
       "      <td>Ghana</td>\n",
       "      <td>Africa</td>\n",
       "      <td>1</td>\n",
       "    </tr>\n",
       "    <tr>\n",
       "      <th>134</th>\n",
       "      <td>136</td>\n",
       "      <td>Quito</td>\n",
       "      <td>Ecuador</td>\n",
       "      <td>South America</td>\n",
       "      <td>107</td>\n",
       "    </tr>\n",
       "    <tr>\n",
       "      <th>135</th>\n",
       "      <td>137</td>\n",
       "      <td>Tianjin</td>\n",
       "      <td>China</td>\n",
       "      <td>Asia</td>\n",
       "      <td>126</td>\n",
       "    </tr>\n",
       "    <tr>\n",
       "      <th>136</th>\n",
       "      <td>138</td>\n",
       "      <td>Qingdao</td>\n",
       "      <td>China</td>\n",
       "      <td>Asia</td>\n",
       "      <td>106</td>\n",
       "    </tr>\n",
       "    <tr>\n",
       "      <th>137</th>\n",
       "      <td>139</td>\n",
       "      <td>Philadelphia</td>\n",
       "      <td>United States</td>\n",
       "      <td>North America</td>\n",
       "      <td>100</td>\n",
       "    </tr>\n",
       "  </tbody>\n",
       "</table>\n",
       "<p>138 rows × 5 columns</p>\n",
       "</div>"
      ],
      "text/plain": [
       "      id          city         country      continent  label_id\n",
       "0      1     Hong Kong       Hong Kong           Asia        56\n",
       "1      2       Bangkok        Thailand           Asia        10\n",
       "2      3        London  United Kingdom         Europe        75\n",
       "3      4         Macau           Macau           Asia        77\n",
       "4      5     Singapore       Singapore           Asia       119\n",
       "..   ...           ...             ...            ...       ...\n",
       "133  135         Accra           Ghana         Africa         1\n",
       "134  136         Quito         Ecuador  South America       107\n",
       "135  137       Tianjin           China           Asia       126\n",
       "136  138       Qingdao           China           Asia       106\n",
       "137  139  Philadelphia   United States  North America       100\n",
       "\n",
       "[138 rows x 5 columns]"
      ]
     },
     "execution_count": 11,
     "metadata": {},
     "output_type": "execute_result"
    }
   ],
   "source": [
    "ok = labelEncodeCity(cities)\n",
    "ok"
   ]
  },
  {
   "cell_type": "code",
   "execution_count": 12,
   "metadata": {},
   "outputs": [
    {
     "data": {
      "text/html": [
       "<div>\n",
       "<style scoped>\n",
       "    .dataframe tbody tr th:only-of-type {\n",
       "        vertical-align: middle;\n",
       "    }\n",
       "\n",
       "    .dataframe tbody tr th {\n",
       "        vertical-align: top;\n",
       "    }\n",
       "\n",
       "    .dataframe thead th {\n",
       "        text-align: right;\n",
       "    }\n",
       "</style>\n",
       "<table border=\"1\" class=\"dataframe\">\n",
       "  <thead>\n",
       "    <tr style=\"text-align: right;\">\n",
       "      <th></th>\n",
       "      <th>id</th>\n",
       "      <th>city</th>\n",
       "      <th>country</th>\n",
       "      <th>continent</th>\n",
       "      <th>label_id</th>\n",
       "    </tr>\n",
       "  </thead>\n",
       "  <tbody>\n",
       "    <tr>\n",
       "      <th>92</th>\n",
       "      <td>94</td>\n",
       "      <td>Abu Dhabi</td>\n",
       "      <td>United Arab Emirates</td>\n",
       "      <td>Asia</td>\n",
       "      <td>0</td>\n",
       "    </tr>\n",
       "    <tr>\n",
       "      <th>133</th>\n",
       "      <td>135</td>\n",
       "      <td>Accra</td>\n",
       "      <td>Ghana</td>\n",
       "      <td>Africa</td>\n",
       "      <td>1</td>\n",
       "    </tr>\n",
       "    <tr>\n",
       "      <th>25</th>\n",
       "      <td>26</td>\n",
       "      <td>Agra</td>\n",
       "      <td>India</td>\n",
       "      <td>Asia</td>\n",
       "      <td>2</td>\n",
       "    </tr>\n",
       "    <tr>\n",
       "      <th>128</th>\n",
       "      <td>130</td>\n",
       "      <td>Amman</td>\n",
       "      <td>Jordan</td>\n",
       "      <td>Asia</td>\n",
       "      <td>3</td>\n",
       "    </tr>\n",
       "    <tr>\n",
       "      <th>24</th>\n",
       "      <td>25</td>\n",
       "      <td>Amsterdam</td>\n",
       "      <td>Netherlands</td>\n",
       "      <td>Europe</td>\n",
       "      <td>4</td>\n",
       "    </tr>\n",
       "    <tr>\n",
       "      <th>...</th>\n",
       "      <td>...</td>\n",
       "      <td>...</td>\n",
       "      <td>...</td>\n",
       "      <td>...</td>\n",
       "      <td>...</td>\n",
       "    </tr>\n",
       "    <tr>\n",
       "      <th>104</th>\n",
       "      <td>106</td>\n",
       "      <td>Washington D.C.</td>\n",
       "      <td>United States</td>\n",
       "      <td>North America</td>\n",
       "      <td>133</td>\n",
       "    </tr>\n",
       "    <tr>\n",
       "      <th>117</th>\n",
       "      <td>119</td>\n",
       "      <td>Xi'an</td>\n",
       "      <td>China</td>\n",
       "      <td>Asia</td>\n",
       "      <td>134</td>\n",
       "    </tr>\n",
       "    <tr>\n",
       "      <th>121</th>\n",
       "      <td>123</td>\n",
       "      <td>Xiamen</td>\n",
       "      <td>China</td>\n",
       "      <td>Asia</td>\n",
       "      <td>135</td>\n",
       "    </tr>\n",
       "    <tr>\n",
       "      <th>67</th>\n",
       "      <td>68</td>\n",
       "      <td>Zhuhai</td>\n",
       "      <td>China</td>\n",
       "      <td>Asia</td>\n",
       "      <td>136</td>\n",
       "    </tr>\n",
       "    <tr>\n",
       "      <th>102</th>\n",
       "      <td>104</td>\n",
       "      <td>Zurich</td>\n",
       "      <td>Switzerland</td>\n",
       "      <td>Europe</td>\n",
       "      <td>137</td>\n",
       "    </tr>\n",
       "  </tbody>\n",
       "</table>\n",
       "<p>138 rows × 5 columns</p>\n",
       "</div>"
      ],
      "text/plain": [
       "      id             city               country      continent  label_id\n",
       "92    94        Abu Dhabi  United Arab Emirates           Asia         0\n",
       "133  135            Accra                 Ghana         Africa         1\n",
       "25    26             Agra                 India           Asia         2\n",
       "128  130            Amman                Jordan           Asia         3\n",
       "24    25        Amsterdam           Netherlands         Europe         4\n",
       "..   ...              ...                   ...            ...       ...\n",
       "104  106  Washington D.C.         United States  North America       133\n",
       "117  119            Xi'an                 China           Asia       134\n",
       "121  123           Xiamen                 China           Asia       135\n",
       "67    68           Zhuhai                 China           Asia       136\n",
       "102  104           Zurich           Switzerland         Europe       137\n",
       "\n",
       "[138 rows x 5 columns]"
      ]
     },
     "execution_count": 12,
     "metadata": {},
     "output_type": "execute_result"
    }
   ],
   "source": [
    "ok.sort_values('label_id')"
   ]
  },
  {
   "cell_type": "code",
   "execution_count": 13,
   "metadata": {},
   "outputs": [],
   "source": [
    "#Fake\n",
    "#food_user_f = createFoodUserDf()\n",
    "#food_user_f\n",
    "#Fake\n",
    "#cosine_sim_foodf = simScore(food_city2, food_user_f)\n",
    "#cosine_sim_foodf"
   ]
  },
  {
   "cell_type": "code",
   "execution_count": 14,
   "metadata": {},
   "outputs": [
    {
     "data": {
      "text/html": [
       "<div>\n",
       "<style scoped>\n",
       "    .dataframe tbody tr th:only-of-type {\n",
       "        vertical-align: middle;\n",
       "    }\n",
       "\n",
       "    .dataframe tbody tr th {\n",
       "        vertical-align: top;\n",
       "    }\n",
       "\n",
       "    .dataframe thead th {\n",
       "        text-align: right;\n",
       "    }\n",
       "</style>\n",
       "<table border=\"1\" class=\"dataframe\">\n",
       "  <thead>\n",
       "    <tr style=\"text-align: right;\">\n",
       "      <th></th>\n",
       "      <th>food_one</th>\n",
       "      <th>food_two</th>\n",
       "      <th>food_three</th>\n",
       "      <th>food_four</th>\n",
       "    </tr>\n",
       "  </thead>\n",
       "  <tbody>\n",
       "    <tr>\n",
       "      <th>0</th>\n",
       "      <td>4</td>\n",
       "      <td>4</td>\n",
       "      <td>1</td>\n",
       "      <td>0</td>\n",
       "    </tr>\n",
       "    <tr>\n",
       "      <th>1</th>\n",
       "      <td>2</td>\n",
       "      <td>3</td>\n",
       "      <td>2</td>\n",
       "      <td>2</td>\n",
       "    </tr>\n",
       "    <tr>\n",
       "      <th>2</th>\n",
       "      <td>2</td>\n",
       "      <td>3</td>\n",
       "      <td>2</td>\n",
       "      <td>1</td>\n",
       "    </tr>\n",
       "    <tr>\n",
       "      <th>3</th>\n",
       "      <td>2</td>\n",
       "      <td>3</td>\n",
       "      <td>2</td>\n",
       "      <td>2</td>\n",
       "    </tr>\n",
       "    <tr>\n",
       "      <th>4</th>\n",
       "      <td>3</td>\n",
       "      <td>3</td>\n",
       "      <td>1</td>\n",
       "      <td>1</td>\n",
       "    </tr>\n",
       "    <tr>\n",
       "      <th>...</th>\n",
       "      <td>...</td>\n",
       "      <td>...</td>\n",
       "      <td>...</td>\n",
       "      <td>...</td>\n",
       "    </tr>\n",
       "    <tr>\n",
       "      <th>147</th>\n",
       "      <td>2</td>\n",
       "      <td>3</td>\n",
       "      <td>1</td>\n",
       "      <td>1</td>\n",
       "    </tr>\n",
       "    <tr>\n",
       "      <th>148</th>\n",
       "      <td>1</td>\n",
       "      <td>3</td>\n",
       "      <td>2</td>\n",
       "      <td>1</td>\n",
       "    </tr>\n",
       "    <tr>\n",
       "      <th>149</th>\n",
       "      <td>2</td>\n",
       "      <td>3</td>\n",
       "      <td>1</td>\n",
       "      <td>1</td>\n",
       "    </tr>\n",
       "    <tr>\n",
       "      <th>150</th>\n",
       "      <td>3</td>\n",
       "      <td>4</td>\n",
       "      <td>2</td>\n",
       "      <td>1</td>\n",
       "    </tr>\n",
       "    <tr>\n",
       "      <th>151</th>\n",
       "      <td>3</td>\n",
       "      <td>3</td>\n",
       "      <td>1</td>\n",
       "      <td>0</td>\n",
       "    </tr>\n",
       "  </tbody>\n",
       "</table>\n",
       "<p>152 rows × 4 columns</p>\n",
       "</div>"
      ],
      "text/plain": [
       "    food_one food_two food_three food_four\n",
       "0          4        4          1         0\n",
       "1          2        3          2         2\n",
       "2          2        3          2         1\n",
       "3          2        3          2         2\n",
       "4          3        3          1         1\n",
       "..       ...      ...        ...       ...\n",
       "147        2        3          1         1\n",
       "148        1        3          2         1\n",
       "149        2        3          1         1\n",
       "150        3        4          2         1\n",
       "151        3        3          1         0\n",
       "\n",
       "[152 rows x 4 columns]"
      ]
     },
     "execution_count": 14,
     "metadata": {},
     "output_type": "execute_result"
    }
   ],
   "source": [
    "food_user = createFoodUserDf()\n",
    "food_user"
   ]
  },
  {
   "cell_type": "code",
   "execution_count": 15,
   "metadata": {},
   "outputs": [
    {
     "ename": "ValueError",
     "evalue": "setting an array element with a sequence.",
     "output_type": "error",
     "traceback": [
      "\u001b[0;31m---------------------------------------------------------------------------\u001b[0m",
      "\u001b[0;31mTypeError\u001b[0m                                 Traceback (most recent call last)",
      "\u001b[0;31mTypeError\u001b[0m: float() argument must be a string or a number, not 'DataFrame'",
      "\nThe above exception was the direct cause of the following exception:\n",
      "\u001b[0;31mValueError\u001b[0m                                Traceback (most recent call last)",
      "\u001b[0;32m<ipython-input-15-637fdc4201f7>\u001b[0m in \u001b[0;36m<module>\u001b[0;34m\u001b[0m\n\u001b[0;32m----> 1\u001b[0;31m \u001b[0mcosine_sim_food\u001b[0m \u001b[0;34m=\u001b[0m \u001b[0msimScore\u001b[0m\u001b[0;34m(\u001b[0m\u001b[0mfood_city2\u001b[0m\u001b[0;34m,\u001b[0m \u001b[0mfood_user\u001b[0m\u001b[0;34m)\u001b[0m\u001b[0;34m\u001b[0m\u001b[0;34m\u001b[0m\u001b[0m\n\u001b[0m\u001b[1;32m      2\u001b[0m \u001b[0mcosine_sim_food\u001b[0m\u001b[0;34m\u001b[0m\u001b[0;34m\u001b[0m\u001b[0m\n",
      "\u001b[0;32m<ipython-input-7-df74d5d8e769>\u001b[0m in \u001b[0;36msimScore\u001b[0;34m(city, user)\u001b[0m\n\u001b[1;32m      7\u001b[0m \u001b[0;32mdef\u001b[0m \u001b[0msimScore\u001b[0m\u001b[0;34m(\u001b[0m\u001b[0mcity\u001b[0m\u001b[0;34m,\u001b[0m \u001b[0muser\u001b[0m\u001b[0;34m)\u001b[0m\u001b[0;34m:\u001b[0m\u001b[0;34m\u001b[0m\u001b[0;34m\u001b[0m\u001b[0m\n\u001b[1;32m      8\u001b[0m \u001b[0;34m\u001b[0m\u001b[0m\n\u001b[0;32m----> 9\u001b[0;31m     \u001b[0mnormalized_city\u001b[0m \u001b[0;34m=\u001b[0m \u001b[0mpd\u001b[0m\u001b[0;34m.\u001b[0m\u001b[0mDataFrame\u001b[0m\u001b[0;34m(\u001b[0m\u001b[0mpp\u001b[0m\u001b[0;34m.\u001b[0m\u001b[0mnormalize\u001b[0m\u001b[0;34m(\u001b[0m\u001b[0mcity\u001b[0m\u001b[0;34m)\u001b[0m\u001b[0;34m)\u001b[0m\u001b[0;34m\u001b[0m\u001b[0;34m\u001b[0m\u001b[0m\n\u001b[0m\u001b[1;32m     10\u001b[0m     \u001b[0mnormalized_user\u001b[0m \u001b[0;34m=\u001b[0m \u001b[0mpd\u001b[0m\u001b[0;34m.\u001b[0m\u001b[0mDataFrame\u001b[0m\u001b[0;34m(\u001b[0m\u001b[0mpp\u001b[0m\u001b[0;34m.\u001b[0m\u001b[0mnormalize\u001b[0m\u001b[0;34m(\u001b[0m\u001b[0muser\u001b[0m\u001b[0;34m)\u001b[0m\u001b[0;34m)\u001b[0m\u001b[0;34m\u001b[0m\u001b[0;34m\u001b[0m\u001b[0m\n\u001b[1;32m     11\u001b[0m \u001b[0;34m\u001b[0m\u001b[0m\n",
      "\u001b[0;32m/opt/anaconda3/lib/python3.7/site-packages/sklearn/utils/validation.py\u001b[0m in \u001b[0;36minner_f\u001b[0;34m(*args, **kwargs)\u001b[0m\n\u001b[1;32m     70\u001b[0m                           FutureWarning)\n\u001b[1;32m     71\u001b[0m         \u001b[0mkwargs\u001b[0m\u001b[0;34m.\u001b[0m\u001b[0mupdate\u001b[0m\u001b[0;34m(\u001b[0m\u001b[0;34m{\u001b[0m\u001b[0mk\u001b[0m\u001b[0;34m:\u001b[0m \u001b[0marg\u001b[0m \u001b[0;32mfor\u001b[0m \u001b[0mk\u001b[0m\u001b[0;34m,\u001b[0m \u001b[0marg\u001b[0m \u001b[0;32min\u001b[0m \u001b[0mzip\u001b[0m\u001b[0;34m(\u001b[0m\u001b[0msig\u001b[0m\u001b[0;34m.\u001b[0m\u001b[0mparameters\u001b[0m\u001b[0;34m,\u001b[0m \u001b[0margs\u001b[0m\u001b[0;34m)\u001b[0m\u001b[0;34m}\u001b[0m\u001b[0;34m)\u001b[0m\u001b[0;34m\u001b[0m\u001b[0;34m\u001b[0m\u001b[0m\n\u001b[0;32m---> 72\u001b[0;31m         \u001b[0;32mreturn\u001b[0m \u001b[0mf\u001b[0m\u001b[0;34m(\u001b[0m\u001b[0;34m**\u001b[0m\u001b[0mkwargs\u001b[0m\u001b[0;34m)\u001b[0m\u001b[0;34m\u001b[0m\u001b[0;34m\u001b[0m\u001b[0m\n\u001b[0m\u001b[1;32m     73\u001b[0m     \u001b[0;32mreturn\u001b[0m \u001b[0minner_f\u001b[0m\u001b[0;34m\u001b[0m\u001b[0;34m\u001b[0m\u001b[0m\n\u001b[1;32m     74\u001b[0m \u001b[0;34m\u001b[0m\u001b[0m\n",
      "\u001b[0;32m/opt/anaconda3/lib/python3.7/site-packages/sklearn/preprocessing/_data.py\u001b[0m in \u001b[0;36mnormalize\u001b[0;34m(X, norm, axis, copy, return_norm)\u001b[0m\n\u001b[1;32m   1709\u001b[0m \u001b[0;34m\u001b[0m\u001b[0m\n\u001b[1;32m   1710\u001b[0m     X = check_array(X, accept_sparse=sparse_format, copy=copy,\n\u001b[0;32m-> 1711\u001b[0;31m                     estimator='the normalize function', dtype=FLOAT_DTYPES)\n\u001b[0m\u001b[1;32m   1712\u001b[0m     \u001b[0;32mif\u001b[0m \u001b[0maxis\u001b[0m \u001b[0;34m==\u001b[0m \u001b[0;36m0\u001b[0m\u001b[0;34m:\u001b[0m\u001b[0;34m\u001b[0m\u001b[0;34m\u001b[0m\u001b[0m\n\u001b[1;32m   1713\u001b[0m         \u001b[0mX\u001b[0m \u001b[0;34m=\u001b[0m \u001b[0mX\u001b[0m\u001b[0;34m.\u001b[0m\u001b[0mT\u001b[0m\u001b[0;34m\u001b[0m\u001b[0;34m\u001b[0m\u001b[0m\n",
      "\u001b[0;32m/opt/anaconda3/lib/python3.7/site-packages/sklearn/utils/validation.py\u001b[0m in \u001b[0;36minner_f\u001b[0;34m(*args, **kwargs)\u001b[0m\n\u001b[1;32m     70\u001b[0m                           FutureWarning)\n\u001b[1;32m     71\u001b[0m         \u001b[0mkwargs\u001b[0m\u001b[0;34m.\u001b[0m\u001b[0mupdate\u001b[0m\u001b[0;34m(\u001b[0m\u001b[0;34m{\u001b[0m\u001b[0mk\u001b[0m\u001b[0;34m:\u001b[0m \u001b[0marg\u001b[0m \u001b[0;32mfor\u001b[0m \u001b[0mk\u001b[0m\u001b[0;34m,\u001b[0m \u001b[0marg\u001b[0m \u001b[0;32min\u001b[0m \u001b[0mzip\u001b[0m\u001b[0;34m(\u001b[0m\u001b[0msig\u001b[0m\u001b[0;34m.\u001b[0m\u001b[0mparameters\u001b[0m\u001b[0;34m,\u001b[0m \u001b[0margs\u001b[0m\u001b[0;34m)\u001b[0m\u001b[0;34m}\u001b[0m\u001b[0;34m)\u001b[0m\u001b[0;34m\u001b[0m\u001b[0;34m\u001b[0m\u001b[0m\n\u001b[0;32m---> 72\u001b[0;31m         \u001b[0;32mreturn\u001b[0m \u001b[0mf\u001b[0m\u001b[0;34m(\u001b[0m\u001b[0;34m**\u001b[0m\u001b[0mkwargs\u001b[0m\u001b[0;34m)\u001b[0m\u001b[0;34m\u001b[0m\u001b[0;34m\u001b[0m\u001b[0m\n\u001b[0m\u001b[1;32m     73\u001b[0m     \u001b[0;32mreturn\u001b[0m \u001b[0minner_f\u001b[0m\u001b[0;34m\u001b[0m\u001b[0;34m\u001b[0m\u001b[0m\n\u001b[1;32m     74\u001b[0m \u001b[0;34m\u001b[0m\u001b[0m\n",
      "\u001b[0;32m/opt/anaconda3/lib/python3.7/site-packages/sklearn/utils/validation.py\u001b[0m in \u001b[0;36mcheck_array\u001b[0;34m(array, accept_sparse, accept_large_sparse, dtype, order, copy, force_all_finite, ensure_2d, allow_nd, ensure_min_samples, ensure_min_features, estimator)\u001b[0m\n\u001b[1;32m    596\u001b[0m                     \u001b[0marray\u001b[0m \u001b[0;34m=\u001b[0m \u001b[0marray\u001b[0m\u001b[0;34m.\u001b[0m\u001b[0mastype\u001b[0m\u001b[0;34m(\u001b[0m\u001b[0mdtype\u001b[0m\u001b[0;34m,\u001b[0m \u001b[0mcasting\u001b[0m\u001b[0;34m=\u001b[0m\u001b[0;34m\"unsafe\"\u001b[0m\u001b[0;34m,\u001b[0m \u001b[0mcopy\u001b[0m\u001b[0;34m=\u001b[0m\u001b[0;32mFalse\u001b[0m\u001b[0;34m)\u001b[0m\u001b[0;34m\u001b[0m\u001b[0;34m\u001b[0m\u001b[0m\n\u001b[1;32m    597\u001b[0m                 \u001b[0;32melse\u001b[0m\u001b[0;34m:\u001b[0m\u001b[0;34m\u001b[0m\u001b[0;34m\u001b[0m\u001b[0m\n\u001b[0;32m--> 598\u001b[0;31m                     \u001b[0marray\u001b[0m \u001b[0;34m=\u001b[0m \u001b[0mnp\u001b[0m\u001b[0;34m.\u001b[0m\u001b[0masarray\u001b[0m\u001b[0;34m(\u001b[0m\u001b[0marray\u001b[0m\u001b[0;34m,\u001b[0m \u001b[0morder\u001b[0m\u001b[0;34m=\u001b[0m\u001b[0morder\u001b[0m\u001b[0;34m,\u001b[0m \u001b[0mdtype\u001b[0m\u001b[0;34m=\u001b[0m\u001b[0mdtype\u001b[0m\u001b[0;34m)\u001b[0m\u001b[0;34m\u001b[0m\u001b[0;34m\u001b[0m\u001b[0m\n\u001b[0m\u001b[1;32m    599\u001b[0m             \u001b[0;32mexcept\u001b[0m \u001b[0mComplexWarning\u001b[0m\u001b[0;34m:\u001b[0m\u001b[0;34m\u001b[0m\u001b[0;34m\u001b[0m\u001b[0m\n\u001b[1;32m    600\u001b[0m                 raise ValueError(\"Complex data not supported\\n\"\n",
      "\u001b[0;32m/opt/anaconda3/lib/python3.7/site-packages/numpy/core/_asarray.py\u001b[0m in \u001b[0;36masarray\u001b[0;34m(a, dtype, order)\u001b[0m\n\u001b[1;32m     83\u001b[0m \u001b[0;34m\u001b[0m\u001b[0m\n\u001b[1;32m     84\u001b[0m     \"\"\"\n\u001b[0;32m---> 85\u001b[0;31m     \u001b[0;32mreturn\u001b[0m \u001b[0marray\u001b[0m\u001b[0;34m(\u001b[0m\u001b[0ma\u001b[0m\u001b[0;34m,\u001b[0m \u001b[0mdtype\u001b[0m\u001b[0;34m,\u001b[0m \u001b[0mcopy\u001b[0m\u001b[0;34m=\u001b[0m\u001b[0;32mFalse\u001b[0m\u001b[0;34m,\u001b[0m \u001b[0morder\u001b[0m\u001b[0;34m=\u001b[0m\u001b[0morder\u001b[0m\u001b[0;34m)\u001b[0m\u001b[0;34m\u001b[0m\u001b[0;34m\u001b[0m\u001b[0m\n\u001b[0m\u001b[1;32m     86\u001b[0m \u001b[0;34m\u001b[0m\u001b[0m\n\u001b[1;32m     87\u001b[0m \u001b[0;34m\u001b[0m\u001b[0m\n",
      "\u001b[0;31mValueError\u001b[0m: setting an array element with a sequence."
     ]
    }
   ],
   "source": [
    "cosine_sim_food = simScore(food_city2, food_user)\n",
    "cosine_sim_food"
   ]
  },
  {
   "cell_type": "code",
   "execution_count": null,
   "metadata": {},
   "outputs": [],
   "source": [
    "food_new"
   ]
  },
  {
   "cell_type": "markdown",
   "metadata": {},
   "source": [
    "## Attractions City"
   ]
  },
  {
   "cell_type": "code",
   "execution_count": null,
   "metadata": {},
   "outputs": [],
   "source": [
    "# Needs to go into a function\n"
   ]
  },
  {
   "cell_type": "code",
   "execution_count": 16,
   "metadata": {},
   "outputs": [],
   "source": [
    "place_of_worship = ['place_of_worship', 'hindu_temple', 'church', 'mosque', 'synagogue']\n",
    "shopping = ['store', 'shopping_mall', 'clothing_store', 'electronics_store', 'grocery_or_supermarket', 'department_store']\n",
    "\n",
    "attractions_to_keep = ['amusement_park', 'museum', 'park', 'art_gallery', 'aquarium',\n",
    "                      'zoo', 'library', 'movie_theater', 'natural_feature'] + place_of_worship + shopping"
   ]
  },
  {
   "cell_type": "code",
   "execution_count": 17,
   "metadata": {},
   "outputs": [],
   "source": [
    "# Pulls all attraction data from database. Will groupby each attraction type that I want to keep and count.\n",
    "# Returns: Each city with a count for the specified attractions\n",
    "\n",
    "def cityAttractionMain():\n",
    "    attraction_df = get_df('attractions')\n",
    "    attractions_split = split_types(attraction_df)\n",
    "    dummy = dummies(attractions_split)\n",
    "    by_city, all_attractions = attraction_count(dummy, attractions_split)\n",
    "    city_group = combineAttractionTypes(by_city)\n",
    "    city_attraction = labelEncodeAttraction(city_group)\n",
    "    clean_city_attraction, city_attraction = cleanCityAttraction(city_attraction)\n",
    "    \n",
    "    return clean_city_attraction, city_attraction\n",
    "\n",
    "def split_types(df):\n",
    "    df['split_types'] = [ast.literal_eval(x) for x in df.types]\n",
    "    df['split_types_str'] = [','.join(x) for x in df.split_types]\n",
    "    \n",
    "    return df\n",
    "\n",
    "def dummies(df):\n",
    "    dummies = df.split_types_str.str.get_dummies(sep=',')\n",
    "\n",
    "    return dummies\n",
    "\n",
    "\n",
    "def attraction_count(dummies_df, all_attractions_df):\n",
    "\n",
    "    all_attractions_df = pd.concat([all_attractions_df, dummies_df], axis=1)\n",
    "    type_col_names = attractions_to_keep\n",
    "    type_col_names.extend(['country', 'city', 'id'])\n",
    "    attraction_count = all_attractions_df[type_col_names].groupby(['country', 'city', 'id']).sum()\n",
    "    \n",
    "    return attraction_count, all_attractions_df\n",
    "\n",
    "def combineAttractionTypes(city_group):\n",
    "    city_group['place_of_worship2'] = city_group['place_of_worship'] + city_group['hindu_temple'] + city_group['church'] + city_group['mosque'] + city_group['synagogue']\n",
    "    city_group['store2'] = city_group['store'] + city_group['shopping_mall'] + city_group['clothing_store'] + city_group['electronics_store'] + city_group['grocery_or_supermarket'] + city_group['department_store']\n",
    "    \n",
    "    city_group.rename(columns={\"place_of_worship2\" : 'place_of_worship', 'store2': 'shop', \"place_of_worship\" : 'place_of_worship5',}, inplace=True)\n",
    "    \n",
    "    city_clean = city_group[['amusement_park', 'art_gallery', 'aquarium', 'library', 'movie_theater',\n",
    "                              'museum', 'natural_feature', 'park', 'place_of_worship', 'shop', 'zoo']].copy()\n",
    "    \n",
    "    return city_clean\n",
    "\n",
    "\n",
    "def labelEncodeAttraction(city_attraction):\n",
    "    le = buildLabelEncoder()\n",
    "    city_attraction.reset_index(inplace=True)\n",
    "    city_attraction['label_id'] = le.transform(city_attraction.city)\n",
    "    \n",
    "    return city_attraction\n",
    "\n",
    "def cleanCityAttraction(city_attraction):\n",
    "    city_attraction.sort_values('label_id', inplace=True)\n",
    "    city_attraction.set_index('label_id', inplace=True)\n",
    "    city_attraction.drop(columns=['id'], inplace=True)\n",
    "    city_attraction_clean = city_attraction.drop(columns=['city', 'country'])\n",
    "    \n",
    "    return city_attraction_clean, city_attraction\n"
   ]
  },
  {
   "cell_type": "code",
   "execution_count": null,
   "metadata": {},
   "outputs": [],
   "source": [
    "city_attraction, city_attraction_with_country = cityAttractionMain()\n",
    "\n"
   ]
  },
  {
   "cell_type": "code",
   "execution_count": null,
   "metadata": {},
   "outputs": [],
   "source": [
    "city_attraction_with_country"
   ]
  },
  {
   "cell_type": "markdown",
   "metadata": {},
   "source": [
    "### Attractions User"
   ]
  },
  {
   "cell_type": "code",
   "execution_count": 18,
   "metadata": {},
   "outputs": [],
   "source": [
    "# This pulls from survey table and selects only attraction colummns\n",
    "def createAttractionUserDf():\n",
    "    survey = get_df('survey_response')\n",
    "    #survey = total.copy()\n",
    "    user_attraction = survey[['amusement_park', 'art_gallery', 'aquarium', 'library', 'movie_theater',\n",
    "                              'museum', 'natural_feature', 'park', 'place_of_worship', 'shop', 'zoo']]\n",
    "    return user_attraction"
   ]
  },
  {
   "cell_type": "code",
   "execution_count": null,
   "metadata": {},
   "outputs": [],
   "source": [
    "# Fake\n",
    "user_attractionf = createAttractionUserDf()\n"
   ]
  },
  {
   "cell_type": "code",
   "execution_count": null,
   "metadata": {},
   "outputs": [],
   "source": [
    "user_attraction = createAttractionUserDf()\n"
   ]
  },
  {
   "cell_type": "code",
   "execution_count": null,
   "metadata": {},
   "outputs": [],
   "source": [
    "user_attraction"
   ]
  },
  {
   "cell_type": "code",
   "execution_count": null,
   "metadata": {},
   "outputs": [],
   "source": [
    "city_attraction"
   ]
  },
  {
   "cell_type": "code",
   "execution_count": null,
   "metadata": {
    "scrolled": true
   },
   "outputs": [],
   "source": [
    "city_attraction_with_country"
   ]
  },
  {
   "cell_type": "code",
   "execution_count": null,
   "metadata": {},
   "outputs": [],
   "source": [
    "# Fake\n",
    "cosine_sim_attractionf = simScore(city_attraction, user_attractionf)\n",
    "\n",
    "cosine_sim_attractionf"
   ]
  },
  {
   "cell_type": "code",
   "execution_count": null,
   "metadata": {
    "scrolled": true
   },
   "outputs": [],
   "source": [
    "cosine_sim_attraction = simScore(city_attraction, user_attraction)\n",
    "\n",
    "cosine_sim_attraction"
   ]
  },
  {
   "cell_type": "code",
   "execution_count": null,
   "metadata": {},
   "outputs": [],
   "source": [
    "cosine_sim_food"
   ]
  },
  {
   "cell_type": "markdown",
   "metadata": {},
   "source": [
    "### UserxCity matrix sim score\n"
   ]
  },
  {
   "cell_type": "code",
   "execution_count": 19,
   "metadata": {},
   "outputs": [],
   "source": [
    "# Survey response data\n",
    "\n",
    "# This handles top 5 favorite cities\n",
    "\n",
    "def createSimMatrixMain(table_name, cosine_sim_food, cosine_sim_attraction, food_df_city_name):\n",
    "    \n",
    "    top_city_melt = addTopCity(table_name)\n",
    "    top_city_no_na = dropNullRankCity(top_city_melt)\n",
    "    # need to call to create cosine_sim_food\n",
    "    sim_df = createUserCitySimMatrix(cosine_sim_food, cosine_sim_attraction, food_df_city_name)\n",
    "    \n",
    "    sim_matrix_ready = mergeRanktoMatrix(sim_df, top_city_no_na)\n",
    "    \n",
    "    \n",
    "    return sim_matrix_ready\n",
    "\n",
    "\n",
    "def addTopCity(table_name):\n",
    "    survey = get_df(table_name)\n",
    "\n",
    "    top_city = survey[['favorite_city_one', 'favorite_city_two', 'favorite_city_three', 'favorite_city_four', 'favorite_city_five']].copy()\n",
    "    \n",
    "    top_city.reset_index(inplace=True)\n",
    "    top_city.rename(columns={'index': 'user'}, inplace=True)\n",
    "    top_city = top_city.replace({'': np.nan})\n",
    "    top_city_melt = top_city.melt(id_vars=['user'])\n",
    "    \n",
    "    top_city_melt['rank'] = top_city_melt.apply(rank_from_col,axis=1)\n",
    "\n",
    "\n",
    "    return top_city_melt\n",
    "\n",
    "\n",
    "def rank_from_col(x):\n",
    "    if x.variable=='favorite_city_one':\n",
    "       return 1\n",
    "    elif x.variable=='favorite_city_two':\n",
    "       return 1\n",
    "    elif x.variable=='favorite_city_three':\n",
    "       return 1\n",
    "    elif x.variable=='favorite_city_four':\n",
    "       return 1\n",
    "    elif x.variable=='favorite_city_five':\n",
    "       return 1\n",
    "    elif x.value == 'None':\n",
    "        return 0 \n",
    "    \n",
    "#Drops city ranks with Null values as city\n",
    "#Sets index\n",
    "def dropNullRankCity(top_city_melt):\n",
    "    top_city_no_na = top_city_melt.dropna().copy()\n",
    "    top_city_no_na.rename(columns={'value':'city'}, inplace=True)\n",
    "    top_city_no_na.set_index(['user', 'city'], inplace=True)\n",
    "    \n",
    "    return top_city_no_na\n",
    "\n",
    "\n",
    "\n",
    "def mergeRanktoMatrix(sim_df, rank_df):\n",
    "    \n",
    "    sim_matrix = pd.merge(left=sim_df, right=rank_df[['rank']], left_index=True, right_index=True, how='left')\n",
    "    sim_matrix.fillna(0, inplace=True)\n",
    "    sim_matrix.sort_values('user', inplace=True)\n",
    "    sim_matrix.set_index('city_id', append=True, inplace=True)\n",
    "\n",
    "    return sim_matrix\n",
    "\n",
    "\n",
    "    "
   ]
  },
  {
   "cell_type": "code",
   "execution_count": 20,
   "metadata": {},
   "outputs": [],
   "source": [
    "# This melts the cosine sim matrix that is userXcity to create my dataset where every userxcity combo is there\n",
    "# Start with the cosine_food\n",
    "# Could maybe pull out first couple lines and create own function...\n",
    "\n",
    "# Survey response data\n",
    "\n",
    "def createUserCitySimMatrix(cosine_sim_food, cosine_sim_attraction, food_df_city_name):\n",
    "    cosine_food = cosine_sim_food.reset_index()\n",
    "    cos_melt = cosine_food.melt(id_vars=['index'], value_name=\"food_sim\", var_name = \"city_id\")\n",
    "    cos_melt.rename(columns={'index': 'user'}, inplace=True)\n",
    "    cos_melt['city_id'] = cos_melt['city_id'].astype(int)\n",
    "    \n",
    "    city_dict = dict(zip(food_new['label_id'], food_new['city']))\n",
    "    \n",
    "    cos_melt['city'] = cos_melt['city_id'].map(city_dict)\n",
    "    \n",
    "    matrix_full = addAttractionSimMatrix(cos_melt, cosine_sim_attraction)\n",
    "\n",
    "    return matrix_full\n",
    "\n",
    "\n",
    "# melts attraction cosine matrix and then merge \n",
    "def addAttractionSimMatrix(user_city_matrix, cosine_sim_attraction):\n",
    "    cosine_attraction = cosine_sim_attraction.reset_index()\n",
    "    cos_melt = cosine_attraction.melt(id_vars=['index'], value_name=\"attraction_sim\", var_name = \"city_id\")\n",
    "    cos_melt['city_id'] = cos_melt['city_id'].astype(int)\n",
    "    \n",
    "    sim_matrix = pd.merge(right=user_city_matrix, left=cos_melt, right_on=['user', 'city_id'], left_on=['index', 'city_id'])\n",
    "    \n",
    "    final_matrix = addSumColumn(sim_matrix)\n",
    "    \n",
    "    return final_matrix\n",
    "\n",
    "def addSumColumn(sim_score_matrix):\n",
    "        \n",
    "    sim_score_matrix['sum'] = sim_score_matrix['food_sim'] + sim_score_matrix['attraction_sim']\n",
    "    clean = cleanMatrix(sim_score_matrix)\n",
    "    \n",
    "    return clean\n",
    "\n",
    "def cleanMatrix(matrix):\n",
    "    \n",
    "    matrix.drop(columns=['index'], inplace=True)\n",
    "    clean = matrix[['user', 'city_id', 'city', 'food_sim', 'attraction_sim', 'sum']]\n",
    "    clean.set_index(['user', 'city'], inplace=True)\n",
    "    \n",
    "    return clean\n",
    "    \n",
    "    \n"
   ]
  },
  {
   "cell_type": "code",
   "execution_count": null,
   "metadata": {},
   "outputs": [],
   "source": [
    "full_sim_matrix = createUserCitySimMatrix(cosine_sim_food, cosine_sim_attraction)\n",
    "full_sim_matrix"
   ]
  },
  {
   "cell_type": "code",
   "execution_count": null,
   "metadata": {},
   "outputs": [],
   "source": [
    "#Fake\n",
    "\n",
    "#work_fake = createUserCitySimMatrix(cosine_sim_foodf, cosine_sim_attractionf)\n",
    "#work_fake.sort_index(level=0, inplace=True)\n",
    "#sim_fake = work_fake"
   ]
  },
  {
   "cell_type": "code",
   "execution_count": null,
   "metadata": {},
   "outputs": [],
   "source": [
    "# might want to add this. It will sort by each user group by the top sum score\n",
    "\n",
    "#ordered_sum = sim_score_rank.sort_values('sum', ascending=False).sort_index(level='user', sort_remaining=False)\n"
   ]
  },
  {
   "cell_type": "code",
   "execution_count": null,
   "metadata": {},
   "outputs": [],
   "source": [
    "full_sim_matrix = createSimMatrixMain('survey_response', cosine_sim_food, cosine_sim_attraction)\n",
    "full_sim_matrix"
   ]
  },
  {
   "cell_type": "code",
   "execution_count": null,
   "metadata": {},
   "outputs": [],
   "source": [
    "hmmfix2[hmmfix2['rank'] == 1]"
   ]
  },
  {
   "cell_type": "markdown",
   "metadata": {},
   "source": [
    "## Survey Response transformation"
   ]
  },
  {
   "cell_type": "code",
   "execution_count": 21,
   "metadata": {},
   "outputs": [],
   "source": [
    "def transformUserInput(table_name):\n",
    "    survey = get_df(table_name)\n",
    "    survey.drop(columns=[''], inplace=True)\n",
    "    nationality_dict = {'Australia': 1, 'Canada': 2, 'China': 3, 'Finland': 4, 'Honduras': 5,\n",
    "              'India': 6, 'Israel': 7, 'Japan': 8, 'Mexico': 9, 'Pakistan': 10, 'Philippines': 11, 'United States': 12}\n",
    "\n",
    "    survey.nationality = survey.nationality.map(nationality_dict)\n",
    "    survey = survey.replace({'': 'Zx'})\n",
    "    survey = encodeTopCity(survey)\n",
    "    survey = survey.apply(pd.to_numeric, errors='ignore')\n",
    "    finished = userDemographicDummy(survey)\n",
    "    \n",
    "    return finished\n",
    "\n",
    "\n",
    "\n",
    "def encodeTopCity(user_response):\n",
    "    \n",
    "    le = buildLabelEncoder()\n",
    "    user_response['one'] = le.transform(user_response['favorite_city_one'])\n",
    "    user_response['two'] = le.transform(user_response['favorite_city_two'])\n",
    "    user_response['three'] = le.transform(user_response['favorite_city_three'])\n",
    "    user_response['four'] = le.transform(user_response['favorite_city_four'])\n",
    "    user_response['five'] = le.transform(user_response['favorite_city_five'])\n",
    "    \n",
    "    return user_response\n",
    "\n",
    "\n",
    "def userDemographicDummy(user_response):\n",
    "    \n",
    "    ready = user_response.drop(columns=['favorite_city_one', 'favorite_city_two', 'favorite_city_three',\n",
    "                                          'favorite_city_four', 'favorite_city_five'])\n",
    "    dummy = pd.get_dummies(ready)\n",
    "    \n",
    "    return dummy\n",
    "    \n",
    "    "
   ]
  },
  {
   "cell_type": "code",
   "execution_count": null,
   "metadata": {},
   "outputs": [],
   "source": [
    "ok = get_df('survey_response')\n",
    "ok"
   ]
  },
  {
   "cell_type": "code",
   "execution_count": null,
   "metadata": {},
   "outputs": [],
   "source": [
    "clean_survey = transformUserInput('survey_response')"
   ]
  },
  {
   "cell_type": "code",
   "execution_count": null,
   "metadata": {
    "scrolled": true
   },
   "outputs": [],
   "source": [
    "finished.columns"
   ]
  },
  {
   "cell_type": "code",
   "execution_count": null,
   "metadata": {},
   "outputs": [],
   "source": [
    "#Fake\n",
    "#fake_survey_finished = pd.get_dummies(survey_fake)\n",
    "#fake_survey_finished"
   ]
  },
  {
   "cell_type": "markdown",
   "metadata": {},
   "source": [
    "## Food and Attraction City"
   ]
  },
  {
   "cell_type": "code",
   "execution_count": 22,
   "metadata": {},
   "outputs": [],
   "source": [
    "# This is not merging on label_id it is merging on id. WHY DO I HAVE ID\n",
    "def mergeAttractionFood(attraction_df, food_df):\n",
    "    \n",
    "    city = pd.merge(left = attraction_df, right = food_df, left_index = True, right_index=True)\n",
    "    \n",
    "    city_cont = addContinent(city)\n",
    "    \n",
    "    return city_cont\n",
    "\n",
    "\n",
    "def addContinent(city_df):\n",
    "    continents = {\n",
    "    'NA': 'North America',\n",
    "    'SA': 'South America', \n",
    "    'AS': 'Asia',\n",
    "    'OC': 'Australia',\n",
    "    'AF': 'Africa',\n",
    "    'EU': 'Europe'}\n",
    "    \n",
    "    city_df['continent'] = [continents[country_alpha2_to_continent_code(country_name_to_country_alpha2(country))] for country in city_df['country']]\n",
    "    city_df.set_index(['city', 'country'], append=True, inplace=True)\n",
    "    \n",
    "    #city_cont_dummy = dummyContinent(city_df)\n",
    "    \n",
    "    return city_df\n",
    "\n",
    "\n",
    "def continentToNumber(city_df):\n",
    "    \n",
    "    cont_dict = {''}\n",
    "    \n",
    "    return\n",
    "\n",
    "\n",
    "def dummyContinent(city_df):\n",
    "    \n",
    "    city_dummy = pd.get_dummies(city_df)\n",
    "    \n",
    "    return city_dummy\n",
    "    \n"
   ]
  },
  {
   "cell_type": "code",
   "execution_count": null,
   "metadata": {},
   "outputs": [],
   "source": [
    "food_city2"
   ]
  },
  {
   "cell_type": "code",
   "execution_count": null,
   "metadata": {},
   "outputs": [],
   "source": [
    "city_attraction_with_country"
   ]
  },
  {
   "cell_type": "code",
   "execution_count": null,
   "metadata": {},
   "outputs": [],
   "source": [
    "c = mergeAttractionFood(city_attraction_with_country, food_city2)"
   ]
  },
  {
   "cell_type": "code",
   "execution_count": null,
   "metadata": {},
   "outputs": [],
   "source": [
    "c"
   ]
  },
  {
   "cell_type": "code",
   "execution_count": null,
   "metadata": {},
   "outputs": [],
   "source": [
    "city_df2 = addContinent(c)"
   ]
  },
  {
   "cell_type": "code",
   "execution_count": null,
   "metadata": {},
   "outputs": [],
   "source": [
    "city_df2_dummy = dummyContinent(city_df2)"
   ]
  },
  {
   "cell_type": "code",
   "execution_count": null,
   "metadata": {},
   "outputs": [],
   "source": [
    "city_df2_dummy"
   ]
  },
  {
   "cell_type": "markdown",
   "metadata": {},
   "source": [
    "## Combing all data to get userxcity raw input and sim scores  \n",
    "\n",
    "all food and attraction data"
   ]
  },
  {
   "cell_type": "code",
   "execution_count": 23,
   "metadata": {},
   "outputs": [],
   "source": [
    "def userCityCreate(survey_df_clean, city_df_all):\n",
    "    \n",
    "    \n",
    "    reindex_survey = survey_df_clean.reset_index()\n",
    "    reindex_city = city_df_all.reset_index()\n",
    "    reindex_city = reindex_city.add_suffix('_city')\n",
    "    reindex_survey = reindex_survey.add_suffix('_user')\n",
    "    reindex_city['key'] = 1\n",
    "    reindex_survey['key'] = 1\n",
    "    \n",
    "    full = pd.merge(reindex_city , reindex_survey, on='key').drop('key',axis=1)\n",
    "    \n",
    "    raw_inputs_matrix = cleanUserCityMatrix(full)\n",
    "\n",
    "    return raw_inputs_matrix\n",
    "\n",
    "def cleanUserCityMatrix(matrix):\n",
    "    \n",
    "    matrix.rename(columns={'label_id_city': 'city_id', 'city_city': 'city', 'index_user': 'user'}, inplace=True)\n",
    "    matrix.drop(columns=['country_city'], inplace=True)\n",
    "    matrix.set_index(['user', 'city', 'city_id'], inplace=True)\n",
    "    matrix.sort_index(level=0, inplace=True)\n",
    "\n",
    "    return matrix\n",
    "    \n",
    "\n",
    "    "
   ]
  },
  {
   "cell_type": "code",
   "execution_count": 24,
   "metadata": {},
   "outputs": [],
   "source": [
    "def finalMerge(raw_df, sim_score_df):\n",
    "    full_matrix = pd.merge(left= raw_df, right= sim_score_df, right_index=True, left_index=True)\n",
    "    full_matrix.sort_index(level=0, inplace=True)\n",
    "\n",
    "    return full_matrix"
   ]
  },
  {
   "cell_type": "code",
   "execution_count": 25,
   "metadata": {},
   "outputs": [],
   "source": [
    "def startToEnd():\n",
    "    \n",
    "    food_city, food_city_name = cityFoodMain()\n",
    "    food_user = createFoodUserDf()\n",
    "    cosine_sim_food = simScore(food_city, food_user)\n",
    "    \n",
    "    city_attraction, city_attraction_with_country = cityAttractionMain()\n",
    "    user_attraction = createAttractionUserDf()    \n",
    "    cosine_sim_attraction = simScore(city_attraction, user_attraction)\n",
    "    \n",
    "    full_sim_matrix = createSimMatrixMain('survey_response', cosine_sim_food, cosine_sim_attraction, food_city_name)\n",
    "    \n",
    "    survey_clean = transformUserInput('survey_response')\n",
    "    \n",
    "    full_city_data = mergeAttractionFood(city_attraction_with_country, food_city)\n",
    "    \n",
    "    full_raw_matrix = userCityCreate(survey_clean, full_city_data)\n",
    "    \n",
    "    finished = finalMerge(full_raw_matrix, full_sim_matrix)\n",
    "    \n",
    "    return finished\n",
    "\n",
    "\n",
    "\n"
   ]
  },
  {
   "cell_type": "code",
   "execution_count": 26,
   "metadata": {},
   "outputs": [],
   "source": [
    "testing = startToEnd()"
   ]
  },
  {
   "cell_type": "code",
   "execution_count": 27,
   "metadata": {},
   "outputs": [
    {
     "data": {
      "text/html": [
       "<div>\n",
       "<style scoped>\n",
       "    .dataframe tbody tr th:only-of-type {\n",
       "        vertical-align: middle;\n",
       "    }\n",
       "\n",
       "    .dataframe tbody tr th {\n",
       "        vertical-align: top;\n",
       "    }\n",
       "\n",
       "    .dataframe thead th {\n",
       "        text-align: right;\n",
       "    }\n",
       "</style>\n",
       "<table border=\"1\" class=\"dataframe\">\n",
       "  <thead>\n",
       "    <tr style=\"text-align: right;\">\n",
       "      <th></th>\n",
       "      <th></th>\n",
       "      <th></th>\n",
       "      <th>amusement_park_city</th>\n",
       "      <th>art_gallery_city</th>\n",
       "      <th>aquarium_city</th>\n",
       "      <th>library_city</th>\n",
       "      <th>movie_theater_city</th>\n",
       "      <th>museum_city</th>\n",
       "      <th>natural_feature_city</th>\n",
       "      <th>park_city</th>\n",
       "      <th>place_of_worship_city</th>\n",
       "      <th>shop_city</th>\n",
       "      <th>...</th>\n",
       "      <th>age_15-25_user</th>\n",
       "      <th>age_26-40_user</th>\n",
       "      <th>age_41-55_user</th>\n",
       "      <th>age_55+_user</th>\n",
       "      <th>gender_Female_user</th>\n",
       "      <th>gender_Male_user</th>\n",
       "      <th>food_sim</th>\n",
       "      <th>attraction_sim</th>\n",
       "      <th>sum</th>\n",
       "      <th>rank</th>\n",
       "    </tr>\n",
       "    <tr>\n",
       "      <th>user</th>\n",
       "      <th>city</th>\n",
       "      <th>city_id</th>\n",
       "      <th></th>\n",
       "      <th></th>\n",
       "      <th></th>\n",
       "      <th></th>\n",
       "      <th></th>\n",
       "      <th></th>\n",
       "      <th></th>\n",
       "      <th></th>\n",
       "      <th></th>\n",
       "      <th></th>\n",
       "      <th></th>\n",
       "      <th></th>\n",
       "      <th></th>\n",
       "      <th></th>\n",
       "      <th></th>\n",
       "      <th></th>\n",
       "      <th></th>\n",
       "      <th></th>\n",
       "      <th></th>\n",
       "      <th></th>\n",
       "      <th></th>\n",
       "    </tr>\n",
       "  </thead>\n",
       "  <tbody>\n",
       "    <tr>\n",
       "      <th rowspan=\"5\" valign=\"top\">0</th>\n",
       "      <th>Abu Dhabi</th>\n",
       "      <th>0</th>\n",
       "      <td>3</td>\n",
       "      <td>4</td>\n",
       "      <td>0</td>\n",
       "      <td>0</td>\n",
       "      <td>0</td>\n",
       "      <td>6</td>\n",
       "      <td>1</td>\n",
       "      <td>18</td>\n",
       "      <td>2</td>\n",
       "      <td>0</td>\n",
       "      <td>...</td>\n",
       "      <td>0</td>\n",
       "      <td>1</td>\n",
       "      <td>0</td>\n",
       "      <td>0</td>\n",
       "      <td>1</td>\n",
       "      <td>0</td>\n",
       "      <td>0.946454</td>\n",
       "      <td>0.599510</td>\n",
       "      <td>1.545963</td>\n",
       "      <td>0.0</td>\n",
       "    </tr>\n",
       "    <tr>\n",
       "      <th>Accra</th>\n",
       "      <th>1</th>\n",
       "      <td>0</td>\n",
       "      <td>1</td>\n",
       "      <td>0</td>\n",
       "      <td>0</td>\n",
       "      <td>0</td>\n",
       "      <td>4</td>\n",
       "      <td>2</td>\n",
       "      <td>1</td>\n",
       "      <td>20</td>\n",
       "      <td>2</td>\n",
       "      <td>...</td>\n",
       "      <td>0</td>\n",
       "      <td>1</td>\n",
       "      <td>0</td>\n",
       "      <td>0</td>\n",
       "      <td>1</td>\n",
       "      <td>0</td>\n",
       "      <td>0.769044</td>\n",
       "      <td>0.584991</td>\n",
       "      <td>1.354035</td>\n",
       "      <td>0.0</td>\n",
       "    </tr>\n",
       "    <tr>\n",
       "      <th>Agra</th>\n",
       "      <th>2</th>\n",
       "      <td>0</td>\n",
       "      <td>0</td>\n",
       "      <td>0</td>\n",
       "      <td>0</td>\n",
       "      <td>0</td>\n",
       "      <td>5</td>\n",
       "      <td>1</td>\n",
       "      <td>6</td>\n",
       "      <td>44</td>\n",
       "      <td>0</td>\n",
       "      <td>...</td>\n",
       "      <td>0</td>\n",
       "      <td>1</td>\n",
       "      <td>0</td>\n",
       "      <td>0</td>\n",
       "      <td>1</td>\n",
       "      <td>0</td>\n",
       "      <td>0.762457</td>\n",
       "      <td>0.525505</td>\n",
       "      <td>1.287962</td>\n",
       "      <td>0.0</td>\n",
       "    </tr>\n",
       "    <tr>\n",
       "      <th>Amman</th>\n",
       "      <th>3</th>\n",
       "      <td>0</td>\n",
       "      <td>2</td>\n",
       "      <td>0</td>\n",
       "      <td>1</td>\n",
       "      <td>0</td>\n",
       "      <td>11</td>\n",
       "      <td>0</td>\n",
       "      <td>3</td>\n",
       "      <td>12</td>\n",
       "      <td>2</td>\n",
       "      <td>...</td>\n",
       "      <td>0</td>\n",
       "      <td>1</td>\n",
       "      <td>0</td>\n",
       "      <td>0</td>\n",
       "      <td>1</td>\n",
       "      <td>0</td>\n",
       "      <td>0.698948</td>\n",
       "      <td>0.626382</td>\n",
       "      <td>1.325330</td>\n",
       "      <td>0.0</td>\n",
       "    </tr>\n",
       "    <tr>\n",
       "      <th>Amsterdam</th>\n",
       "      <th>4</th>\n",
       "      <td>0</td>\n",
       "      <td>2</td>\n",
       "      <td>1</td>\n",
       "      <td>0</td>\n",
       "      <td>1</td>\n",
       "      <td>29</td>\n",
       "      <td>0</td>\n",
       "      <td>7</td>\n",
       "      <td>12</td>\n",
       "      <td>1</td>\n",
       "      <td>...</td>\n",
       "      <td>0</td>\n",
       "      <td>1</td>\n",
       "      <td>0</td>\n",
       "      <td>0</td>\n",
       "      <td>1</td>\n",
       "      <td>0</td>\n",
       "      <td>0.891063</td>\n",
       "      <td>0.496455</td>\n",
       "      <td>1.387518</td>\n",
       "      <td>0.0</td>\n",
       "    </tr>\n",
       "    <tr>\n",
       "      <th>...</th>\n",
       "      <th>...</th>\n",
       "      <th>...</th>\n",
       "      <td>...</td>\n",
       "      <td>...</td>\n",
       "      <td>...</td>\n",
       "      <td>...</td>\n",
       "      <td>...</td>\n",
       "      <td>...</td>\n",
       "      <td>...</td>\n",
       "      <td>...</td>\n",
       "      <td>...</td>\n",
       "      <td>...</td>\n",
       "      <td>...</td>\n",
       "      <td>...</td>\n",
       "      <td>...</td>\n",
       "      <td>...</td>\n",
       "      <td>...</td>\n",
       "      <td>...</td>\n",
       "      <td>...</td>\n",
       "      <td>...</td>\n",
       "      <td>...</td>\n",
       "      <td>...</td>\n",
       "      <td>...</td>\n",
       "    </tr>\n",
       "    <tr>\n",
       "      <th rowspan=\"5\" valign=\"top\">151</th>\n",
       "      <th>Washington D.C.</th>\n",
       "      <th>133</th>\n",
       "      <td>0</td>\n",
       "      <td>1</td>\n",
       "      <td>0</td>\n",
       "      <td>1</td>\n",
       "      <td>0</td>\n",
       "      <td>16</td>\n",
       "      <td>0</td>\n",
       "      <td>23</td>\n",
       "      <td>6</td>\n",
       "      <td>0</td>\n",
       "      <td>...</td>\n",
       "      <td>0</td>\n",
       "      <td>1</td>\n",
       "      <td>0</td>\n",
       "      <td>0</td>\n",
       "      <td>0</td>\n",
       "      <td>1</td>\n",
       "      <td>0.833326</td>\n",
       "      <td>0.635983</td>\n",
       "      <td>1.469309</td>\n",
       "      <td>0.0</td>\n",
       "    </tr>\n",
       "    <tr>\n",
       "      <th>Xi'an</th>\n",
       "      <th>134</th>\n",
       "      <td>0</td>\n",
       "      <td>0</td>\n",
       "      <td>0</td>\n",
       "      <td>0</td>\n",
       "      <td>0</td>\n",
       "      <td>10</td>\n",
       "      <td>0</td>\n",
       "      <td>5</td>\n",
       "      <td>12</td>\n",
       "      <td>0</td>\n",
       "      <td>...</td>\n",
       "      <td>0</td>\n",
       "      <td>1</td>\n",
       "      <td>0</td>\n",
       "      <td>0</td>\n",
       "      <td>0</td>\n",
       "      <td>1</td>\n",
       "      <td>0.688247</td>\n",
       "      <td>0.546102</td>\n",
       "      <td>1.234349</td>\n",
       "      <td>0.0</td>\n",
       "    </tr>\n",
       "    <tr>\n",
       "      <th>Xiamen</th>\n",
       "      <th>135</th>\n",
       "      <td>0</td>\n",
       "      <td>0</td>\n",
       "      <td>1</td>\n",
       "      <td>0</td>\n",
       "      <td>0</td>\n",
       "      <td>5</td>\n",
       "      <td>1</td>\n",
       "      <td>9</td>\n",
       "      <td>3</td>\n",
       "      <td>0</td>\n",
       "      <td>...</td>\n",
       "      <td>0</td>\n",
       "      <td>1</td>\n",
       "      <td>0</td>\n",
       "      <td>0</td>\n",
       "      <td>0</td>\n",
       "      <td>1</td>\n",
       "      <td>0.688247</td>\n",
       "      <td>0.657949</td>\n",
       "      <td>1.346196</td>\n",
       "      <td>0.0</td>\n",
       "    </tr>\n",
       "    <tr>\n",
       "      <th>Zhuhai</th>\n",
       "      <th>136</th>\n",
       "      <td>4</td>\n",
       "      <td>0</td>\n",
       "      <td>0</td>\n",
       "      <td>0</td>\n",
       "      <td>0</td>\n",
       "      <td>3</td>\n",
       "      <td>1</td>\n",
       "      <td>5</td>\n",
       "      <td>5</td>\n",
       "      <td>0</td>\n",
       "      <td>...</td>\n",
       "      <td>0</td>\n",
       "      <td>1</td>\n",
       "      <td>0</td>\n",
       "      <td>0</td>\n",
       "      <td>0</td>\n",
       "      <td>1</td>\n",
       "      <td>0.742496</td>\n",
       "      <td>0.591561</td>\n",
       "      <td>1.334057</td>\n",
       "      <td>0.0</td>\n",
       "    </tr>\n",
       "    <tr>\n",
       "      <th>Zurich</th>\n",
       "      <th>137</th>\n",
       "      <td>0</td>\n",
       "      <td>1</td>\n",
       "      <td>1</td>\n",
       "      <td>0</td>\n",
       "      <td>0</td>\n",
       "      <td>11</td>\n",
       "      <td>0</td>\n",
       "      <td>16</td>\n",
       "      <td>8</td>\n",
       "      <td>2</td>\n",
       "      <td>...</td>\n",
       "      <td>0</td>\n",
       "      <td>1</td>\n",
       "      <td>0</td>\n",
       "      <td>0</td>\n",
       "      <td>0</td>\n",
       "      <td>1</td>\n",
       "      <td>0.854726</td>\n",
       "      <td>0.667602</td>\n",
       "      <td>1.522328</td>\n",
       "      <td>0.0</td>\n",
       "    </tr>\n",
       "  </tbody>\n",
       "</table>\n",
       "<p>20976 rows × 47 columns</p>\n",
       "</div>"
      ],
      "text/plain": [
       "                              amusement_park_city  art_gallery_city  \\\n",
       "user city            city_id                                          \n",
       "0    Abu Dhabi       0                          3                 4   \n",
       "     Accra           1                          0                 1   \n",
       "     Agra            2                          0                 0   \n",
       "     Amman           3                          0                 2   \n",
       "     Amsterdam       4                          0                 2   \n",
       "...                                           ...               ...   \n",
       "151  Washington D.C. 133                        0                 1   \n",
       "     Xi'an           134                        0                 0   \n",
       "     Xiamen          135                        0                 0   \n",
       "     Zhuhai          136                        4                 0   \n",
       "     Zurich          137                        0                 1   \n",
       "\n",
       "                              aquarium_city  library_city  movie_theater_city  \\\n",
       "user city            city_id                                                    \n",
       "0    Abu Dhabi       0                    0             0                   0   \n",
       "     Accra           1                    0             0                   0   \n",
       "     Agra            2                    0             0                   0   \n",
       "     Amman           3                    0             1                   0   \n",
       "     Amsterdam       4                    1             0                   1   \n",
       "...                                     ...           ...                 ...   \n",
       "151  Washington D.C. 133                  0             1                   0   \n",
       "     Xi'an           134                  0             0                   0   \n",
       "     Xiamen          135                  1             0                   0   \n",
       "     Zhuhai          136                  0             0                   0   \n",
       "     Zurich          137                  1             0                   0   \n",
       "\n",
       "                              museum_city  natural_feature_city  park_city  \\\n",
       "user city            city_id                                                 \n",
       "0    Abu Dhabi       0                  6                     1         18   \n",
       "     Accra           1                  4                     2          1   \n",
       "     Agra            2                  5                     1          6   \n",
       "     Amman           3                 11                     0          3   \n",
       "     Amsterdam       4                 29                     0          7   \n",
       "...                                   ...                   ...        ...   \n",
       "151  Washington D.C. 133               16                     0         23   \n",
       "     Xi'an           134               10                     0          5   \n",
       "     Xiamen          135                5                     1          9   \n",
       "     Zhuhai          136                3                     1          5   \n",
       "     Zurich          137               11                     0         16   \n",
       "\n",
       "                              place_of_worship_city  shop_city  ...  \\\n",
       "user city            city_id                                    ...   \n",
       "0    Abu Dhabi       0                            2          0  ...   \n",
       "     Accra           1                           20          2  ...   \n",
       "     Agra            2                           44          0  ...   \n",
       "     Amman           3                           12          2  ...   \n",
       "     Amsterdam       4                           12          1  ...   \n",
       "...                                             ...        ...  ...   \n",
       "151  Washington D.C. 133                          6          0  ...   \n",
       "     Xi'an           134                         12          0  ...   \n",
       "     Xiamen          135                          3          0  ...   \n",
       "     Zhuhai          136                          5          0  ...   \n",
       "     Zurich          137                          8          2  ...   \n",
       "\n",
       "                              age_15-25_user  age_26-40_user  age_41-55_user  \\\n",
       "user city            city_id                                                   \n",
       "0    Abu Dhabi       0                     0               1               0   \n",
       "     Accra           1                     0               1               0   \n",
       "     Agra            2                     0               1               0   \n",
       "     Amman           3                     0               1               0   \n",
       "     Amsterdam       4                     0               1               0   \n",
       "...                                      ...             ...             ...   \n",
       "151  Washington D.C. 133                   0               1               0   \n",
       "     Xi'an           134                   0               1               0   \n",
       "     Xiamen          135                   0               1               0   \n",
       "     Zhuhai          136                   0               1               0   \n",
       "     Zurich          137                   0               1               0   \n",
       "\n",
       "                              age_55+_user  gender_Female_user  \\\n",
       "user city            city_id                                     \n",
       "0    Abu Dhabi       0                   0                   1   \n",
       "     Accra           1                   0                   1   \n",
       "     Agra            2                   0                   1   \n",
       "     Amman           3                   0                   1   \n",
       "     Amsterdam       4                   0                   1   \n",
       "...                                    ...                 ...   \n",
       "151  Washington D.C. 133                 0                   0   \n",
       "     Xi'an           134                 0                   0   \n",
       "     Xiamen          135                 0                   0   \n",
       "     Zhuhai          136                 0                   0   \n",
       "     Zurich          137                 0                   0   \n",
       "\n",
       "                             gender_Male_user  food_sim  attraction_sim  \\\n",
       "user city            city_id                                              \n",
       "0    Abu Dhabi       0                      0  0.946454        0.599510   \n",
       "     Accra           1                      0  0.769044        0.584991   \n",
       "     Agra            2                      0  0.762457        0.525505   \n",
       "     Amman           3                      0  0.698948        0.626382   \n",
       "     Amsterdam       4                      0  0.891063        0.496455   \n",
       "...                                       ...       ...             ...   \n",
       "151  Washington D.C. 133                    1  0.833326        0.635983   \n",
       "     Xi'an           134                    1  0.688247        0.546102   \n",
       "     Xiamen          135                    1  0.688247        0.657949   \n",
       "     Zhuhai          136                    1  0.742496        0.591561   \n",
       "     Zurich          137                    1  0.854726        0.667602   \n",
       "\n",
       "                                   sum  rank  \n",
       "user city            city_id                  \n",
       "0    Abu Dhabi       0        1.545963   0.0  \n",
       "     Accra           1        1.354035   0.0  \n",
       "     Agra            2        1.287962   0.0  \n",
       "     Amman           3        1.325330   0.0  \n",
       "     Amsterdam       4        1.387518   0.0  \n",
       "...                                ...   ...  \n",
       "151  Washington D.C. 133      1.469309   0.0  \n",
       "     Xi'an           134      1.234349   0.0  \n",
       "     Xiamen          135      1.346196   0.0  \n",
       "     Zhuhai          136      1.334057   0.0  \n",
       "     Zurich          137      1.522328   0.0  \n",
       "\n",
       "[20976 rows x 47 columns]"
      ]
     },
     "execution_count": 27,
     "metadata": {},
     "output_type": "execute_result"
    }
   ],
   "source": [
    "testing"
   ]
  },
  {
   "cell_type": "code",
   "execution_count": 28,
   "metadata": {},
   "outputs": [
    {
     "data": {
      "text/plain": [
       "Index(['amusement_park_city', 'art_gallery_city', 'aquarium_city',\n",
       "       'library_city', 'movie_theater_city', 'museum_city',\n",
       "       'natural_feature_city', 'park_city', 'place_of_worship_city',\n",
       "       'shop_city', 'zoo_city', '1_city', '2_city', '3_city', '4_city',\n",
       "       'continent_city', 'nationality_user', 'food_one_user', 'food_two_user',\n",
       "       'food_three_user', 'food_four_user', 'art_gallery_user', 'library_user',\n",
       "       'museum_user', 'aquarium_user', 'amusement_park_user', 'zoo_user',\n",
       "       'movie_theater_user', 'shop_user', 'park_user', 'natural_feature_user',\n",
       "       'place_of_worship_user', 'one_user', 'two_user', 'three_user',\n",
       "       'four_user', 'five_user', 'age_15-25_user', 'age_26-40_user',\n",
       "       'age_41-55_user', 'age_55+_user', 'gender_Female_user',\n",
       "       'gender_Male_user', 'food_sim', 'attraction_sim', 'sum', 'rank'],\n",
       "      dtype='object')"
      ]
     },
     "execution_count": 28,
     "metadata": {},
     "output_type": "execute_result"
    }
   ],
   "source": [
    "testing.columns"
   ]
  },
  {
   "cell_type": "code",
   "execution_count": 29,
   "metadata": {},
   "outputs": [],
   "source": [
    "testing.to_csv(r\"/Users/tristannisbet/Documents/SM/Dataframe/new/production_dataframe.csv\")"
   ]
  },
  {
   "cell_type": "code",
   "execution_count": null,
   "metadata": {
    "scrolled": true
   },
   "outputs": [],
   "source": [
    "done = userCityCreate(finished, c)\n",
    "done"
   ]
  },
  {
   "cell_type": "code",
   "execution_count": null,
   "metadata": {},
   "outputs": [],
   "source": [
    "done.columns"
   ]
  },
  {
   "cell_type": "code",
   "execution_count": null,
   "metadata": {},
   "outputs": [],
   "source": [
    "done_dummy = userCityCreate(finished, city_df2_dummy)\n",
    "done_dummy"
   ]
  },
  {
   "cell_type": "code",
   "execution_count": null,
   "metadata": {},
   "outputs": [],
   "source": [
    "done_dummy.columns"
   ]
  },
  {
   "cell_type": "code",
   "execution_count": null,
   "metadata": {
    "scrolled": true
   },
   "outputs": [],
   "source": [
    "#Fake\n",
    "\n",
    "#done_fake2 = userCityCreate(fake_survey_finished, city4)\n",
    "#done_fake2.set_index('user', append=True, inplace=True)\n",
    "#fake_survey_finished.reset_index(drop=True, inplace=True)"
   ]
  },
  {
   "cell_type": "code",
   "execution_count": null,
   "metadata": {},
   "outputs": [],
   "source": [
    "hmmfix2"
   ]
  },
  {
   "cell_type": "code",
   "execution_count": null,
   "metadata": {},
   "outputs": [],
   "source": [
    "finished = finalMerge(done, hmmfix2)"
   ]
  },
  {
   "cell_type": "code",
   "execution_count": null,
   "metadata": {},
   "outputs": [],
   "source": [
    "finished.sort_index(level=0, inplace=True)"
   ]
  },
  {
   "cell_type": "code",
   "execution_count": null,
   "metadata": {
    "scrolled": true
   },
   "outputs": [],
   "source": [
    "finished.columns"
   ]
  },
  {
   "cell_type": "code",
   "execution_count": null,
   "metadata": {},
   "outputs": [],
   "source": [
    "# Fake\n",
    "#final = finalMerge(done_fake2, sim_matrix_fake)\n"
   ]
  },
  {
   "cell_type": "code",
   "execution_count": null,
   "metadata": {},
   "outputs": [],
   "source": [
    "#final = final.reorder_levels(['user','city','city_id'])\n",
    "final.sort_index(level=0, inplace=True)"
   ]
  },
  {
   "cell_type": "code",
   "execution_count": null,
   "metadata": {},
   "outputs": [],
   "source": [
    "finished.to_csv(r\"/Users/tristannisbet/Documents/SM/Dataframe/new/users_design_matrix_cont1.csv\")"
   ]
  },
  {
   "cell_type": "code",
   "execution_count": null,
   "metadata": {},
   "outputs": [],
   "source": []
  },
  {
   "cell_type": "markdown",
   "metadata": {},
   "source": [
    "## Fake Data"
   ]
  },
  {
   "cell_type": "code",
   "execution_count": null,
   "metadata": {},
   "outputs": [],
   "source": [
    "\n",
    "real_data = pd.read_csv('/Users/tristannisbet/Documents/SM/Dataframe/new/all_city_data.csv')\n",
    "real_data"
   ]
  },
  {
   "cell_type": "code",
   "execution_count": null,
   "metadata": {},
   "outputs": [],
   "source": [
    "fake_data_n = pd.read_csv('/Users/tristannisbet/Documents/SM/Dataframe/new/500_users_noise.csv')\n",
    "fake_data_n"
   ]
  },
  {
   "cell_type": "code",
   "execution_count": null,
   "metadata": {},
   "outputs": [],
   "source": [
    "total = pd.concat([fake_data_n, real_data], axis=0)\n",
    "total"
   ]
  },
  {
   "cell_type": "code",
   "execution_count": null,
   "metadata": {},
   "outputs": [],
   "source": [
    "total.rename(columns={'1': 'food_one', '2': 'food_two', '3': 'food_three', '4': 'food_four'}, inplace=True)\n"
   ]
  },
  {
   "cell_type": "code",
   "execution_count": null,
   "metadata": {},
   "outputs": [],
   "source": []
  },
  {
   "cell_type": "markdown",
   "metadata": {},
   "source": [
    "## Fake user data Demographic questions\n"
   ]
  },
  {
   "cell_type": "code",
   "execution_count": null,
   "metadata": {},
   "outputs": [],
   "source": [
    "nationality_dict = {1: 'Australia', 2:'Canada', 3:'China', 4:'Finland', 5:'Honduras',\n",
    "              6:'India', 7:'Israel', 8:'Japan', 9:'Mexico', 10:'Pakistan', 11:'Philippines', 12:'United States'}\n",
    "\n",
    "gender_dict = {1: 'Male', 2: 'Female'}\n",
    "\n",
    "age_dict = {1 : '15-25', 2: '26-40', 3: '41-55', 4: '55+'}\n",
    "\n",
    "random_gender = [\"Male\", 'Female']\n",
    "random_age = ['15-25', '26-40', '41-55', '55+']"
   ]
  },
  {
   "cell_type": "code",
   "execution_count": null,
   "metadata": {},
   "outputs": [],
   "source": [
    "survey_fake = total.drop(columns=['city', 'label_id', 'country'])"
   ]
  },
  {
   "cell_type": "code",
   "execution_count": null,
   "metadata": {},
   "outputs": [],
   "source": [
    "survey_fake['nationality'] = np.random.randint(0,12, len(survey_fake))\n",
    "\n",
    "survey_fake['gender'] = np.random.choice(random_gender, size=len(survey_fake))\n",
    "survey_fake['age'] = np.random.choice(random_age, size=len(survey_fake))"
   ]
  },
  {
   "cell_type": "code",
   "execution_count": null,
   "metadata": {},
   "outputs": [],
   "source": [
    "survey_fake['one'] = np.random.randint(0,137, len(survey_fake))\n",
    "survey_fake['two'] = np.random.randint(0,137, len(survey_fake))\n",
    "survey_fake['three'] = np.random.randint(0,137, len(survey_fake))\n",
    "survey_fake['four'] = np.random.randint(0,137, len(survey_fake))\n",
    "survey_fake['five'] = np.random.randint(0,137, len(survey_fake))"
   ]
  },
  {
   "cell_type": "code",
   "execution_count": null,
   "metadata": {},
   "outputs": [],
   "source": []
  },
  {
   "cell_type": "code",
   "execution_count": null,
   "metadata": {},
   "outputs": [],
   "source": [
    "survey_fake.reset_index(inplace=True)\n",
    "survey_fake.rename(columns={'index': 'user'}, inplace=True)"
   ]
  },
  {
   "cell_type": "code",
   "execution_count": null,
   "metadata": {},
   "outputs": [],
   "source": [
    "top_fake = survey_fake[['user', 'one', 'two', 'three', 'four', 'five']]"
   ]
  },
  {
   "cell_type": "code",
   "execution_count": null,
   "metadata": {},
   "outputs": [],
   "source": [
    "top_fake"
   ]
  },
  {
   "cell_type": "code",
   "execution_count": null,
   "metadata": {},
   "outputs": [],
   "source": [
    "top_fake_melt = top_fake.melt(id_vars=['user'])\n",
    "    \n",
    "top_fake_melt['rank'] = top_fake_melt.apply(rank_from_col2,axis=1)\n",
    "\n",
    "\n",
    "\n",
    "def rank_from_col2(x):\n",
    "    if x.variable=='one':\n",
    "       return 5\n",
    "    elif x.variable=='two':\n",
    "       return 4\n",
    "    elif x.variable=='three':\n",
    "       return 3\n",
    "    elif x.variable=='four':\n",
    "       return 2\n",
    "    elif x.variable=='five':\n",
    "       return 1\n",
    "    elif x.value == 'None':\n",
    "        return 0 "
   ]
  },
  {
   "cell_type": "code",
   "execution_count": null,
   "metadata": {},
   "outputs": [],
   "source": [
    "top_fake_melt.rename(columns={'value':'city_id'}, inplace=True)\n",
    "top_fake_melt.set_index(['user', 'city_id'], inplace=True)\n",
    "top_fake_melt"
   ]
  },
  {
   "cell_type": "code",
   "execution_count": null,
   "metadata": {},
   "outputs": [],
   "source": [
    "work_fake.reset_index(level=1, inplace=True)\n",
    "work_fake.set_index('city_id', append=True, inplace=True)\n",
    "work_fake"
   ]
  },
  {
   "cell_type": "code",
   "execution_count": null,
   "metadata": {},
   "outputs": [],
   "source": [
    "sim_matrix_fake = pd.merge(left=work_fake, right=top_fake_melt[['rank']], left_index=True, right_index=True, how='left')\n",
    "#sim_matrix.fillna(0, inplace=True)\n",
    "#sim_matrix.sort_values('user', inplace=True)\n",
    "#sim_matrix.set_index('city_id', append=True, inplace=True)"
   ]
  },
  {
   "cell_type": "code",
   "execution_count": null,
   "metadata": {},
   "outputs": [],
   "source": [
    "sim_matrix_fake.drop(columns=['rank_x'], inplace=True)"
   ]
  },
  {
   "cell_type": "code",
   "execution_count": null,
   "metadata": {},
   "outputs": [],
   "source": [
    "sim_matrix_fake.fillna(0, inplace=True)"
   ]
  },
  {
   "cell_type": "code",
   "execution_count": null,
   "metadata": {},
   "outputs": [],
   "source": []
  },
  {
   "cell_type": "code",
   "execution_count": null,
   "metadata": {},
   "outputs": [],
   "source": []
  },
  {
   "cell_type": "code",
   "execution_count": null,
   "metadata": {},
   "outputs": [],
   "source": [
    "def add_top_city_fake(test_user):\n",
    "    possible_cities = test_user['city_id'].head(50).values.tolist()\n",
    "    sampled_list = random.sample(possible_cities, 5)\n",
    "    test_user.loc[test_user.city_id == sampled_list[0], \"rank\"] = 5\n",
    "    test_user.loc[test_user.city_id == sampled_list[1], \"rank\"] = 4\n",
    "    test_user.loc[test_user.city_id == sampled_list[2], \"rank\"] = 3\n",
    "    test_user.loc[test_user.city_id == sampled_list[3], \"rank\"] = 2\n",
    "    test_user.loc[test_user.city_id == sampled_list[4], \"rank\"] = 1\n",
    "    \n",
    "    return test_user\n",
    "    \n",
    "    "
   ]
  },
  {
   "cell_type": "code",
   "execution_count": null,
   "metadata": {},
   "outputs": [],
   "source": [
    "sim_fake['rank'] = 0"
   ]
  },
  {
   "cell_type": "code",
   "execution_count": null,
   "metadata": {},
   "outputs": [],
   "source": [
    "sim_fake.groupby('user').apply(add_top_city_fake) \n",
    "\n",
    "#df.groupby('columnName').apply(myFunction, ('arg1')\n"
   ]
  },
  {
   "cell_type": "code",
   "execution_count": null,
   "metadata": {},
   "outputs": [],
   "source": [
    "np.count_nonzero(sim_fake['rank'])"
   ]
  },
  {
   "cell_type": "code",
   "execution_count": null,
   "metadata": {},
   "outputs": [],
   "source": [
    "\n",
    "test_user = sim_fake.xs(0, level='user', drop_level=False).copy()"
   ]
  },
  {
   "cell_type": "code",
   "execution_count": null,
   "metadata": {},
   "outputs": [],
   "source": [
    "test_user.sort_values('sum', ascending=False, inplace=True)"
   ]
  },
  {
   "cell_type": "code",
   "execution_count": null,
   "metadata": {},
   "outputs": [],
   "source": [
    "possible_city = test_user['city_id'].head(50)"
   ]
  },
  {
   "cell_type": "code",
   "execution_count": null,
   "metadata": {},
   "outputs": [],
   "source": [
    "possible_cities = test_user['city_id'].head(50).values.tolist()"
   ]
  },
  {
   "cell_type": "code",
   "execution_count": null,
   "metadata": {},
   "outputs": [],
   "source": [
    "test_user"
   ]
  },
  {
   "cell_type": "code",
   "execution_count": null,
   "metadata": {},
   "outputs": [],
   "source": [
    "sampled_list = random.sample(possible_cities, 5)\n",
    "sampled_list"
   ]
  },
  {
   "cell_type": "code",
   "execution_count": null,
   "metadata": {},
   "outputs": [],
   "source": [
    "\n",
    "for u in sampled_list:\n",
    "    print(u)\n",
    "    test_user[test_use['city_id'] == u]"
   ]
  },
  {
   "cell_type": "code",
   "execution_count": null,
   "metadata": {},
   "outputs": [],
   "source": [
    "test_user['rank'] = 0"
   ]
  },
  {
   "cell_type": "code",
   "execution_count": null,
   "metadata": {},
   "outputs": [],
   "source": [
    "ok2 = add_top_city_fake(test_user)\n",
    "ok2"
   ]
  },
  {
   "cell_type": "code",
   "execution_count": null,
   "metadata": {},
   "outputs": [],
   "source": [
    "ok2[ok2['rank'] == 3]"
   ]
  },
  {
   "cell_type": "code",
   "execution_count": null,
   "metadata": {},
   "outputs": [],
   "source": [
    "np.count_nonzero(test_user['rank'])"
   ]
  },
  {
   "cell_type": "code",
   "execution_count": null,
   "metadata": {},
   "outputs": [],
   "source": [
    "test_user.loc[test_user.city_id == 69, \"rank\"] = 1"
   ]
  },
  {
   "cell_type": "code",
   "execution_count": null,
   "metadata": {},
   "outputs": [],
   "source": []
  },
  {
   "cell_type": "code",
   "execution_count": null,
   "metadata": {},
   "outputs": [],
   "source": [
    "test_user[test_user['rank'] == 1]\n",
    "    "
   ]
  },
  {
   "cell_type": "code",
   "execution_count": null,
   "metadata": {},
   "outputs": [],
   "source": [
    "hmmfix2[hmmfix2['rank'] == 1]"
   ]
  },
  {
   "cell_type": "code",
   "execution_count": null,
   "metadata": {},
   "outputs": [],
   "source": []
  }
 ],
 "metadata": {
  "kernelspec": {
   "display_name": "Python 3",
   "language": "python",
   "name": "python3"
  },
  "language_info": {
   "codemirror_mode": {
    "name": "ipython",
    "version": 3
   },
   "file_extension": ".py",
   "mimetype": "text/x-python",
   "name": "python",
   "nbconvert_exporter": "python",
   "pygments_lexer": "ipython3",
   "version": "3.7.6"
  }
 },
 "nbformat": 4,
 "nbformat_minor": 4
}
