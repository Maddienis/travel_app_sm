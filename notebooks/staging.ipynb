{
 "cells": [
  {
   "cell_type": "code",
   "execution_count": null,
   "metadata": {},
   "outputs": [],
   "source": [
    "import pandas as pd\n",
    "import numpy as np\n",
    "import sqlite3\n",
    "import seaborn as sns\n",
    "from matplotlib import pyplot as plt\n",
    "from sklearn import preprocessing as pp\n",
    "from sklearn.metrics.pairwise import cosine_similarity\n",
    "import ast\n"
   ]
  },
  {
   "cell_type": "code",
   "execution_count": null,
   "metadata": {},
   "outputs": [],
   "source": [
    "def get_df(table_name):\n",
    "    try:\n",
    "        conn = sqlite3.connect('/Users/tristannisbet/Documents/travel_app/places.db')\n",
    "\n",
    "    except Exception as e:\n",
    "        print('Error durring connection: ', str(e))\n",
    "    \n",
    "    sql = \"\"\"select * from {}\"\"\".format(table_name)\n",
    "    df = pd.read_sql_query(sql, conn)\n",
    "\n",
    "    return df"
   ]
  },
  {
   "cell_type": "code",
   "execution_count": null,
   "metadata": {},
   "outputs": [],
   "source": [
    "def createFoodDf():\n",
    "    one = get_df('restaurants_one')\n",
    "    two = get_df('restaurants_two')\n",
    "    three = get_df('restaurants_three')\n",
    "    four = get_df('restaurants_four')\n",
    "    top_rest = get_df('restaurants')\n",
    "    \n",
    "    all_price = pd.concat([one, two, three, four, top_rest], axis =0)\n",
    "    return(all_price)"
   ]
  },
  {
   "cell_type": "code",
   "execution_count": null,
   "metadata": {},
   "outputs": [],
   "source": [
    "def cleaningNullsCity(restaurants_all):\n",
    "    \n",
    "    restaurants_all['id'] = pd.to_numeric(restaurants_all.id)\n",
    "    restaurants_all['price_level'] = restaurants_all['price_level'].fillna(restaurants_all.groupby('city')['price_level'].transform('mean'))\n",
    "    restaurants_all.fillna(2.0, inplace=True)\n",
    "    #do I need this?\n",
    "    restaurants_all['price_level'] = restaurants_all['price_level'].astype(int)\n",
    "    \n",
    "    city_food = toCityLevel(restaurants_all)\n",
    "    city_food.drop(columns = ['avg_price'], inplace=True)\n",
    "    city_food.fillna(0, inplace=True)\n",
    "    \n",
    "    return city_food\n"
   ]
  },
  {
   "cell_type": "code",
   "execution_count": null,
   "metadata": {},
   "outputs": [],
   "source": [
    "def toCityLevel(df):\n",
    "    city_df = df.groupby(['country', 'city', 'id', 'price_level'])['name'].count().to_frame()\n",
    "    price_level = city_df.pivot_table(index=['country', 'city', 'id'], columns='price_level', values='name', aggfunc='first')\n",
    "    price_level['avg_price'] = df.groupby(['country', 'city', 'id'])['price_level'].mean()\n",
    "    \n",
    "\n",
    "\n",
    "    \n",
    "    return price_level"
   ]
  },
  {
   "cell_type": "code",
   "execution_count": null,
   "metadata": {},
   "outputs": [],
   "source": [
    "def addNanRowCity(food_df):\n",
    "    food_df.reset_index(inplace=True)\n",
    "    nan_row = {'country' : None, 'city': 'Zx', 'id': 200, 1.0: 0, 2.0: 0, 3.0: 0, 4.0: 0}\n",
    "    food_df = food_df.append(nan_row, ignore_index=True)\n",
    "    \n",
    "\n",
    "    \n",
    "    food_new = labelEncodeCity(food_df)\n",
    "    \n",
    "    return food_new\n",
    "\n",
    "\n",
    "\n",
    "# You might need to return both food and food_new. Food has city/country names\n",
    "\n",
    "def buildLabelEncoder():\n",
    "    \n",
    "    cities = get_df('cities')\n",
    "    new_row = {'id': 200, 'city': 'Zx', 'country': 'None'}\n",
    "    cities = cities.append(new_row, ignore_index=True)\n",
    "    \n",
    "    le = pp.LabelEncoder()\n",
    "    le.fit(cities.city)\n",
    "    \n",
    "    return le\n",
    "    \n",
    "def labelEncodeCity(food_df):\n",
    "    \n",
    "    le = buildLabelEncoder()\n",
    "    food_df['label_id'] = le.transform(food_df.city)\n",
    "    food_new = selectColumns(food_df)\n",
    "    \n",
    "    return food_new\n",
    "\n",
    "\n",
    "def selectColumns(food_df):\n",
    "    \n",
    "    food_df = food_df.drop(food_df[food_df.id == 200].index)\n",
    "    food_city = food_df[['label_id', 1.0, 2.0, 3.0, 4.0]].copy()\n",
    "    food_city.sort_values('label_id', inplace=True)\n",
    "    food_city.set_index('label_id', inplace=True)\n",
    "    \n",
    "    return food_city\n",
    "    \n",
    "\n",
    "def createFoodUserDf():\n",
    "    survey = get_df('survey_response')\n",
    "    food_user = survey[['food_one', 'food_two', 'food_three', 'food_four']]\n",
    "    \n",
    "    return food_user\n",
    "\n"
   ]
  },
  {
   "cell_type": "code",
   "execution_count": null,
   "metadata": {},
   "outputs": [],
   "source": [
    "# sim_city_food is similarity matrix for all cities and food data\n",
    "# sim_user_food is similarity matrix for all user and food data\n",
    "\n",
    "# cosine_sim_food is similarit matrix for all usersXcities (153x138)\n",
    "def simScoreFood(food_city, food_user):\n",
    "\n",
    "    normalized_city = pd.DataFrame(pp.normalize(food_city))    \n",
    "    normalized_user = pd.DataFrame(pp.normalize(food_user))\n",
    "\n",
    "\n",
    "    sim_city_food = pd.DataFrame(cosine_similarity(normalized_city))\n",
    "    sim_user_food = pd.DataFrame(cosine_similarity(normalized_user))\n",
    "    \n",
    "    cosine_sim_food = pd.DataFrame(cosine_similarity(normalized_user, normalized_city))\n",
    "\n",
    "    \n",
    "    return cosine_sim_food"
   ]
  },
  {
   "cell_type": "code",
   "execution_count": null,
   "metadata": {
    "scrolled": true
   },
   "outputs": [],
   "source": [
    "all_price = createFoodDf()\n",
    "all_price"
   ]
  },
  {
   "cell_type": "code",
   "execution_count": null,
   "metadata": {},
   "outputs": [],
   "source": [
    "all_price = cleaningNullsCity(all_price)\n",
    "all_price"
   ]
  },
  {
   "cell_type": "code",
   "execution_count": null,
   "metadata": {},
   "outputs": [],
   "source": [
    "food_city = addNanRowCity(all_price)\n",
    "food_city"
   ]
  },
  {
   "cell_type": "code",
   "execution_count": null,
   "metadata": {},
   "outputs": [],
   "source": [
    "food_user = createFoodUserDf()\n",
    "food_user"
   ]
  },
  {
   "cell_type": "code",
   "execution_count": null,
   "metadata": {},
   "outputs": [],
   "source": [
    "cosine_sim = simScoreFood(food_city, food_user)\n",
    "cosine_sim"
   ]
  },
  {
   "cell_type": "code",
   "execution_count": null,
   "metadata": {},
   "outputs": [],
   "source": []
  },
  {
   "cell_type": "markdown",
   "metadata": {},
   "source": [
    "## Attractions"
   ]
  },
  {
   "cell_type": "code",
   "execution_count": null,
   "metadata": {},
   "outputs": [],
   "source": [
    "\n",
    "attractions = get_df('attractions')\n",
    "attractions.sample(5)   "
   ]
  },
  {
   "cell_type": "code",
   "execution_count": null,
   "metadata": {},
   "outputs": [],
   "source": [
    "place_of_worship = ['place_of_worship', 'hindu_temple', 'church', 'mosque', 'synagogue']\n",
    "shopping = ['store', 'shopping_mall', 'clothing_store', 'electronics_store', 'grocery_or_supermarket', 'department_store']\n",
    "\n",
    "attractions_to_keep = ['amusement_park', 'museum', 'park', 'art_gallery', 'aquarium',\n",
    "                      'zoo', 'library', 'movie_theater', 'natural_feature'] + place_of_worship + shopping"
   ]
  },
  {
   "cell_type": "code",
   "execution_count": null,
   "metadata": {},
   "outputs": [],
   "source": [
    "def main_call(attraction_df):\n",
    "    attractions_split = split_types(attraction_df)\n",
    "    dummy = dummies(attractions_split)\n",
    "    by_city, all_attractions = attraction_count(dummy, attractions_split)\n",
    "    city_group = combineAttractionTypes(by_city)\n",
    "    city_attraction = labelEncodeAttraction(city_group)\n",
    "    clean_city_attraction, city_attraction = cleanCityAttraction(city_attraction)\n",
    "    \n",
    "    return clean_city_attraction, city_attraction\n",
    "\n",
    "def split_types(df):\n",
    "    df['split_types'] = [ast.literal_eval(x) for x in df.types]\n",
    "    df['split_types_str'] = [','.join(x) for x in df.split_types]\n",
    "    \n",
    "    return df\n",
    "\n",
    "def dummies(df):\n",
    "    dummies = df.split_types_str.str.get_dummies(sep=',')\n",
    "\n",
    "    return dummies\n",
    "\n",
    "def attraction_count(dummies_df, all_attractions_df):\n",
    "\n",
    "    all_attractions_df = pd.concat([all_attractions_df, dummies_df], axis=1)\n",
    "    type_col_names = attractions_to_keep\n",
    "    type_col_names.extend(['country', 'city', 'id'])\n",
    "    attraction_count = all_attractions_df[type_col_names].groupby(['country', 'city', 'id']).sum()\n",
    "    \n",
    "    return attraction_count, all_attractions_df\n",
    "\n",
    "def combineAttractionTypes(city_group):\n",
    "    city_group['place_of_worship2'] = city_group['place_of_worship'] + city_group['hindu_temple'] + city_group['church'] + city_group['mosque'] + city_group['synagogue']\n",
    "    city_group['store2'] = city_group['store'] + city_group['shopping_mall'] + city_group['clothing_store'] + city_group['electronics_store'] + city_group['grocery_or_supermarket'] + city_group['department_store']\n",
    "    \n",
    "    city_group.rename(columns={\"place_of_worship2\" : 'place_of_worship', 'store2': 'shop', \"place_of_worship\" : 'place_of_worship5',}, inplace=True)\n",
    "    \n",
    "    city_clean = city_group[['amusement_park', 'art_gallery', 'aquarium', 'library', 'movie_theater',\n",
    "                              'museum', 'natural_feature', 'park', 'place_of_worship', 'shop', 'zoo']].copy()\n",
    "    \n",
    "    return city_clean\n",
    "\n",
    "\n",
    "def labelEncodeAttraction(city_attraction):\n",
    "    le = buildLabelEncoder()\n",
    "    city_attraction.reset_index(inplace=True)\n",
    "    city_attraction['label_id'] = le.transform(city_attraction.city)\n",
    "    \n",
    "    return city_attraction\n",
    "\n",
    "def cleanCityAttraction(city_attraction):\n",
    "    city_attraction.sort_values('label_id', inplace=True)\n",
    "    #city_attraction.reset_index(inplace=True)\n",
    "    city_attraction.set_index('label_id', inplace=True)\n",
    "    city_attraction_clean = city_attraction.drop(columns=['city', 'id', 'country'])\n",
    "    \n",
    "    return city_attraction_clean, city_attraction\n"
   ]
  },
  {
   "cell_type": "code",
   "execution_count": null,
   "metadata": {},
   "outputs": [],
   "source": [
    "def createAttractionUserDf():\n",
    "    survey = get_df('survey_response')\n",
    "    user_attraction = survey[['amusement_park', 'art_gallery', 'aquarium', 'library', 'movie_theater',\n",
    "                              'museum', 'natural_feature', 'park', 'place_of_worship', 'shop', 'zoo']]\n",
    "    return user_attraction\n",
    "\n",
    "\n",
    "def AttractionSimScore(user_attraction, city_attraction):\n",
    "    \n",
    "    normalized_user_a = pd.DataFrame(pp.normalize(user_attraction))\n",
    "    normalized_city_a = pd.DataFrame(pp.normalize(city_attraction))\n",
    "    \n",
    "\n",
    "    sim_city_a = pd.DataFrame(cosine_similarity(normalized_city_a))\n",
    "\n",
    "    cosine_sim_attraction = pd.DataFrame(cosine_similarity(normalized_user_a, normalized_city_a))\n",
    "    \n",
    "    \n",
    "    return cosine_sim_attraction"
   ]
  },
  {
   "cell_type": "code",
   "execution_count": null,
   "metadata": {},
   "outputs": [],
   "source": [
    "city_attraction, city_attraction_with_country = main_call(attractions)\n",
    "user_attraction = createAttractionUserDf()\n",
    "\n"
   ]
  },
  {
   "cell_type": "code",
   "execution_count": null,
   "metadata": {},
   "outputs": [],
   "source": [
    "city_attraction"
   ]
  },
  {
   "cell_type": "code",
   "execution_count": null,
   "metadata": {},
   "outputs": [],
   "source": [
    "city_attraction_with_country"
   ]
  },
  {
   "cell_type": "code",
   "execution_count": null,
   "metadata": {},
   "outputs": [],
   "source": [
    "cosine_sim_attraction = AttractionSimScore(city_attraction, user_attraction)"
   ]
  },
  {
   "cell_type": "code",
   "execution_count": null,
   "metadata": {
    "scrolled": true
   },
   "outputs": [],
   "source": [
    "cosine_sim_attraction"
   ]
  },
  {
   "cell_type": "markdown",
   "metadata": {},
   "source": [
    "## Food and Attraction City"
   ]
  },
  {
   "cell_type": "code",
   "execution_count": null,
   "metadata": {},
   "outputs": [],
   "source": [
    "def mergeAttractionFood(attraction_df, food_df):\n",
    "    city = pd.merge(attraction_df, food_df, on = ['country', 'city', 'id'], how = 'outer')\n",
    "    city.reset_index(inplace=True)\n",
    "    city['id'] = pd.to_numeric(city['id'])\n",
    "    city.set_index(['country', 'city', 'id'], inplace=True)\n",
    "    city.sort_values('id', inplace=True)\n",
    "    return city"
   ]
  },
  {
   "cell_type": "code",
   "execution_count": null,
   "metadata": {},
   "outputs": [],
   "source": [
    "city_attraction_with_country"
   ]
  },
  {
   "cell_type": "code",
   "execution_count": null,
   "metadata": {},
   "outputs": [],
   "source": [
    "city = mergeAttractionFood(city_attraction_with_country, all_price)"
   ]
  },
  {
   "cell_type": "code",
   "execution_count": null,
   "metadata": {},
   "outputs": [],
   "source": [
    "\n",
    "city_group.xs('Germany', level='country', drop_level=False)"
   ]
  },
  {
   "cell_type": "code",
   "execution_count": null,
   "metadata": {},
   "outputs": [],
   "source": []
  }
 ],
 "metadata": {
  "kernelspec": {
   "display_name": "Python 3",
   "language": "python",
   "name": "python3"
  },
  "language_info": {
   "codemirror_mode": {
    "name": "ipython",
    "version": 3
   },
   "file_extension": ".py",
   "mimetype": "text/x-python",
   "name": "python",
   "nbconvert_exporter": "python",
   "pygments_lexer": "ipython3",
   "version": "3.7.6"
  }
 },
 "nbformat": 4,
 "nbformat_minor": 4
}
