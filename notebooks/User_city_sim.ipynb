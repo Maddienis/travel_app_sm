{
 "cells": [
  {
   "cell_type": "code",
   "execution_count": null,
   "metadata": {},
   "outputs": [],
   "source": [
    "import pandas as pd\n",
    "import numpy as np\n",
    "import sqlite3\n",
    "import seaborn as sns\n",
    "from matplotlib import pyplot as plt\n",
    "from sklearn import preprocessing as pp\n",
    "from sklearn.metrics.pairwise import cosine_similarity"
   ]
  },
  {
   "cell_type": "code",
   "execution_count": null,
   "metadata": {},
   "outputs": [],
   "source": [
    "def get_df(table_name):\n",
    "    try:\n",
    "        conn = sqlite3.connect('/Users/tristannisbet/Documents/travel_app/places.db')\n",
    "\n",
    "    except Exception as e:\n",
    "        print('Error durring connection: ', str(e))\n",
    "    \n",
    "    sql = \"\"\"select * from {}\"\"\".format(table_name)\n",
    "    df = pd.read_sql_query(sql, conn)\n",
    "\n",
    "    return df"
   ]
  },
  {
   "cell_type": "code",
   "execution_count": null,
   "metadata": {},
   "outputs": [],
   "source": [
    "one = get_df('restaurants_one')\n",
    "two = get_df('restaurants_two')\n",
    "three = get_df('restaurants_three')\n",
    "four = get_df('restaurants_four')\n",
    "top_rest = get_df('restaurants')\n"
   ]
  },
  {
   "cell_type": "code",
   "execution_count": null,
   "metadata": {},
   "outputs": [],
   "source": [
    "all_price = pd.concat([one, two, three, four, top_rest], axis =0)\n",
    "all_price.info()"
   ]
  },
  {
   "cell_type": "code",
   "execution_count": null,
   "metadata": {},
   "outputs": [],
   "source": [
    "all_price['id'] = pd.to_numeric(all_price.id)"
   ]
  },
  {
   "cell_type": "code",
   "execution_count": null,
   "metadata": {},
   "outputs": [],
   "source": [
    "all_price.price_level.fillna(0, inplace=True)"
   ]
  },
  {
   "cell_type": "code",
   "execution_count": null,
   "metadata": {},
   "outputs": [],
   "source": [
    "all_price.price_level.isnull().any()"
   ]
  },
  {
   "cell_type": "code",
   "execution_count": null,
   "metadata": {},
   "outputs": [],
   "source": [
    "all_price.isnull().any()"
   ]
  },
  {
   "cell_type": "code",
   "execution_count": null,
   "metadata": {},
   "outputs": [],
   "source": [
    "def to_city(df):\n",
    "    city_df = df.groupby(['country', 'city', 'id', 'price_level'])['name'].count().to_frame()\n",
    "    price_level = city_df.pivot_table(index=['country', 'city', 'id'], columns='price_level', values='name', aggfunc='first')\n",
    "    price_level['avg_price'] = df.groupby(['country', 'city', 'id'])['price_level'].mean()\n",
    "\n",
    "    \n",
    "    return price_level"
   ]
  },
  {
   "cell_type": "code",
   "execution_count": null,
   "metadata": {},
   "outputs": [],
   "source": [
    "food = to_city(all_price)\n",
    "food"
   ]
  },
  {
   "cell_type": "code",
   "execution_count": null,
   "metadata": {},
   "outputs": [],
   "source": [
    "food.reset_index(inplace=True)\n",
    "food.drop(columns = ['avg_price'], inplace=True)\n",
    "food"
   ]
  },
  {
   "cell_type": "code",
   "execution_count": null,
   "metadata": {},
   "outputs": [],
   "source": [
    "le = pp.LabelEncoder()\n",
    "food['label_id'] = le.fit_transform(food.city)\n",
    "food"
   ]
  },
  {
   "cell_type": "code",
   "execution_count": null,
   "metadata": {},
   "outputs": [],
   "source": [
    "#Reverse encoder\n",
    "#list(le.inverse_transform(food.label_id))"
   ]
  },
  {
   "cell_type": "code",
   "execution_count": null,
   "metadata": {},
   "outputs": [],
   "source": [
    "food_new = food[['label_id', 1.0, 2.0, 3.0, 4.0]].copy()\n",
    "food_new"
   ]
  },
  {
   "cell_type": "code",
   "execution_count": null,
   "metadata": {},
   "outputs": [],
   "source": [
    "food_new.sort_values('label_id', inplace=True)\n",
    "food_new.set_index('label_id', inplace=True)"
   ]
  },
  {
   "cell_type": "code",
   "execution_count": null,
   "metadata": {},
   "outputs": [],
   "source": [
    "food_new.fillna(0, inplace=True)"
   ]
  },
  {
   "cell_type": "code",
   "execution_count": null,
   "metadata": {},
   "outputs": [],
   "source": [
    "food_new"
   ]
  },
  {
   "cell_type": "code",
   "execution_count": null,
   "metadata": {},
   "outputs": [],
   "source": [
    "normalized = pp.normalize(food_new)\n",
    "normalized_city = pd.DataFrame(normalized)\n",
    "normalized_city"
   ]
  },
  {
   "cell_type": "markdown",
   "metadata": {},
   "source": [
    "### Survey / user food data"
   ]
  },
  {
   "cell_type": "code",
   "execution_count": null,
   "metadata": {},
   "outputs": [],
   "source": [
    "survey_food = pd.read_csv('/Users/tristannisbet/Documents/SM/survey_food_only.csv', index_col=0)\n",
    "survey_food"
   ]
  },
  {
   "cell_type": "code",
   "execution_count": null,
   "metadata": {},
   "outputs": [],
   "source": [
    "replace_map = {'Never': 0, 'Rarely': 1, 'Sometimes': 2, 'Often': 3, 'Always': 4}\n",
    "\n",
    "df_food_replace = survey_food.replace(replace_map)"
   ]
  },
  {
   "cell_type": "code",
   "execution_count": null,
   "metadata": {},
   "outputs": [],
   "source": [
    "df_food_replace.drop(columns=['nationality', 'age', 'gender'], inplace=True)"
   ]
  },
  {
   "cell_type": "code",
   "execution_count": null,
   "metadata": {},
   "outputs": [],
   "source": [
    "normalized_user = pd.DataFrame(pp.normalize(df_food_replace))\n",
    "normalized_user"
   ]
  },
  {
   "cell_type": "code",
   "execution_count": null,
   "metadata": {},
   "outputs": [],
   "source": [
    "normalized_city"
   ]
  },
  {
   "cell_type": "code",
   "execution_count": null,
   "metadata": {},
   "outputs": [],
   "source": [
    "cosine_sim = pd.DataFrame(cosine_similarity(normalized_user, normalized_city))\n",
    "cosine_sim"
   ]
  },
  {
   "cell_type": "code",
   "execution_count": null,
   "metadata": {},
   "outputs": [],
   "source": [
    "def find_similar_n(df,n):\n",
    "    order = np.argsort(df.values, axis=1)[:, :n]\n",
    "    df = df.apply(lambda x: pd.Series(x.sort_values(ascending=False)\n",
    "           .iloc[:n].index, \n",
    "          index=['top{}'.format(i) for i in range(1, n+1)]), axis=1)\n",
    "    return df"
   ]
  },
  {
   "cell_type": "code",
   "execution_count": null,
   "metadata": {},
   "outputs": [],
   "source": [
    "top_10_city = find_similar_n(cosine_sim,10)\n",
    "top_10_city"
   ]
  },
  {
   "cell_type": "code",
   "execution_count": null,
   "metadata": {},
   "outputs": [],
   "source": [
    "user_1 = top_10_city.iloc[0, 0:5].values.tolist()\n",
    "user_1"
   ]
  },
  {
   "cell_type": "code",
   "execution_count": null,
   "metadata": {},
   "outputs": [],
   "source": [
    "for city in user_1:\n",
    "    city2 = food[food.label_id == city]\n",
    "    print(city2.city)"
   ]
  },
  {
   "cell_type": "markdown",
   "metadata": {},
   "source": [
    "# Attraction Similarity"
   ]
  },
  {
   "cell_type": "code",
   "execution_count": null,
   "metadata": {},
   "outputs": [],
   "source": [
    "city_attraction = pd.read_csv('/Users/tristannisbet/Documents/SM/city_attraction_only.csv', index_col=0)\n",
    "city_attraction"
   ]
  },
  {
   "cell_type": "code",
   "execution_count": null,
   "metadata": {},
   "outputs": [],
   "source": [
    "# Drop Guilin because there were no restaurants found\n",
    "city_attraction.reset_index(inplace=True)\n",
    "city_attraction = city_attraction.drop(city_attraction[city_attraction.id == 80].index)\n",
    "city_attraction.set_index('country')"
   ]
  },
  {
   "cell_type": "code",
   "execution_count": null,
   "metadata": {},
   "outputs": [],
   "source": [
    "city_attraction.set_index('country', inplace=True)\n",
    "city_attraction.sort_values('country')"
   ]
  },
  {
   "cell_type": "code",
   "execution_count": null,
   "metadata": {
    "scrolled": false
   },
   "outputs": [],
   "source": [
    "food"
   ]
  },
  {
   "cell_type": "code",
   "execution_count": null,
   "metadata": {},
   "outputs": [],
   "source": [
    "le = pp.LabelEncoder()\n",
    "city_attraction['label_id'] = le.fit_transform(city_attraction.city)\n",
    "city_attraction"
   ]
  },
  {
   "cell_type": "code",
   "execution_count": null,
   "metadata": {},
   "outputs": [],
   "source": [
    "city_attraction.sort_values('label_id', inplace=True)\n",
    "city_attraction_clean = city_attraction.copy()\n",
    "city_attraction_clean.set_index('label_id', inplace=True)\n",
    "city_attraction_clean.drop(columns=['city', 'id'], inplace=True)\n",
    "city_attraction_clean"
   ]
  },
  {
   "cell_type": "code",
   "execution_count": null,
   "metadata": {},
   "outputs": [],
   "source": [
    "df = pd.read_csv('/Users/tristannisbet/Documents/SM/survey_responses.csv')"
   ]
  },
  {
   "cell_type": "code",
   "execution_count": null,
   "metadata": {},
   "outputs": [],
   "source": [
    "df.rename(columns = {'What country are you from? ': 'nationality', 'Age Range': 'age', 'Gender': 'gender',\n",
    "                    '1. Choose your top favorite 3-5 cities you have traveled to that are on this list.  - Favorite City #1': 'favorite_city_one',\n",
    "                    '2. Favorite city #2': 'favorite_city_two', '3. Favorite city #3': 'favorite_city_three',\n",
    "                    '4. Favorite city #4': 'favorite_city_four', '5. Favorite city #5': 'favorite_city_five',\n",
    "                    \"6. If there's a city you have been and loved that is not on this list, add it below. \": 'extra_favorite',\n",
    "                    \"7. What cities on this list have you been to and not enjoyed?   - Least favorite city #1\": 'least_favorite_one',\n",
    "                    '8. Least favorite city #2': 'least_favorite_two', \n",
    "                    \"9. If there's a city you have been to and haven't liked that is not on this list, add it below\": 'extra_least_favorite',\n",
    "                    \"What price range of restaurant do you eat at when you travel? [Price level: 1 (Fast/Cheap Eats)]\": 'food_one',\n",
    "                    \"What price range of restaurant do you eat at when you travel? [Price level: 2 (Casual Dining)]\": 'food_two',\n",
    "                    \"What price range of restaurant do you eat at when you travel? [Price level: 3 (Upscale Dining)]\": 'food_three',\n",
    "                    \"What price range of restaurant do you eat at when you travel? [Price level: 4 (Fine Dining/High End)]\": 'food_four',\n",
    "                    \"From the following types of tourist attractions, which ones are you likely to go do while traveling? [Art Gallery]\": 'art_gallery',\n",
    "                    \"From the following types of tourist attractions, which ones are you likely to go do while traveling? [Library]\": 'library',\n",
    "                    \"From the following types of tourist attractions, which ones are you likely to go do while traveling? [Museum ]\": 'museum',\n",
    "                    \"From the following types of tourist attractions, which ones are you likely to go do while traveling? [Aquarium]\": 'aquarium',\n",
    "                    \"From the following types of tourist attractions, which ones are you likely to go do while traveling? [Amusement Park ]\": 'amusement_park',\n",
    "                    \"From the following types of tourist attractions, which ones are you likely to go do while traveling? [Zoo]\": 'zoo',\n",
    "                    \"From the following types of tourist attractions, which ones are you likely to go do while traveling? [Movie Theater]\": 'movie_theater',\n",
    "                    \"From the following types of tourist attractions, which ones are you likely to go do while traveling? [Mall / Souvenir shop ]\": 'store',\n",
    "                    \"From the following types of tourist attractions, which ones are you likely to go do while traveling? [Park ]\": 'park',\n",
    "                    \"From the following types of tourist attractions, which ones are you likely to go do while traveling? [Natural Feature / Beach]\": 'natural_feature',\n",
    "                    \"From the following types of tourist attractions, which ones are you likely to go do while traveling? [Place of Worship (Church/Temple)]\": 'place_of_worship'}, inplace=True )"
   ]
  },
  {
   "cell_type": "code",
   "execution_count": null,
   "metadata": {},
   "outputs": [],
   "source": [
    "user_attraction = df[['nationality', 'age', 'gender', 'amusement_park', 'museum', 'park', 'art_gallery', 'aquarium', 'zoo', \n",
    "                     'library', 'movie_theater', 'natural_feature', 'place_of_worship', 'store']].copy()\n",
    "user_attraction"
   ]
  },
  {
   "cell_type": "code",
   "execution_count": null,
   "metadata": {},
   "outputs": [],
   "source": [
    "user_attraction.drop(columns=['nationality', 'age', 'gender'], inplace=True)"
   ]
  },
  {
   "cell_type": "code",
   "execution_count": null,
   "metadata": {
    "scrolled": true
   },
   "outputs": [],
   "source": [
    "replace_map = {'1 ( Would NOT go)': 1, '2': 2, '3': 3, '4 (Definitely would go)': 4}\n",
    "\n",
    "user_attraction = user_attraction.replace(replace_map)\n"
   ]
  },
  {
   "cell_type": "code",
   "execution_count": null,
   "metadata": {},
   "outputs": [],
   "source": [
    "user_attraction"
   ]
  },
  {
   "cell_type": "code",
   "execution_count": null,
   "metadata": {},
   "outputs": [],
   "source": [
    "city_attraction_clean"
   ]
  },
  {
   "cell_type": "code",
   "execution_count": null,
   "metadata": {},
   "outputs": [],
   "source": [
    "normalized_user_a = pd.DataFrame(pp.normalize(user_attraction))\n",
    "normalized_user_a"
   ]
  },
  {
   "cell_type": "code",
   "execution_count": null,
   "metadata": {},
   "outputs": [],
   "source": [
    "normalized_city_a = pd.DataFrame(pp.normalize(city_attraction_clean))\n",
    "normalized_city_a"
   ]
  },
  {
   "cell_type": "code",
   "execution_count": null,
   "metadata": {},
   "outputs": [],
   "source": [
    "cosine_sim_a = pd.DataFrame(cosine_similarity(normalized_user_a, normalized_city_a))\n",
    "cosine_sim_a"
   ]
  },
  {
   "cell_type": "code",
   "execution_count": null,
   "metadata": {},
   "outputs": [],
   "source": [
    "top_city_a = find_similar_n(cosine_sim_a,10)\n",
    "top_city_a"
   ]
  },
  {
   "cell_type": "markdown",
   "metadata": {},
   "source": [
    "### New dataframe build\n",
    "Every cityxuser in row, \n",
    "Food sim, attraction sim, rank columns"
   ]
  },
  {
   "cell_type": "code",
   "execution_count": null,
   "metadata": {},
   "outputs": [],
   "source": [
    "cities = get_df('city_country')"
   ]
  },
  {
   "cell_type": "code",
   "execution_count": null,
   "metadata": {},
   "outputs": [],
   "source": [
    "cities = cities.drop(cities[cities.city == 'Guilin'].index)\n"
   ]
  },
  {
   "cell_type": "code",
   "execution_count": null,
   "metadata": {},
   "outputs": [],
   "source": [
    "cities"
   ]
  },
  {
   "cell_type": "code",
   "execution_count": null,
   "metadata": {},
   "outputs": [],
   "source": [
    "lst = []\n",
    "for i in range(153):\n",
    "    for c in cities.city:\n",
    "\n",
    "        a = c + \"_\" + str(i)\n",
    "        lst.append(a)"
   ]
  },
  {
   "cell_type": "code",
   "execution_count": null,
   "metadata": {},
   "outputs": [],
   "source": [
    "new = pd.DataFrame(lst)\n",
    "new"
   ]
  },
  {
   "cell_type": "code",
   "execution_count": null,
   "metadata": {},
   "outputs": [],
   "source": [
    "split = new[0].str.split(\"_\", n = 1, expand = True)\n",
    "split"
   ]
  },
  {
   "cell_type": "code",
   "execution_count": null,
   "metadata": {},
   "outputs": [],
   "source": [
    "split.rename(columns={0:'city', 1:'user'}, inplace=True)"
   ]
  },
  {
   "cell_type": "code",
   "execution_count": null,
   "metadata": {},
   "outputs": [],
   "source": [
    "split"
   ]
  },
  {
   "cell_type": "code",
   "execution_count": null,
   "metadata": {},
   "outputs": [],
   "source": [
    "food[food.city == 'Hong Kong']"
   ]
  },
  {
   "cell_type": "code",
   "execution_count": null,
   "metadata": {},
   "outputs": [],
   "source": [
    "split2 = pd.merge(left=split, right=food[['label_id', 'city']], on='city')\n",
    "split2.rename(columns={'label_id': 'city_id'}, inplace=True)"
   ]
  },
  {
   "cell_type": "code",
   "execution_count": null,
   "metadata": {},
   "outputs": [],
   "source": [
    "split2"
   ]
  },
  {
   "cell_type": "code",
   "execution_count": null,
   "metadata": {},
   "outputs": [],
   "source": [
    "split2['user'] = pd.to_numeric(split2['user'])\n"
   ]
  },
  {
   "cell_type": "code",
   "execution_count": null,
   "metadata": {},
   "outputs": [],
   "source": [
    "split2.sort_values(['user', 'city_id'], inplace=True)"
   ]
  },
  {
   "cell_type": "code",
   "execution_count": null,
   "metadata": {},
   "outputs": [],
   "source": [
    "for user, city_id in zip(split2.user, split2.city_id):\n",
    "    split2['food_sim'] = cosine_sim.iloc[user, city_id]"
   ]
  },
  {
   "cell_type": "code",
   "execution_count": null,
   "metadata": {},
   "outputs": [],
   "source": [
    "for user, city_id in zip(split2.user, split2.city_id):\n",
    "    split2['attraction_sim'] = cosine_sim_a.iloc[user, city_id]"
   ]
  },
  {
   "cell_type": "code",
   "execution_count": null,
   "metadata": {},
   "outputs": [],
   "source": [
    "\n",
    "split2.set_index(['user', 'city_id'])"
   ]
  },
  {
   "cell_type": "code",
   "execution_count": null,
   "metadata": {},
   "outputs": [],
   "source": [
    "#split2['rank'] = 0\n"
   ]
  },
  {
   "cell_type": "code",
   "execution_count": null,
   "metadata": {},
   "outputs": [],
   "source": [
    "split2"
   ]
  },
  {
   "cell_type": "code",
   "execution_count": null,
   "metadata": {
    "scrolled": true
   },
   "outputs": [],
   "source": [
    "top_city = df[['favorite_city_one', 'favorite_city_two', 'favorite_city_three', 'favorite_city_four', 'favorite_city_five']].copy()\n",
    "top_city"
   ]
  },
  {
   "cell_type": "code",
   "execution_count": null,
   "metadata": {},
   "outputs": [],
   "source": [
    "top_city.reset_index(inplace=True)\n",
    "top_city.rename(columns={'index': 'user'}, inplace=True)"
   ]
  },
  {
   "cell_type": "code",
   "execution_count": null,
   "metadata": {},
   "outputs": [],
   "source": [
    "top_city"
   ]
  },
  {
   "cell_type": "code",
   "execution_count": null,
   "metadata": {},
   "outputs": [],
   "source": [
    "top_city_melt = top_city.melt(id_vars=['user'])"
   ]
  },
  {
   "cell_type": "code",
   "execution_count": null,
   "metadata": {},
   "outputs": [],
   "source": [
    "def rank_from_col(x):\n",
    "    if x.variable=='favorite_city_one':\n",
    "       return 5\n",
    "    elif x.variable=='favorite_city_two':\n",
    "       return 4\n",
    "    elif x.variable=='favorite_city_three':\n",
    "       return 3\n",
    "    elif x.variable=='favorite_city_four':\n",
    "       return 2\n",
    "    elif x.variable=='favorite_city_five':\n",
    "       return 1\n",
    "    elif x.value is None:\n",
    "        return 0 \n",
    "    "
   ]
  },
  {
   "cell_type": "code",
   "execution_count": null,
   "metadata": {},
   "outputs": [],
   "source": []
  },
  {
   "cell_type": "code",
   "execution_count": null,
   "metadata": {},
   "outputs": [],
   "source": [
    "top_city_melt['rank'] = top_city_melt.apply(rank_from_col,axis=1)\n",
    "top_city_melt"
   ]
  },
  {
   "cell_type": "code",
   "execution_count": null,
   "metadata": {},
   "outputs": [],
   "source": [
    "top_city_no_na = top_city_melt.dropna()"
   ]
  },
  {
   "cell_type": "code",
   "execution_count": null,
   "metadata": {},
   "outputs": [],
   "source": [
    "top_city_no_na.rename(columns={'value':'city'}, inplace=True)"
   ]
  },
  {
   "cell_type": "code",
   "execution_count": null,
   "metadata": {},
   "outputs": [],
   "source": [
    "split2.set_index(['user', 'city'], inplace=True)\n",
    "top_city_no_na.set_index(['user', 'city'], inplace=True)"
   ]
  },
  {
   "cell_type": "code",
   "execution_count": null,
   "metadata": {},
   "outputs": [],
   "source": [
    "top_city_no_na"
   ]
  },
  {
   "cell_type": "code",
   "execution_count": null,
   "metadata": {},
   "outputs": [],
   "source": [
    "split2"
   ]
  },
  {
   "cell_type": "code",
   "execution_count": null,
   "metadata": {},
   "outputs": [],
   "source": [
    "new = pd.merge(left=split2, right=top_city_no_na['rank'], left_index=True, right_index=True, how='left')\n"
   ]
  },
  {
   "cell_type": "code",
   "execution_count": null,
   "metadata": {},
   "outputs": [],
   "source": [
    "new[new['rank'] == 2]"
   ]
  },
  {
   "cell_type": "code",
   "execution_count": null,
   "metadata": {},
   "outputs": [],
   "source": [
    "diff = set(split.city).intersection(set(split3.city))\n",
    "diff = list(diff)\n",
    "print(len(diff))"
   ]
  },
  {
   "cell_type": "code",
   "execution_count": null,
   "metadata": {},
   "outputs": [],
   "source": []
  }
 ],
 "metadata": {
  "kernelspec": {
   "display_name": "Python 3",
   "language": "python",
   "name": "python3"
  },
  "language_info": {
   "codemirror_mode": {
    "name": "ipython",
    "version": 3
   },
   "file_extension": ".py",
   "mimetype": "text/x-python",
   "name": "python",
   "nbconvert_exporter": "python",
   "pygments_lexer": "ipython3",
   "version": "3.7.6"
  }
 },
 "nbformat": 4,
 "nbformat_minor": 4
}
