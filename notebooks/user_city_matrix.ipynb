{
 "cells": [
  {
   "cell_type": "code",
   "execution_count": null,
   "metadata": {},
   "outputs": [],
   "source": [
    "import pandas as pd\n",
    "import numpy as np\n",
    "import sqlite3\n",
    "import ast\n",
    "from sklearn.preprocessing import OneHotEncoder\n",
    "from sklearn.metrics.pairwise import cosine_similarity"
   ]
  },
  {
   "cell_type": "code",
   "execution_count": null,
   "metadata": {},
   "outputs": [],
   "source": [
    "user_response = pd.read_csv('/Users/tristannisbet/Documents/SM/survey_responses.csv')"
   ]
  },
  {
   "cell_type": "code",
   "execution_count": null,
   "metadata": {},
   "outputs": [],
   "source": [
    "def get_df(table_name):\n",
    "    try:\n",
    "        conn = sqlite3.connect('/Users/tristannisbet/Documents/travel_app/places.db')\n",
    "\n",
    "    except Exception as e:\n",
    "        print('Error durring connection: ', str(e))\n",
    "    \n",
    "    sql = \"\"\"select * from {}\"\"\".format(table_name)\n",
    "    df = pd.read_sql_query(sql, conn)\n",
    "\n",
    "    return df"
   ]
  },
  {
   "cell_type": "code",
   "execution_count": null,
   "metadata": {},
   "outputs": [],
   "source": [
    "def find_similar_n(df,n):\n",
    "    order = np.argsort(df.values, axis=1)[:, :n]\n",
    "    df = df.apply(lambda x: pd.Series(x.sort_values(ascending=False)\n",
    "           .iloc[:n].index, \n",
    "          index=['top{}'.format(i) for i in range(1, n+1)]), axis=1)\n",
    "    return df"
   ]
  },
  {
   "cell_type": "code",
   "execution_count": null,
   "metadata": {},
   "outputs": [],
   "source": [
    "user_response.rename(columns = {'What country are you from? ': 'nationality', 'Age Range': 'age', 'Gender': 'gender',\n",
    "                    '1. Choose your top favorite 3-5 cities you have traveled to that are on this list.  - Favorite City #1': 'favorite_city_one',\n",
    "                    '2. Favorite city #2': 'favorite_city_two', '3. Favorite city #3': 'favorite_city_three',\n",
    "                    '4. Favorite city #4': 'favorite_city_four', '5. Favorite city #5': 'favorite_city_five',\n",
    "                    \"6. If there's a city you have been and loved that is not on this list, add it below. \": 'extra_favorite',\n",
    "                    \"7. What cities on this list have you been to and not enjoyed?   - Least favorite city #1\": 'least_favorite_one',\n",
    "                    '8. Least favorite city #2': 'least_favorite_two', \n",
    "                    \"9. If there's a city you have been to and haven't liked that is not on this list, add it below\": 'extra_least_favorite',\n",
    "                    \"What price range of restaurant do you eat at when you travel? [Price level: 1 (Fast/Cheap Eats)]\": 'food_one',\n",
    "                    \"What price range of restaurant do you eat at when you travel? [Price level: 2 (Casual Dining)]\": 'food_two',\n",
    "                    \"What price range of restaurant do you eat at when you travel? [Price level: 3 (Upscale Dining)]\": 'food_three',\n",
    "                    \"What price range of restaurant do you eat at when you travel? [Price level: 4 (Fine Dining/High End)]\": 'food_four',\n",
    "                    \"From the following types of tourist attractions, which ones are you likely to go do while traveling? [Art Gallery]\": 'art_gallery',\n",
    "                    \"From the following types of tourist attractions, which ones are you likely to go do while traveling? [Library]\": 'library',\n",
    "                    \"From the following types of tourist attractions, which ones are you likely to go do while traveling? [Museum ]\": 'museum',\n",
    "                    \"From the following types of tourist attractions, which ones are you likely to go do while traveling? [Aquarium]\": 'aquarium',\n",
    "                    \"From the following types of tourist attractions, which ones are you likely to go do while traveling? [Amusement Park ]\": 'amusement_park',\n",
    "                    \"From the following types of tourist attractions, which ones are you likely to go do while traveling? [Zoo]\": 'zoo',\n",
    "                    \"From the following types of tourist attractions, which ones are you likely to go do while traveling? [Movie Theater]\": 'movie_theater',\n",
    "                    \"From the following types of tourist attractions, which ones are you likely to go do while traveling? [Mall / Souvenir shop ]\": 'store',\n",
    "                    \"From the following types of tourist attractions, which ones are you likely to go do while traveling? [Park ]\": 'park',\n",
    "                    \"From the following types of tourist attractions, which ones are you likely to go do while traveling? [Natural Feature / Beach]\": 'natural_feature',\n",
    "                    \"From the following types of tourist attractions, which ones are you likely to go do while traveling? [Place of Worship (Church/Temple)]\": 'place_of_worship'}, inplace=True )"
   ]
  },
  {
   "cell_type": "code",
   "execution_count": null,
   "metadata": {},
   "outputs": [],
   "source": [
    "user_response.fillna('None', inplace=True)"
   ]
  },
  {
   "cell_type": "code",
   "execution_count": null,
   "metadata": {},
   "outputs": [],
   "source": [
    "user_response.drop(columns=['Timestamp', 'extra_favorite', 'extra_least_favorite'], inplace=True)"
   ]
  },
  {
   "cell_type": "code",
   "execution_count": null,
   "metadata": {},
   "outputs": [],
   "source": [
    "user_city_only = user_response.copy()\n",
    "user_city_only.drop(columns=['nationality', 'age', 'gender'], inplace=True)\n",
    "user_city_only"
   ]
  },
  {
   "cell_type": "code",
   "execution_count": null,
   "metadata": {},
   "outputs": [],
   "source": [
    "dummy = pd.get_dummies(df)\n",
    "dummy_city = pd.get_dummies(user_city_only)"
   ]
  },
  {
   "cell_type": "code",
   "execution_count": null,
   "metadata": {},
   "outputs": [],
   "source": [
    "cosine_user = cosine_similarity(dummy)\n",
    "cosine = cosine_similarity(dummy_city)"
   ]
  },
  {
   "cell_type": "code",
   "execution_count": null,
   "metadata": {},
   "outputs": [],
   "source": [
    "# cosine does not have user demographics \n",
    "cosine_user = pd.DataFrame(cosine_user)\n",
    "cosine = pd.DataFrame(cosine)"
   ]
  },
  {
   "cell_type": "code",
   "execution_count": null,
   "metadata": {},
   "outputs": [],
   "source": [
    "cosine_user"
   ]
  },
  {
   "cell_type": "code",
   "execution_count": null,
   "metadata": {},
   "outputs": [],
   "source": [
    "cosine"
   ]
  },
  {
   "cell_type": "code",
   "execution_count": null,
   "metadata": {},
   "outputs": [],
   "source": [
    "top_10_user = find_similar_n(cosine_user,10)\n",
    "top_10_user_c= find_similar_n(cosine,10)"
   ]
  },
  {
   "cell_type": "code",
   "execution_count": null,
   "metadata": {
    "scrolled": true
   },
   "outputs": [],
   "source": [
    "top_10_user"
   ]
  },
  {
   "cell_type": "code",
   "execution_count": null,
   "metadata": {
    "scrolled": true
   },
   "outputs": [],
   "source": [
    "top_10_user_c"
   ]
  },
  {
   "cell_type": "code",
   "execution_count": null,
   "metadata": {
    "scrolled": true
   },
   "outputs": [],
   "source": [
    "one = get_df('restaurants_one')\n",
    "two = get_df('restaurants_two')\n",
    "three = get_df('restaurants_three')\n",
    "four = get_df('restaurants_four')\n",
    "top_rest = get_df('restaurants')\n",
    "all_food = pd.concat([one, two, three, four, top_rest], axis =0)\n",
    "all_food.sample(5)"
   ]
  },
  {
   "cell_type": "code",
   "execution_count": null,
   "metadata": {},
   "outputs": [],
   "source": [
    "attractions2 = get_df('attractions')\n",
    "attractions.sample(5)"
   ]
  },
  {
   "cell_type": "code",
   "execution_count": null,
   "metadata": {},
   "outputs": [],
   "source": [
    "def to_city(df):\n",
    "    city_df = df.groupby(['country', 'city', 'id', 'price_level'])['name'].count().to_frame()\n",
    "    price_level = city_df.pivot_table(index=['country', 'city', 'id'], columns='price_level', values='name', aggfunc='first')\n",
    "    price_level['avg_price'] = df.groupby(['country', 'city', 'id'])['price_level'].mean()\n",
    "\n",
    "    \n",
    "    return price_level"
   ]
  },
  {
   "cell_type": "code",
   "execution_count": null,
   "metadata": {},
   "outputs": [],
   "source": [
    "food = to_city(all_food)\n",
    "food"
   ]
  },
  {
   "cell_type": "code",
   "execution_count": null,
   "metadata": {},
   "outputs": [],
   "source": [
    "place_of_worship = ['place_of_worship', 'hindu_temple', 'church', 'mosque', 'synagogue']\n",
    "shopping = ['store', 'shopping_mall', 'clothing_store', 'electronics_store', 'grocery_or_supermarket', 'department_store']\n",
    "\n",
    "attractions_to_keep = ['amusement_park', 'museum', 'park', 'art_gallery', 'aquarium',\n",
    "                      'zoo', 'library', 'movie_theater', 'natural_feature'] + place_of_worship + shopping"
   ]
  },
  {
   "cell_type": "code",
   "execution_count": null,
   "metadata": {},
   "outputs": [],
   "source": [
    "def main_call(attraction_df):\n",
    "    attractions_split = split_types(attraction_df)\n",
    "    dummy = dummies(attractions_split)\n",
    "    by_city, all_attractions = attraction_count(dummy, attractions_split)\n",
    "    \n",
    "    return by_city, all_attractions\n",
    "\n",
    "def split_types(df):\n",
    "    df['split_types'] = [ast.literal_eval(x) for x in df.types]\n",
    "    df['split_types_str'] = [','.join(x) for x in df.split_types]\n",
    "    \n",
    "    return df\n",
    "\n",
    "def dummies(df):\n",
    "    dummies = df.split_types_str.str.get_dummies(sep=',')\n",
    "\n",
    "    return dummies\n",
    "\n",
    "def attraction_count(dummies_df, all_attractions_df):\n",
    "    all_attractions_df = pd.concat([all_attractions_df, dummies_df], axis=1)\n",
    "    type_col_names = attractions_to_keep\n",
    "    type_col_names.extend(['country', 'city', 'id'])\n",
    "    attraction_count = all_attractions_df[type_col_names].groupby(['country', 'city', 'id']).sum()\n",
    "    \n",
    "    return attraction_count, all_attractions_df"
   ]
  },
  {
   "cell_type": "code",
   "execution_count": null,
   "metadata": {},
   "outputs": [],
   "source": [
    "city_group, all_attractions2 = main_call(attractions2)"
   ]
  },
  {
   "cell_type": "code",
   "execution_count": null,
   "metadata": {},
   "outputs": [],
   "source": [
    "all_attractions"
   ]
  },
  {
   "cell_type": "code",
   "execution_count": null,
   "metadata": {},
   "outputs": [],
   "source": [
    "city"
   ]
  },
  {
   "cell_type": "code",
   "execution_count": null,
   "metadata": {},
   "outputs": [],
   "source": [
    "def attraction_food(attraction_df, food_df):\n",
    "    city = pd.merge(attraction_df, food_df, on = ['country', 'city', 'id'], how = 'outer')\n",
    "    city.reset_index(inplace=True)\n",
    "    city['id'] = pd.to_numeric(city['id'])\n",
    "    city.set_index(['country', 'city', 'id'], inplace=True)\n",
    "    city.sort_values('id', inplace=True)\n",
    "    return city"
   ]
  },
  {
   "cell_type": "code",
   "execution_count": null,
   "metadata": {},
   "outputs": [],
   "source": [
    "city = attraction_food(food, city)"
   ]
  },
  {
   "cell_type": "code",
   "execution_count": null,
   "metadata": {},
   "outputs": [],
   "source": [
    "city"
   ]
  },
  {
   "cell_type": "code",
   "execution_count": null,
   "metadata": {},
   "outputs": [],
   "source": [
    "# Filling null values so cosine will work\n",
    "city[city[1.0].isnull()]\n",
    "city.fillna(0, inplace=True)"
   ]
  },
  {
   "cell_type": "code",
   "execution_count": null,
   "metadata": {},
   "outputs": [],
   "source": [
    "cosine_city = pd.DataFrame(cosine_similarity(city))\n",
    "\n",
    "cosine_city"
   ]
  },
  {
   "cell_type": "code",
   "execution_count": null,
   "metadata": {},
   "outputs": [],
   "source": [
    "top_10_city = find_similar_n(cosine_city, 10)\n",
    "top_10_city"
   ]
  },
  {
   "cell_type": "markdown",
   "metadata": {},
   "source": [
    "### All user and city matrix completed"
   ]
  },
  {
   "cell_type": "code",
   "execution_count": null,
   "metadata": {},
   "outputs": [],
   "source": [
    "def select_favorite():\n",
    "    "
   ]
  },
  {
   "cell_type": "code",
   "execution_count": null,
   "metadata": {},
   "outputs": [],
   "source": [
    "user_response"
   ]
  },
  {
   "cell_type": "code",
   "execution_count": null,
   "metadata": {},
   "outputs": [],
   "source": []
  }
 ],
 "metadata": {
  "kernelspec": {
   "display_name": "Python 3",
   "language": "python",
   "name": "python3"
  },
  "language_info": {
   "codemirror_mode": {
    "name": "ipython",
    "version": 3
   },
   "file_extension": ".py",
   "mimetype": "text/x-python",
   "name": "python",
   "nbconvert_exporter": "python",
   "pygments_lexer": "ipython3",
   "version": "3.7.6"
  }
 },
 "nbformat": 4,
 "nbformat_minor": 4
}
