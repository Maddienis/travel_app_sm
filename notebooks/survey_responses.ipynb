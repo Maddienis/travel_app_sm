{
 "cells": [
  {
   "cell_type": "code",
   "execution_count": null,
   "metadata": {},
   "outputs": [],
   "source": [
    "import pandas as pd\n",
    "import numpy as np\n",
    "from sklearn.preprocessing import OneHotEncoder\n",
    "from sklearn.metrics.pairwise import cosine_similarity"
   ]
  },
  {
   "cell_type": "code",
   "execution_count": null,
   "metadata": {},
   "outputs": [],
   "source": [
    "df = pd.read_csv('/Users/tristannisbet/Documents/SM/survey_responses.csv')"
   ]
  },
  {
   "cell_type": "code",
   "execution_count": null,
   "metadata": {},
   "outputs": [],
   "source": [
    "df.head()"
   ]
  },
  {
   "cell_type": "code",
   "execution_count": null,
   "metadata": {},
   "outputs": [],
   "source": [
    "df.rename(columns = {'What country are you from? ': 'nationality', 'Age Range': 'age', 'Gender': 'gender',\n",
    "                    '1. Choose your top favorite 3-5 cities you have traveled to that are on this list.  - Favorite City #1': 'favorite_city_one',\n",
    "                    '2. Favorite city #2': 'favorite_city_two', '3. Favorite city #3': 'favorite_city_three',\n",
    "                    '4. Favorite city #4': 'favorite_city_four', '5. Favorite city #5': 'favorite_city_five',\n",
    "                    \"6. If there's a city you have been and loved that is not on this list, add it below. \": 'extra_favorite',\n",
    "                    \"7. What cities on this list have you been to and not enjoyed?   - Least favorite city #1\": 'least_favorite_one',\n",
    "                    '8. Least favorite city #2': 'least_favorite_two', \n",
    "                    \"9. If there's a city you have been to and haven't liked that is not on this list, add it below\": 'extra_least_favorite',\n",
    "                    \"What price range of restaurant do you eat at when you travel? [Price level: 1 (Fast/Cheap Eats)]\": 'food_one',\n",
    "                    \"What price range of restaurant do you eat at when you travel? [Price level: 2 (Casual Dining)]\": 'food_two',\n",
    "                    \"What price range of restaurant do you eat at when you travel? [Price level: 3 (Upscale Dining)]\": 'food_three',\n",
    "                    \"What price range of restaurant do you eat at when you travel? [Price level: 4 (Fine Dining/High End)]\": 'food_four',\n",
    "                    \"From the following types of tourist attractions, which ones are you likely to go do while traveling? [Art Gallery]\": 'art_gallery',\n",
    "                    \"From the following types of tourist attractions, which ones are you likely to go do while traveling? [Library]\": 'library',\n",
    "                    \"From the following types of tourist attractions, which ones are you likely to go do while traveling? [Museum ]\": 'museum',\n",
    "                    \"From the following types of tourist attractions, which ones are you likely to go do while traveling? [Aquarium]\": 'aquarium',\n",
    "                    \"From the following types of tourist attractions, which ones are you likely to go do while traveling? [Amusement Park ]\": 'amusement_park',\n",
    "                    \"From the following types of tourist attractions, which ones are you likely to go do while traveling? [Zoo]\": 'zoo',\n",
    "                    \"From the following types of tourist attractions, which ones are you likely to go do while traveling? [Movie Theater]\": 'movie_theater',\n",
    "                    \"From the following types of tourist attractions, which ones are you likely to go do while traveling? [Mall / Souvenir shop ]\": 'store',\n",
    "                    \"From the following types of tourist attractions, which ones are you likely to go do while traveling? [Park ]\": 'park',\n",
    "                    \"From the following types of tourist attractions, which ones are you likely to go do while traveling? [Natural Feature / Beach]\": 'natural_feature',\n",
    "                    \"From the following types of tourist attractions, which ones are you likely to go do while traveling? [Place of Worship (Church/Temple)]\": 'place_of_worship'}, inplace=True )"
   ]
  },
  {
   "cell_type": "code",
   "execution_count": null,
   "metadata": {},
   "outputs": [],
   "source": [
    "df.columns"
   ]
  },
  {
   "cell_type": "code",
   "execution_count": null,
   "metadata": {},
   "outputs": [],
   "source": [
    "df.fillna('None', inplace=True)"
   ]
  },
  {
   "cell_type": "code",
   "execution_count": null,
   "metadata": {},
   "outputs": [],
   "source": [
    "df.drop(columns=['Timestamp', 'extra_favorite', 'extra_least_favorite'], inplace=True)"
   ]
  },
  {
   "cell_type": "code",
   "execution_count": null,
   "metadata": {},
   "outputs": [],
   "source": [
    "df.columns"
   ]
  },
  {
   "cell_type": "code",
   "execution_count": null,
   "metadata": {},
   "outputs": [],
   "source": [
    "df"
   ]
  },
  {
   "cell_type": "code",
   "execution_count": null,
   "metadata": {},
   "outputs": [],
   "source": [
    "city_df = df.copy()"
   ]
  },
  {
   "cell_type": "code",
   "execution_count": null,
   "metadata": {},
   "outputs": [],
   "source": [
    "city_df.drop(columns=['nationality', 'age', 'gender'], inplace=True)\n",
    "city_df"
   ]
  },
  {
   "cell_type": "code",
   "execution_count": null,
   "metadata": {},
   "outputs": [],
   "source": [
    "city_df.reset_index(drop=False, inplace=True)\n",
    "city_df.rename(columns={'index': 'user_id'}, inplace=True)"
   ]
  },
  {
   "cell_type": "code",
   "execution_count": null,
   "metadata": {},
   "outputs": [],
   "source": [
    "dummy = pd.get_dummies(df)\n",
    "dummy_city = pd.get_dummies(city_df)"
   ]
  },
  {
   "cell_type": "code",
   "execution_count": null,
   "metadata": {},
   "outputs": [],
   "source": [
    "dummy"
   ]
  },
  {
   "cell_type": "code",
   "execution_count": null,
   "metadata": {},
   "outputs": [],
   "source": [
    "dummy_city"
   ]
  },
  {
   "cell_type": "code",
   "execution_count": null,
   "metadata": {},
   "outputs": [],
   "source": [
    "# Not using one hot encoder..\n",
    "#enc = OneHotEncoder(handle_unknown='ignore', sparse=False)\n",
    "#X_enc = enc.fit_transform(df)\n",
    "#X_enc"
   ]
  },
  {
   "cell_type": "code",
   "execution_count": null,
   "metadata": {},
   "outputs": [],
   "source": [
    "cosine = cosine_similarity(dummy)\n",
    "cosine_city = cosine_similarity(dummy_city)"
   ]
  },
  {
   "cell_type": "code",
   "execution_count": null,
   "metadata": {},
   "outputs": [],
   "source": [
    "# city does not have user demographics\n",
    "cosine_df = pd.DataFrame(cosine)\n",
    "cosine_df_city = pd.DataFrame(cosine_city)"
   ]
  },
  {
   "cell_type": "code",
   "execution_count": null,
   "metadata": {},
   "outputs": [],
   "source": [
    "cosine_df_city"
   ]
  },
  {
   "cell_type": "code",
   "execution_count": null,
   "metadata": {},
   "outputs": [],
   "source": [
    "def find_similar_n(df,n):\n",
    "    order = np.argsort(df.values, axis=1)[:, :n]\n",
    "    df = df.apply(lambda x: pd.Series(x.sort_values(ascending=False)\n",
    "           .iloc[:n].index, \n",
    "          index=['top{}'.format(i) for i in range(1, n+1)]), axis=1)\n",
    "    return df"
   ]
  },
  {
   "cell_type": "code",
   "execution_count": null,
   "metadata": {},
   "outputs": [],
   "source": [
    "top_10 = find_similar_n(cosine_df,10)\n",
    "top_10_c= find_similar_n(cosine_df_city,10)"
   ]
  },
  {
   "cell_type": "code",
   "execution_count": null,
   "metadata": {},
   "outputs": [],
   "source": [
    "top_10_c"
   ]
  },
  {
   "cell_type": "code",
   "execution_count": null,
   "metadata": {
    "scrolled": true
   },
   "outputs": [],
   "source": [
    "top_10"
   ]
  },
  {
   "cell_type": "code",
   "execution_count": null,
   "metadata": {},
   "outputs": [],
   "source": [
    "df.iloc[[149, 130, 110, 105, 0, 54], 3:9]"
   ]
  },
  {
   "cell_type": "code",
   "execution_count": null,
   "metadata": {},
   "outputs": [],
   "source": [
    "df = city_df[['user_id', 'favorite_city_one', 'favorite_city_two', 'favorite_city_three', 'favorite_city_four', 'favorite_city_five']].copy()"
   ]
  },
  {
   "cell_type": "code",
   "execution_count": null,
   "metadata": {},
   "outputs": [],
   "source": [
    "df"
   ]
  },
  {
   "cell_type": "code",
   "execution_count": null,
   "metadata": {},
   "outputs": [],
   "source": [
    "df_backwards = df.rename(columns={'favorite_city_one': 5, 'favorite_city_two': 4, 'favorite_city_three': 3,\n",
    "                  'favorite_city_four': 2, 'favorite_city_five': 1})\n",
    "df_backwards"
   ]
  },
  {
   "cell_type": "code",
   "execution_count": null,
   "metadata": {},
   "outputs": [],
   "source": [
    "df.rename(columns={'favorite_city_one': 1, 'favorite_city_two': 2, 'favorite_city_three': 3,\n",
    "                  'favorite_city_four': 4, 'favorite_city_five': 5}, inplace=True)"
   ]
  },
  {
   "cell_type": "code",
   "execution_count": null,
   "metadata": {},
   "outputs": [],
   "source": [
    "melted = pd.melt(df, id_vars = ['user_id'], value_vars = [1,2,3,4,5])\n",
    "melted_b = pd.melt(df, id_vars = ['user_id'], value_vars = [5,4,3,2,1])\n",
    "#price_level = city_df.pivot_table(index=['country', 'city', 'id'], columns='price_level', values='name', aggfunc='first')\n",
    "#pd.melt(df, id_vars =['Name'], value_vars =['Course']) \n"
   ]
  },
  {
   "cell_type": "code",
   "execution_count": null,
   "metadata": {},
   "outputs": [],
   "source": [
    "melted"
   ]
  },
  {
   "cell_type": "code",
   "execution_count": null,
   "metadata": {},
   "outputs": [],
   "source": [
    "melted.rename(columns={'value': 'city', 'variable':'rank'}, inplace=True)\n",
    "melted = melted[['user_id', 'city', 'rank']]\n",
    "\n",
    "melted_b.rename(columns={'value': 'city', 'variable':'rank'}, inplace=True)\n",
    "melted_b = melted[['user_id', 'city', 'rank']]\n"
   ]
  },
  {
   "cell_type": "code",
   "execution_count": null,
   "metadata": {},
   "outputs": [],
   "source": [
    "melted.sort_values('user_id', inplace=True)\n",
    "melted.reset_index(drop=True, inplace=True)\n",
    "\n",
    "melted_b.sort_values('user_id', inplace=True)\n",
    "melted_b.reset_index(drop=True, inplace=True)"
   ]
  },
  {
   "cell_type": "code",
   "execution_count": null,
   "metadata": {},
   "outputs": [],
   "source": [
    "\n",
    "melted['rank'] = pd.to_numeric(melted['rank'])\n",
    "melted_b['rank'] = pd.to_numeric(melted['rank'])\n"
   ]
  },
  {
   "cell_type": "code",
   "execution_count": null,
   "metadata": {},
   "outputs": [],
   "source": [
    "melted_b.drop(melted_b[melted_b.city == 'None'].index, inplace=True)\n",
    "melted.drop(melted[melted.city == 'None'].index, inplace=True)\n"
   ]
  },
  {
   "cell_type": "code",
   "execution_count": null,
   "metadata": {},
   "outputs": [],
   "source": [
    "melted"
   ]
  },
  {
   "cell_type": "code",
   "execution_count": null,
   "metadata": {},
   "outputs": [],
   "source": [
    "#suprise_5 = melted.to_csv(r\"/Users/tristannisbet/Documents/SM/Dataframe/suprise_5.csv\", index=False)\n",
    "#suprise_b = melted_b.to_csv(r\"/Users/tristannisbet/Documents/SM/Dataframe/suprise_b.csv\", index=False)\n"
   ]
  },
  {
   "cell_type": "code",
   "execution_count": null,
   "metadata": {},
   "outputs": [],
   "source": [
    "from surprise import SVD\n",
    "from surprise import Dataset\n",
    "from surprise.model_selection import cross_validate\n",
    "from surprise import Reader\n",
    "from surprise.model_selection import KFold\n",
    "from surprise import accuracy\n"
   ]
  },
  {
   "cell_type": "code",
   "execution_count": null,
   "metadata": {},
   "outputs": [],
   "source": [
    "from sklearn.preprocessing import LabelEncoder\n",
    "labelencoder = LabelEncoder()\n",
    "melted.iloc[:, 1] = labelencoder.fit_transform(melted.iloc[:, 1])"
   ]
  },
  {
   "cell_type": "code",
   "execution_count": null,
   "metadata": {},
   "outputs": [],
   "source": [
    "# Change it back to countries\n",
    "melted.iloc[:, 1] = labelencoder.inverse_transform(melted.iloc[:, 1])"
   ]
  },
  {
   "cell_type": "code",
   "execution_count": null,
   "metadata": {},
   "outputs": [],
   "source": [
    "reader= Reader(rating_scale=(1.0, 3.0))\n",
    "data= Dataset.load_from_df(melted[['user_id', 'city', 'rank']], reader)\n"
   ]
  },
  {
   "cell_type": "code",
   "execution_count": null,
   "metadata": {},
   "outputs": [],
   "source": [
    "melted"
   ]
  },
  {
   "cell_type": "code",
   "execution_count": null,
   "metadata": {},
   "outputs": [],
   "source": [
    "kf = KFold(n_splits=3)\n",
    "algo = SVD()\n",
    "\n",
    "for trainset, testset in kf.split(data):\n",
    "\n",
    "    # train and test algorithm.\n",
    "    algo.fit(trainset)\n",
    "    predictions = algo.test(testset)\n",
    "\n",
    "    # Compute and print Root Mean Squared Error\n",
    "    accuracy.rmse(predictions, verbose=True)"
   ]
  },
  {
   "cell_type": "code",
   "execution_count": null,
   "metadata": {},
   "outputs": [],
   "source": [
    "predictions"
   ]
  },
  {
   "cell_type": "code",
   "execution_count": null,
   "metadata": {},
   "outputs": [],
   "source": [
    "mix = melted[['user_id', 'rank', 'city']].copy()"
   ]
  },
  {
   "cell_type": "code",
   "execution_count": null,
   "metadata": {},
   "outputs": [],
   "source": [
    "mix.sort_values('city')"
   ]
  },
  {
   "cell_type": "code",
   "execution_count": null,
   "metadata": {},
   "outputs": [],
   "source": [
    "reader2 = Reader(rating_scale=(1.0, 80.0))\n",
    "data2 = Dataset.load_from_df(melted[['user_id', 'rank', 'city']], reader)"
   ]
  },
  {
   "cell_type": "code",
   "execution_count": null,
   "metadata": {},
   "outputs": [],
   "source": [
    "kf = KFold(n_splits=3)\n",
    "algo = SVD()\n",
    "\n",
    "for trainset, testset in kf.split(data2):\n",
    "\n",
    "    # train and test algorithm.\n",
    "    algo.fit(trainset)\n",
    "    predictions = algo.test(testset)\n",
    "\n",
    "    # Compute and print Root Mean Squared Error\n",
    "    accuracy.rmse(predictions, verbose=True)"
   ]
  },
  {
   "cell_type": "code",
   "execution_count": null,
   "metadata": {},
   "outputs": [],
   "source": [
    "predictions"
   ]
  },
  {
   "cell_type": "code",
   "execution_count": null,
   "metadata": {},
   "outputs": [],
   "source": [
    "from surprise import SVD\n",
    "from surprise import Dataset\n",
    "from surprise.model_selection import GridSearchCV\n",
    "\n",
    "# Use movielens-100K\n",
    "#data = Dataset.load_builtin('ml-100k')\n",
    "\n",
    "param_grid = {'n_epochs': [5, 10], 'lr_all': [0.002, 0.005],\n",
    "              'reg_all': [0.4, 0.6]}\n",
    "gs = GridSearchCV(SVD, param_grid, measures=['rmse', 'mae'], cv=3)\n",
    "\n",
    "gs.fit(data)\n",
    "\n",
    "# best RMSE score\n",
    "print(gs.best_score['rmse'])\n",
    "\n",
    "# combination of parameters that gave the best RMSE score\n",
    "print(gs.best_params['rmse'])"
   ]
  },
  {
   "cell_type": "code",
   "execution_count": null,
   "metadata": {},
   "outputs": [],
   "source": []
  },
  {
   "cell_type": "code",
   "execution_count": null,
   "metadata": {},
   "outputs": [],
   "source": []
  }
 ],
 "metadata": {
  "kernelspec": {
   "display_name": "Python 3",
   "language": "python",
   "name": "python3"
  },
  "language_info": {
   "codemirror_mode": {
    "name": "ipython",
    "version": 3
   },
   "file_extension": ".py",
   "mimetype": "text/x-python",
   "name": "python",
   "nbconvert_exporter": "python",
   "pygments_lexer": "ipython3",
   "version": "3.7.6"
  }
 },
 "nbformat": 4,
 "nbformat_minor": 4
}
